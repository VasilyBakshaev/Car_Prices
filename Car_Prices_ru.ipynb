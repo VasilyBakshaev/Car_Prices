{
  "cells": [
    {
      "cell_type": "markdown",
      "metadata": {
        "id": "w0GKU0S-LLcs"
      },
      "source": [
        "# Предсказание цен на автомобили"
      ]
    },
    {
      "cell_type": "markdown",
      "metadata": {
        "id": "KAKDoEKHLLcv"
      },
      "source": [
        "Задача - на основе данных о продажах автомобилей с пробегом (технические характеристики, комплектации и цены и т.д.) обучить несколько моделей машинного обучения и определить самую эффективную, исходя из следующих параметров: время обучения, скорость предсказания и качество предсказания (rmse).\n",
        "Выбранная модель предназначена для использования в интернет-сервисах по продаже подержанных автомобилей как помощник для определения цены."
      ]
    },
    {
      "cell_type": "markdown",
      "metadata": {
        "id": "9Pr8JJD_LLcv"
      },
      "source": [
        "## Импорт библиотек"
      ]
    },
    {
      "cell_type": "code",
      "source": [
        "! pip install -q CatBoost"
      ],
      "metadata": {
        "id": "QlIQ7bf2NKCo"
      },
      "execution_count": 117,
      "outputs": []
    },
    {
      "cell_type": "code",
      "execution_count": 118,
      "metadata": {
        "colab": {
          "base_uri": "https://localhost:8080/"
        },
        "id": "fHQtXiA1LLcv",
        "outputId": "d6e917ee-5234-4562-de49-7491eb37ab0e"
      },
      "outputs": [
        {
          "output_type": "stream",
          "name": "stdout",
          "text": [
            "Drive already mounted at /content/drive; to attempt to forcibly remount, call drive.mount(\"/content/drive\", force_remount=True).\n"
          ]
        }
      ],
      "source": [
        "import pandas as pd\n",
        "import numpy as np\n",
        "import time\n",
        "\n",
        "from sklearn.preprocessing import StandardScaler\n",
        "from sklearn.preprocessing import OrdinalEncoder\n",
        "\n",
        "from sklearn.ensemble import RandomForestRegressor\n",
        "from sklearn.tree import DecisionTreeRegressor\n",
        "from sklearn.dummy import DummyRegressor\n",
        "from sklearn.linear_model import LinearRegression\n",
        "\n",
        "from catboost import CatBoostRegressor\n",
        "from lightgbm import LGBMRegressor\n",
        "\n",
        "from sklearn.model_selection import train_test_split\n",
        "from sklearn.model_selection import GridSearchCV\n",
        "from sklearn.model_selection import cross_val_score\n",
        "\n",
        "from sklearn.metrics import mean_squared_error as mse\n",
        "from sklearn.metrics import make_scorer\n",
        "\n",
        "from google.colab import drive\n",
        "drive.mount('/content/drive')\n",
        "\n",
        "import matplotlib.pyplot as plt\n",
        "import seaborn as sns\n",
        "sns.set_theme(style=\"darkgrid\")"
      ]
    },
    {
      "cell_type": "code",
      "execution_count": 119,
      "metadata": {
        "id": "Wuz6cVOtLLcw"
      },
      "outputs": [],
      "source": [
        "def rmse(y_true, y_pred):\n",
        "    return mse(y_true, y_pred)**0.5"
      ]
    },
    {
      "cell_type": "code",
      "execution_count": 120,
      "metadata": {
        "id": "LxyNjWbZLLcw"
      },
      "outputs": [],
      "source": [
        "rmse_scorer = make_scorer(rmse, greater_is_better=False)"
      ]
    },
    {
      "cell_type": "markdown",
      "metadata": {
        "id": "0klgyuuiLLcw"
      },
      "source": [
        "Создадим пустой список, он пригодиться для сравнения моделей в конце работы."
      ]
    },
    {
      "cell_type": "code",
      "execution_count": 121,
      "metadata": {
        "id": "outQmN-DLLcw"
      },
      "outputs": [],
      "source": [
        "compare_data = [[], [], [], [], [], []]"
      ]
    },
    {
      "cell_type": "markdown",
      "metadata": {
        "id": "xLh7iUO1LLcw"
      },
      "source": [
        "## Подготовка данных"
      ]
    },
    {
      "cell_type": "code",
      "execution_count": 122,
      "metadata": {
        "id": "puvm_FvrLLcx"
      },
      "outputs": [],
      "source": [
        "df = pd.read_csv('/content/drive/MyDrive/Practicum_projects/\\\n",
        "Car_Prices/autos.csv')"
      ]
    },
    {
      "cell_type": "code",
      "execution_count": 123,
      "metadata": {
        "colab": {
          "base_uri": "https://localhost:8080/"
        },
        "id": "gOsYgpr8LLcx",
        "outputId": "434e8158-0b6c-4755-8c8b-6e047e34b4e9"
      },
      "outputs": [
        {
          "output_type": "execute_result",
          "data": {
            "text/plain": [
              "Index(['DateCrawled', 'Price', 'VehicleType', 'RegistrationYear', 'Gearbox',\n",
              "       'Power', 'Model', 'Kilometer', 'RegistrationMonth', 'FuelType', 'Brand',\n",
              "       'Repaired', 'DateCreated', 'NumberOfPictures', 'PostalCode',\n",
              "       'LastSeen'],\n",
              "      dtype='object')"
            ]
          },
          "metadata": {},
          "execution_count": 123
        }
      ],
      "source": [
        "df.columns"
      ]
    },
    {
      "cell_type": "code",
      "execution_count": 124,
      "metadata": {
        "id": "t1sHWmuGLLcx"
      },
      "outputs": [],
      "source": [
        "df.columns = ['date_crawled', 'price', 'vehicle_type', 'registration_year', 'gearbox',\n",
        "       'power', 'model', 'kilometer', 'registration_month', 'fuel_type', 'brand',\n",
        "       'not_repaired', 'date_created', 'number_of_pictures', 'postal_code',\n",
        "       'last_seen']"
      ]
    },
    {
      "cell_type": "code",
      "execution_count": 125,
      "metadata": {
        "colab": {
          "base_uri": "https://localhost:8080/"
        },
        "id": "qVXlQFFlLLcx",
        "outputId": "0c1229b5-bea9-4737-b97f-2ef2069d52af"
      },
      "outputs": [
        {
          "output_type": "stream",
          "name": "stdout",
          "text": [
            "<class 'pandas.core.frame.DataFrame'>\n",
            "RangeIndex: 354369 entries, 0 to 354368\n",
            "Data columns (total 16 columns):\n",
            " #   Column              Non-Null Count   Dtype \n",
            "---  ------              --------------   ----- \n",
            " 0   date_crawled        354369 non-null  object\n",
            " 1   price               354369 non-null  int64 \n",
            " 2   vehicle_type        316879 non-null  object\n",
            " 3   registration_year   354369 non-null  int64 \n",
            " 4   gearbox             334536 non-null  object\n",
            " 5   power               354369 non-null  int64 \n",
            " 6   model               334664 non-null  object\n",
            " 7   kilometer           354369 non-null  int64 \n",
            " 8   registration_month  354369 non-null  int64 \n",
            " 9   fuel_type           321474 non-null  object\n",
            " 10  brand               354369 non-null  object\n",
            " 11  not_repaired        283215 non-null  object\n",
            " 12  date_created        354369 non-null  object\n",
            " 13  number_of_pictures  354369 non-null  int64 \n",
            " 14  postal_code         354369 non-null  int64 \n",
            " 15  last_seen           354369 non-null  object\n",
            "dtypes: int64(7), object(9)\n",
            "memory usage: 43.3+ MB\n"
          ]
        }
      ],
      "source": [
        "df.info()"
      ]
    },
    {
      "cell_type": "code",
      "execution_count": 126,
      "metadata": {
        "colab": {
          "base_uri": "https://localhost:8080/"
        },
        "id": "YV2odj0vLLcx",
        "outputId": "71979102-8750-4245-8033-b992b4e5581a"
      },
      "outputs": [
        {
          "output_type": "execute_result",
          "data": {
            "text/plain": [
              "date_crawled          0.000000\n",
              "price                 0.000000\n",
              "vehicle_type          0.105794\n",
              "registration_year     0.000000\n",
              "gearbox               0.055967\n",
              "power                 0.000000\n",
              "model                 0.055606\n",
              "kilometer             0.000000\n",
              "registration_month    0.000000\n",
              "fuel_type             0.092827\n",
              "brand                 0.000000\n",
              "not_repaired          0.200791\n",
              "date_created          0.000000\n",
              "number_of_pictures    0.000000\n",
              "postal_code           0.000000\n",
              "last_seen             0.000000\n",
              "dtype: float64"
            ]
          },
          "metadata": {},
          "execution_count": 126
        }
      ],
      "source": [
        "df.isna().mean()"
      ]
    },
    {
      "cell_type": "code",
      "execution_count": 127,
      "metadata": {
        "scrolled": true,
        "colab": {
          "base_uri": "https://localhost:8080/",
          "height": 357
        },
        "id": "mAoifxrcLLcx",
        "outputId": "56dc7cdd-59f0-406b-f259-e11f3dc056cb"
      },
      "outputs": [
        {
          "output_type": "execute_result",
          "data": {
            "text/plain": [
              "          date_crawled  price vehicle_type  registration_year gearbox  power  \\\n",
              "0  2016-03-24 11:52:17    480          NaN               1993  manual      0   \n",
              "1  2016-03-24 10:58:45  18300        coupe               2011  manual    190   \n",
              "2  2016-03-14 12:52:21   9800          suv               2004    auto    163   \n",
              "3  2016-03-17 16:54:04   1500        small               2001  manual     75   \n",
              "4  2016-03-31 17:25:20   3600        small               2008  manual     69   \n",
              "\n",
              "   model  kilometer  registration_month fuel_type       brand not_repaired  \\\n",
              "0   golf     150000                   0    petrol  volkswagen          NaN   \n",
              "1    NaN     125000                   5  gasoline        audi          yes   \n",
              "2  grand     125000                   8  gasoline        jeep          NaN   \n",
              "3   golf     150000                   6    petrol  volkswagen           no   \n",
              "4  fabia      90000                   7  gasoline       skoda           no   \n",
              "\n",
              "          date_created  number_of_pictures  postal_code            last_seen  \n",
              "0  2016-03-24 00:00:00                   0        70435  2016-04-07 03:16:57  \n",
              "1  2016-03-24 00:00:00                   0        66954  2016-04-07 01:46:50  \n",
              "2  2016-03-14 00:00:00                   0        90480  2016-04-05 12:47:46  \n",
              "3  2016-03-17 00:00:00                   0        91074  2016-03-17 17:40:17  \n",
              "4  2016-03-31 00:00:00                   0        60437  2016-04-06 10:17:21  "
            ],
            "text/html": [
              "\n",
              "  <div id=\"df-007bb919-8c3a-48a2-8424-9f420541283e\">\n",
              "    <div class=\"colab-df-container\">\n",
              "      <div>\n",
              "<style scoped>\n",
              "    .dataframe tbody tr th:only-of-type {\n",
              "        vertical-align: middle;\n",
              "    }\n",
              "\n",
              "    .dataframe tbody tr th {\n",
              "        vertical-align: top;\n",
              "    }\n",
              "\n",
              "    .dataframe thead th {\n",
              "        text-align: right;\n",
              "    }\n",
              "</style>\n",
              "<table border=\"1\" class=\"dataframe\">\n",
              "  <thead>\n",
              "    <tr style=\"text-align: right;\">\n",
              "      <th></th>\n",
              "      <th>date_crawled</th>\n",
              "      <th>price</th>\n",
              "      <th>vehicle_type</th>\n",
              "      <th>registration_year</th>\n",
              "      <th>gearbox</th>\n",
              "      <th>power</th>\n",
              "      <th>model</th>\n",
              "      <th>kilometer</th>\n",
              "      <th>registration_month</th>\n",
              "      <th>fuel_type</th>\n",
              "      <th>brand</th>\n",
              "      <th>not_repaired</th>\n",
              "      <th>date_created</th>\n",
              "      <th>number_of_pictures</th>\n",
              "      <th>postal_code</th>\n",
              "      <th>last_seen</th>\n",
              "    </tr>\n",
              "  </thead>\n",
              "  <tbody>\n",
              "    <tr>\n",
              "      <th>0</th>\n",
              "      <td>2016-03-24 11:52:17</td>\n",
              "      <td>480</td>\n",
              "      <td>NaN</td>\n",
              "      <td>1993</td>\n",
              "      <td>manual</td>\n",
              "      <td>0</td>\n",
              "      <td>golf</td>\n",
              "      <td>150000</td>\n",
              "      <td>0</td>\n",
              "      <td>petrol</td>\n",
              "      <td>volkswagen</td>\n",
              "      <td>NaN</td>\n",
              "      <td>2016-03-24 00:00:00</td>\n",
              "      <td>0</td>\n",
              "      <td>70435</td>\n",
              "      <td>2016-04-07 03:16:57</td>\n",
              "    </tr>\n",
              "    <tr>\n",
              "      <th>1</th>\n",
              "      <td>2016-03-24 10:58:45</td>\n",
              "      <td>18300</td>\n",
              "      <td>coupe</td>\n",
              "      <td>2011</td>\n",
              "      <td>manual</td>\n",
              "      <td>190</td>\n",
              "      <td>NaN</td>\n",
              "      <td>125000</td>\n",
              "      <td>5</td>\n",
              "      <td>gasoline</td>\n",
              "      <td>audi</td>\n",
              "      <td>yes</td>\n",
              "      <td>2016-03-24 00:00:00</td>\n",
              "      <td>0</td>\n",
              "      <td>66954</td>\n",
              "      <td>2016-04-07 01:46:50</td>\n",
              "    </tr>\n",
              "    <tr>\n",
              "      <th>2</th>\n",
              "      <td>2016-03-14 12:52:21</td>\n",
              "      <td>9800</td>\n",
              "      <td>suv</td>\n",
              "      <td>2004</td>\n",
              "      <td>auto</td>\n",
              "      <td>163</td>\n",
              "      <td>grand</td>\n",
              "      <td>125000</td>\n",
              "      <td>8</td>\n",
              "      <td>gasoline</td>\n",
              "      <td>jeep</td>\n",
              "      <td>NaN</td>\n",
              "      <td>2016-03-14 00:00:00</td>\n",
              "      <td>0</td>\n",
              "      <td>90480</td>\n",
              "      <td>2016-04-05 12:47:46</td>\n",
              "    </tr>\n",
              "    <tr>\n",
              "      <th>3</th>\n",
              "      <td>2016-03-17 16:54:04</td>\n",
              "      <td>1500</td>\n",
              "      <td>small</td>\n",
              "      <td>2001</td>\n",
              "      <td>manual</td>\n",
              "      <td>75</td>\n",
              "      <td>golf</td>\n",
              "      <td>150000</td>\n",
              "      <td>6</td>\n",
              "      <td>petrol</td>\n",
              "      <td>volkswagen</td>\n",
              "      <td>no</td>\n",
              "      <td>2016-03-17 00:00:00</td>\n",
              "      <td>0</td>\n",
              "      <td>91074</td>\n",
              "      <td>2016-03-17 17:40:17</td>\n",
              "    </tr>\n",
              "    <tr>\n",
              "      <th>4</th>\n",
              "      <td>2016-03-31 17:25:20</td>\n",
              "      <td>3600</td>\n",
              "      <td>small</td>\n",
              "      <td>2008</td>\n",
              "      <td>manual</td>\n",
              "      <td>69</td>\n",
              "      <td>fabia</td>\n",
              "      <td>90000</td>\n",
              "      <td>7</td>\n",
              "      <td>gasoline</td>\n",
              "      <td>skoda</td>\n",
              "      <td>no</td>\n",
              "      <td>2016-03-31 00:00:00</td>\n",
              "      <td>0</td>\n",
              "      <td>60437</td>\n",
              "      <td>2016-04-06 10:17:21</td>\n",
              "    </tr>\n",
              "  </tbody>\n",
              "</table>\n",
              "</div>\n",
              "      <button class=\"colab-df-convert\" onclick=\"convertToInteractive('df-007bb919-8c3a-48a2-8424-9f420541283e')\"\n",
              "              title=\"Convert this dataframe to an interactive table.\"\n",
              "              style=\"display:none;\">\n",
              "        \n",
              "  <svg xmlns=\"http://www.w3.org/2000/svg\" height=\"24px\"viewBox=\"0 0 24 24\"\n",
              "       width=\"24px\">\n",
              "    <path d=\"M0 0h24v24H0V0z\" fill=\"none\"/>\n",
              "    <path d=\"M18.56 5.44l.94 2.06.94-2.06 2.06-.94-2.06-.94-.94-2.06-.94 2.06-2.06.94zm-11 1L8.5 8.5l.94-2.06 2.06-.94-2.06-.94L8.5 2.5l-.94 2.06-2.06.94zm10 10l.94 2.06.94-2.06 2.06-.94-2.06-.94-.94-2.06-.94 2.06-2.06.94z\"/><path d=\"M17.41 7.96l-1.37-1.37c-.4-.4-.92-.59-1.43-.59-.52 0-1.04.2-1.43.59L10.3 9.45l-7.72 7.72c-.78.78-.78 2.05 0 2.83L4 21.41c.39.39.9.59 1.41.59.51 0 1.02-.2 1.41-.59l7.78-7.78 2.81-2.81c.8-.78.8-2.07 0-2.86zM5.41 20L4 18.59l7.72-7.72 1.47 1.35L5.41 20z\"/>\n",
              "  </svg>\n",
              "      </button>\n",
              "      \n",
              "  <style>\n",
              "    .colab-df-container {\n",
              "      display:flex;\n",
              "      flex-wrap:wrap;\n",
              "      gap: 12px;\n",
              "    }\n",
              "\n",
              "    .colab-df-convert {\n",
              "      background-color: #E8F0FE;\n",
              "      border: none;\n",
              "      border-radius: 50%;\n",
              "      cursor: pointer;\n",
              "      display: none;\n",
              "      fill: #1967D2;\n",
              "      height: 32px;\n",
              "      padding: 0 0 0 0;\n",
              "      width: 32px;\n",
              "    }\n",
              "\n",
              "    .colab-df-convert:hover {\n",
              "      background-color: #E2EBFA;\n",
              "      box-shadow: 0px 1px 2px rgba(60, 64, 67, 0.3), 0px 1px 3px 1px rgba(60, 64, 67, 0.15);\n",
              "      fill: #174EA6;\n",
              "    }\n",
              "\n",
              "    [theme=dark] .colab-df-convert {\n",
              "      background-color: #3B4455;\n",
              "      fill: #D2E3FC;\n",
              "    }\n",
              "\n",
              "    [theme=dark] .colab-df-convert:hover {\n",
              "      background-color: #434B5C;\n",
              "      box-shadow: 0px 1px 3px 1px rgba(0, 0, 0, 0.15);\n",
              "      filter: drop-shadow(0px 1px 2px rgba(0, 0, 0, 0.3));\n",
              "      fill: #FFFFFF;\n",
              "    }\n",
              "  </style>\n",
              "\n",
              "      <script>\n",
              "        const buttonEl =\n",
              "          document.querySelector('#df-007bb919-8c3a-48a2-8424-9f420541283e button.colab-df-convert');\n",
              "        buttonEl.style.display =\n",
              "          google.colab.kernel.accessAllowed ? 'block' : 'none';\n",
              "\n",
              "        async function convertToInteractive(key) {\n",
              "          const element = document.querySelector('#df-007bb919-8c3a-48a2-8424-9f420541283e');\n",
              "          const dataTable =\n",
              "            await google.colab.kernel.invokeFunction('convertToInteractive',\n",
              "                                                     [key], {});\n",
              "          if (!dataTable) return;\n",
              "\n",
              "          const docLinkHtml = 'Like what you see? Visit the ' +\n",
              "            '<a target=\"_blank\" href=https://colab.research.google.com/notebooks/data_table.ipynb>data table notebook</a>'\n",
              "            + ' to learn more about interactive tables.';\n",
              "          element.innerHTML = '';\n",
              "          dataTable['output_type'] = 'display_data';\n",
              "          await google.colab.output.renderOutput(dataTable, element);\n",
              "          const docLink = document.createElement('div');\n",
              "          docLink.innerHTML = docLinkHtml;\n",
              "          element.appendChild(docLink);\n",
              "        }\n",
              "      </script>\n",
              "    </div>\n",
              "  </div>\n",
              "  "
            ]
          },
          "metadata": {},
          "execution_count": 127
        }
      ],
      "source": [
        "df.head()"
      ]
    },
    {
      "cell_type": "code",
      "execution_count": 128,
      "metadata": {
        "id": "bSodL4dcLLcx"
      },
      "outputs": [],
      "source": [
        "cat_features = ['vehicle_type', 'gearbox', 'model', 'fuel_type', 'brand', 'not_repaired']"
      ]
    },
    {
      "cell_type": "code",
      "execution_count": 129,
      "metadata": {
        "scrolled": false,
        "colab": {
          "base_uri": "https://localhost:8080/",
          "height": 364
        },
        "id": "bv-cyvn8LLcx",
        "outputId": "075dea7f-16e9-4ff6-e8d6-78760e4ed81a"
      },
      "outputs": [
        {
          "output_type": "execute_result",
          "data": {
            "text/plain": [
              "               price  registration_year          power      kilometer  \\\n",
              "count  354369.000000      354369.000000  354369.000000  354369.000000   \n",
              "mean     4416.656776        2004.234448     110.094337  128211.172535   \n",
              "std      4514.158514          90.227958     189.850405   37905.341530   \n",
              "min         0.000000        1000.000000       0.000000    5000.000000   \n",
              "25%      1050.000000        1999.000000      69.000000  125000.000000   \n",
              "50%      2700.000000        2003.000000     105.000000  150000.000000   \n",
              "75%      6400.000000        2008.000000     143.000000  150000.000000   \n",
              "max     20000.000000        9999.000000   20000.000000  150000.000000   \n",
              "\n",
              "       registration_month  number_of_pictures    postal_code  \n",
              "count       354369.000000            354369.0  354369.000000  \n",
              "mean             5.714645                 0.0   50508.689087  \n",
              "std              3.726421                 0.0   25783.096248  \n",
              "min              0.000000                 0.0    1067.000000  \n",
              "25%              3.000000                 0.0   30165.000000  \n",
              "50%              6.000000                 0.0   49413.000000  \n",
              "75%              9.000000                 0.0   71083.000000  \n",
              "max             12.000000                 0.0   99998.000000  "
            ],
            "text/html": [
              "\n",
              "  <div id=\"df-d992dfec-2a6a-4886-aca0-fa7898ff6489\">\n",
              "    <div class=\"colab-df-container\">\n",
              "      <div>\n",
              "<style scoped>\n",
              "    .dataframe tbody tr th:only-of-type {\n",
              "        vertical-align: middle;\n",
              "    }\n",
              "\n",
              "    .dataframe tbody tr th {\n",
              "        vertical-align: top;\n",
              "    }\n",
              "\n",
              "    .dataframe thead th {\n",
              "        text-align: right;\n",
              "    }\n",
              "</style>\n",
              "<table border=\"1\" class=\"dataframe\">\n",
              "  <thead>\n",
              "    <tr style=\"text-align: right;\">\n",
              "      <th></th>\n",
              "      <th>price</th>\n",
              "      <th>registration_year</th>\n",
              "      <th>power</th>\n",
              "      <th>kilometer</th>\n",
              "      <th>registration_month</th>\n",
              "      <th>number_of_pictures</th>\n",
              "      <th>postal_code</th>\n",
              "    </tr>\n",
              "  </thead>\n",
              "  <tbody>\n",
              "    <tr>\n",
              "      <th>count</th>\n",
              "      <td>354369.000000</td>\n",
              "      <td>354369.000000</td>\n",
              "      <td>354369.000000</td>\n",
              "      <td>354369.000000</td>\n",
              "      <td>354369.000000</td>\n",
              "      <td>354369.0</td>\n",
              "      <td>354369.000000</td>\n",
              "    </tr>\n",
              "    <tr>\n",
              "      <th>mean</th>\n",
              "      <td>4416.656776</td>\n",
              "      <td>2004.234448</td>\n",
              "      <td>110.094337</td>\n",
              "      <td>128211.172535</td>\n",
              "      <td>5.714645</td>\n",
              "      <td>0.0</td>\n",
              "      <td>50508.689087</td>\n",
              "    </tr>\n",
              "    <tr>\n",
              "      <th>std</th>\n",
              "      <td>4514.158514</td>\n",
              "      <td>90.227958</td>\n",
              "      <td>189.850405</td>\n",
              "      <td>37905.341530</td>\n",
              "      <td>3.726421</td>\n",
              "      <td>0.0</td>\n",
              "      <td>25783.096248</td>\n",
              "    </tr>\n",
              "    <tr>\n",
              "      <th>min</th>\n",
              "      <td>0.000000</td>\n",
              "      <td>1000.000000</td>\n",
              "      <td>0.000000</td>\n",
              "      <td>5000.000000</td>\n",
              "      <td>0.000000</td>\n",
              "      <td>0.0</td>\n",
              "      <td>1067.000000</td>\n",
              "    </tr>\n",
              "    <tr>\n",
              "      <th>25%</th>\n",
              "      <td>1050.000000</td>\n",
              "      <td>1999.000000</td>\n",
              "      <td>69.000000</td>\n",
              "      <td>125000.000000</td>\n",
              "      <td>3.000000</td>\n",
              "      <td>0.0</td>\n",
              "      <td>30165.000000</td>\n",
              "    </tr>\n",
              "    <tr>\n",
              "      <th>50%</th>\n",
              "      <td>2700.000000</td>\n",
              "      <td>2003.000000</td>\n",
              "      <td>105.000000</td>\n",
              "      <td>150000.000000</td>\n",
              "      <td>6.000000</td>\n",
              "      <td>0.0</td>\n",
              "      <td>49413.000000</td>\n",
              "    </tr>\n",
              "    <tr>\n",
              "      <th>75%</th>\n",
              "      <td>6400.000000</td>\n",
              "      <td>2008.000000</td>\n",
              "      <td>143.000000</td>\n",
              "      <td>150000.000000</td>\n",
              "      <td>9.000000</td>\n",
              "      <td>0.0</td>\n",
              "      <td>71083.000000</td>\n",
              "    </tr>\n",
              "    <tr>\n",
              "      <th>max</th>\n",
              "      <td>20000.000000</td>\n",
              "      <td>9999.000000</td>\n",
              "      <td>20000.000000</td>\n",
              "      <td>150000.000000</td>\n",
              "      <td>12.000000</td>\n",
              "      <td>0.0</td>\n",
              "      <td>99998.000000</td>\n",
              "    </tr>\n",
              "  </tbody>\n",
              "</table>\n",
              "</div>\n",
              "      <button class=\"colab-df-convert\" onclick=\"convertToInteractive('df-d992dfec-2a6a-4886-aca0-fa7898ff6489')\"\n",
              "              title=\"Convert this dataframe to an interactive table.\"\n",
              "              style=\"display:none;\">\n",
              "        \n",
              "  <svg xmlns=\"http://www.w3.org/2000/svg\" height=\"24px\"viewBox=\"0 0 24 24\"\n",
              "       width=\"24px\">\n",
              "    <path d=\"M0 0h24v24H0V0z\" fill=\"none\"/>\n",
              "    <path d=\"M18.56 5.44l.94 2.06.94-2.06 2.06-.94-2.06-.94-.94-2.06-.94 2.06-2.06.94zm-11 1L8.5 8.5l.94-2.06 2.06-.94-2.06-.94L8.5 2.5l-.94 2.06-2.06.94zm10 10l.94 2.06.94-2.06 2.06-.94-2.06-.94-.94-2.06-.94 2.06-2.06.94z\"/><path d=\"M17.41 7.96l-1.37-1.37c-.4-.4-.92-.59-1.43-.59-.52 0-1.04.2-1.43.59L10.3 9.45l-7.72 7.72c-.78.78-.78 2.05 0 2.83L4 21.41c.39.39.9.59 1.41.59.51 0 1.02-.2 1.41-.59l7.78-7.78 2.81-2.81c.8-.78.8-2.07 0-2.86zM5.41 20L4 18.59l7.72-7.72 1.47 1.35L5.41 20z\"/>\n",
              "  </svg>\n",
              "      </button>\n",
              "      \n",
              "  <style>\n",
              "    .colab-df-container {\n",
              "      display:flex;\n",
              "      flex-wrap:wrap;\n",
              "      gap: 12px;\n",
              "    }\n",
              "\n",
              "    .colab-df-convert {\n",
              "      background-color: #E8F0FE;\n",
              "      border: none;\n",
              "      border-radius: 50%;\n",
              "      cursor: pointer;\n",
              "      display: none;\n",
              "      fill: #1967D2;\n",
              "      height: 32px;\n",
              "      padding: 0 0 0 0;\n",
              "      width: 32px;\n",
              "    }\n",
              "\n",
              "    .colab-df-convert:hover {\n",
              "      background-color: #E2EBFA;\n",
              "      box-shadow: 0px 1px 2px rgba(60, 64, 67, 0.3), 0px 1px 3px 1px rgba(60, 64, 67, 0.15);\n",
              "      fill: #174EA6;\n",
              "    }\n",
              "\n",
              "    [theme=dark] .colab-df-convert {\n",
              "      background-color: #3B4455;\n",
              "      fill: #D2E3FC;\n",
              "    }\n",
              "\n",
              "    [theme=dark] .colab-df-convert:hover {\n",
              "      background-color: #434B5C;\n",
              "      box-shadow: 0px 1px 3px 1px rgba(0, 0, 0, 0.15);\n",
              "      filter: drop-shadow(0px 1px 2px rgba(0, 0, 0, 0.3));\n",
              "      fill: #FFFFFF;\n",
              "    }\n",
              "  </style>\n",
              "\n",
              "      <script>\n",
              "        const buttonEl =\n",
              "          document.querySelector('#df-d992dfec-2a6a-4886-aca0-fa7898ff6489 button.colab-df-convert');\n",
              "        buttonEl.style.display =\n",
              "          google.colab.kernel.accessAllowed ? 'block' : 'none';\n",
              "\n",
              "        async function convertToInteractive(key) {\n",
              "          const element = document.querySelector('#df-d992dfec-2a6a-4886-aca0-fa7898ff6489');\n",
              "          const dataTable =\n",
              "            await google.colab.kernel.invokeFunction('convertToInteractive',\n",
              "                                                     [key], {});\n",
              "          if (!dataTable) return;\n",
              "\n",
              "          const docLinkHtml = 'Like what you see? Visit the ' +\n",
              "            '<a target=\"_blank\" href=https://colab.research.google.com/notebooks/data_table.ipynb>data table notebook</a>'\n",
              "            + ' to learn more about interactive tables.';\n",
              "          element.innerHTML = '';\n",
              "          dataTable['output_type'] = 'display_data';\n",
              "          await google.colab.output.renderOutput(dataTable, element);\n",
              "          const docLink = document.createElement('div');\n",
              "          docLink.innerHTML = docLinkHtml;\n",
              "          element.appendChild(docLink);\n",
              "        }\n",
              "      </script>\n",
              "    </div>\n",
              "  </div>\n",
              "  "
            ]
          },
          "metadata": {},
          "execution_count": 129
        }
      ],
      "source": [
        "df.describe()"
      ]
    },
    {
      "cell_type": "code",
      "execution_count": 130,
      "metadata": {
        "colab": {
          "base_uri": "https://localhost:8080/",
          "height": 256
        },
        "id": "t4WOKQ5wLLcx",
        "outputId": "aa9a8c9e-3080-4407-efbe-403aadfdd914"
      },
      "outputs": [
        {
          "output_type": "execute_result",
          "data": {
            "text/plain": [
              "               date_crawled vehicle_type gearbox   model fuel_type  \\\n",
              "count                354369       316879  334536  334664    321474   \n",
              "unique               271174            8       2     250         7   \n",
              "top     2016-03-24 14:49:47        sedan  manual    golf    petrol   \n",
              "freq                      7        91457  268251   29232    216352   \n",
              "\n",
              "             brand not_repaired         date_created            last_seen  \n",
              "count       354369       283215               354369               354369  \n",
              "unique          40            2                  109               179150  \n",
              "top     volkswagen           no  2016-04-03 00:00:00  2016-04-06 13:45:54  \n",
              "freq         77013       247161                13719                   17  "
            ],
            "text/html": [
              "\n",
              "  <div id=\"df-5f4ac8ca-a400-445b-8939-d3ac4dcb518d\">\n",
              "    <div class=\"colab-df-container\">\n",
              "      <div>\n",
              "<style scoped>\n",
              "    .dataframe tbody tr th:only-of-type {\n",
              "        vertical-align: middle;\n",
              "    }\n",
              "\n",
              "    .dataframe tbody tr th {\n",
              "        vertical-align: top;\n",
              "    }\n",
              "\n",
              "    .dataframe thead th {\n",
              "        text-align: right;\n",
              "    }\n",
              "</style>\n",
              "<table border=\"1\" class=\"dataframe\">\n",
              "  <thead>\n",
              "    <tr style=\"text-align: right;\">\n",
              "      <th></th>\n",
              "      <th>date_crawled</th>\n",
              "      <th>vehicle_type</th>\n",
              "      <th>gearbox</th>\n",
              "      <th>model</th>\n",
              "      <th>fuel_type</th>\n",
              "      <th>brand</th>\n",
              "      <th>not_repaired</th>\n",
              "      <th>date_created</th>\n",
              "      <th>last_seen</th>\n",
              "    </tr>\n",
              "  </thead>\n",
              "  <tbody>\n",
              "    <tr>\n",
              "      <th>count</th>\n",
              "      <td>354369</td>\n",
              "      <td>316879</td>\n",
              "      <td>334536</td>\n",
              "      <td>334664</td>\n",
              "      <td>321474</td>\n",
              "      <td>354369</td>\n",
              "      <td>283215</td>\n",
              "      <td>354369</td>\n",
              "      <td>354369</td>\n",
              "    </tr>\n",
              "    <tr>\n",
              "      <th>unique</th>\n",
              "      <td>271174</td>\n",
              "      <td>8</td>\n",
              "      <td>2</td>\n",
              "      <td>250</td>\n",
              "      <td>7</td>\n",
              "      <td>40</td>\n",
              "      <td>2</td>\n",
              "      <td>109</td>\n",
              "      <td>179150</td>\n",
              "    </tr>\n",
              "    <tr>\n",
              "      <th>top</th>\n",
              "      <td>2016-03-24 14:49:47</td>\n",
              "      <td>sedan</td>\n",
              "      <td>manual</td>\n",
              "      <td>golf</td>\n",
              "      <td>petrol</td>\n",
              "      <td>volkswagen</td>\n",
              "      <td>no</td>\n",
              "      <td>2016-04-03 00:00:00</td>\n",
              "      <td>2016-04-06 13:45:54</td>\n",
              "    </tr>\n",
              "    <tr>\n",
              "      <th>freq</th>\n",
              "      <td>7</td>\n",
              "      <td>91457</td>\n",
              "      <td>268251</td>\n",
              "      <td>29232</td>\n",
              "      <td>216352</td>\n",
              "      <td>77013</td>\n",
              "      <td>247161</td>\n",
              "      <td>13719</td>\n",
              "      <td>17</td>\n",
              "    </tr>\n",
              "  </tbody>\n",
              "</table>\n",
              "</div>\n",
              "      <button class=\"colab-df-convert\" onclick=\"convertToInteractive('df-5f4ac8ca-a400-445b-8939-d3ac4dcb518d')\"\n",
              "              title=\"Convert this dataframe to an interactive table.\"\n",
              "              style=\"display:none;\">\n",
              "        \n",
              "  <svg xmlns=\"http://www.w3.org/2000/svg\" height=\"24px\"viewBox=\"0 0 24 24\"\n",
              "       width=\"24px\">\n",
              "    <path d=\"M0 0h24v24H0V0z\" fill=\"none\"/>\n",
              "    <path d=\"M18.56 5.44l.94 2.06.94-2.06 2.06-.94-2.06-.94-.94-2.06-.94 2.06-2.06.94zm-11 1L8.5 8.5l.94-2.06 2.06-.94-2.06-.94L8.5 2.5l-.94 2.06-2.06.94zm10 10l.94 2.06.94-2.06 2.06-.94-2.06-.94-.94-2.06-.94 2.06-2.06.94z\"/><path d=\"M17.41 7.96l-1.37-1.37c-.4-.4-.92-.59-1.43-.59-.52 0-1.04.2-1.43.59L10.3 9.45l-7.72 7.72c-.78.78-.78 2.05 0 2.83L4 21.41c.39.39.9.59 1.41.59.51 0 1.02-.2 1.41-.59l7.78-7.78 2.81-2.81c.8-.78.8-2.07 0-2.86zM5.41 20L4 18.59l7.72-7.72 1.47 1.35L5.41 20z\"/>\n",
              "  </svg>\n",
              "      </button>\n",
              "      \n",
              "  <style>\n",
              "    .colab-df-container {\n",
              "      display:flex;\n",
              "      flex-wrap:wrap;\n",
              "      gap: 12px;\n",
              "    }\n",
              "\n",
              "    .colab-df-convert {\n",
              "      background-color: #E8F0FE;\n",
              "      border: none;\n",
              "      border-radius: 50%;\n",
              "      cursor: pointer;\n",
              "      display: none;\n",
              "      fill: #1967D2;\n",
              "      height: 32px;\n",
              "      padding: 0 0 0 0;\n",
              "      width: 32px;\n",
              "    }\n",
              "\n",
              "    .colab-df-convert:hover {\n",
              "      background-color: #E2EBFA;\n",
              "      box-shadow: 0px 1px 2px rgba(60, 64, 67, 0.3), 0px 1px 3px 1px rgba(60, 64, 67, 0.15);\n",
              "      fill: #174EA6;\n",
              "    }\n",
              "\n",
              "    [theme=dark] .colab-df-convert {\n",
              "      background-color: #3B4455;\n",
              "      fill: #D2E3FC;\n",
              "    }\n",
              "\n",
              "    [theme=dark] .colab-df-convert:hover {\n",
              "      background-color: #434B5C;\n",
              "      box-shadow: 0px 1px 3px 1px rgba(0, 0, 0, 0.15);\n",
              "      filter: drop-shadow(0px 1px 2px rgba(0, 0, 0, 0.3));\n",
              "      fill: #FFFFFF;\n",
              "    }\n",
              "  </style>\n",
              "\n",
              "      <script>\n",
              "        const buttonEl =\n",
              "          document.querySelector('#df-5f4ac8ca-a400-445b-8939-d3ac4dcb518d button.colab-df-convert');\n",
              "        buttonEl.style.display =\n",
              "          google.colab.kernel.accessAllowed ? 'block' : 'none';\n",
              "\n",
              "        async function convertToInteractive(key) {\n",
              "          const element = document.querySelector('#df-5f4ac8ca-a400-445b-8939-d3ac4dcb518d');\n",
              "          const dataTable =\n",
              "            await google.colab.kernel.invokeFunction('convertToInteractive',\n",
              "                                                     [key], {});\n",
              "          if (!dataTable) return;\n",
              "\n",
              "          const docLinkHtml = 'Like what you see? Visit the ' +\n",
              "            '<a target=\"_blank\" href=https://colab.research.google.com/notebooks/data_table.ipynb>data table notebook</a>'\n",
              "            + ' to learn more about interactive tables.';\n",
              "          element.innerHTML = '';\n",
              "          dataTable['output_type'] = 'display_data';\n",
              "          await google.colab.output.renderOutput(dataTable, element);\n",
              "          const docLink = document.createElement('div');\n",
              "          docLink.innerHTML = docLinkHtml;\n",
              "          element.appendChild(docLink);\n",
              "        }\n",
              "      </script>\n",
              "    </div>\n",
              "  </div>\n",
              "  "
            ]
          },
          "metadata": {},
          "execution_count": 130
        }
      ],
      "source": [
        "df.describe(include='object')"
      ]
    },
    {
      "cell_type": "code",
      "source": [
        "a = sns.histplot(df, x='price', bins=500)\n",
        "a.set(xlabel='Price', ylabel='Count', \n",
        "      title='Price Histogram')\n",
        "plt.show()"
      ],
      "metadata": {
        "colab": {
          "base_uri": "https://localhost:8080/",
          "height": 301
        },
        "id": "ezZ8GtQPQ3nd",
        "outputId": "e14a2158-1f2c-4308-b2f3-510058fb9ae6"
      },
      "execution_count": 131,
      "outputs": [
        {
          "output_type": "display_data",
          "data": {
            "text/plain": [
              "<Figure size 432x288 with 1 Axes>"
            ],
            "image/png": "[encoded data removed]"
          },
          "metadata": {}
        }
      ]
    },
    {
      "cell_type": "code",
      "execution_count": 132,
      "metadata": {
        "id": "A30cuMmuLLcy"
      },
      "outputs": [],
      "source": [
        "df = df[df['price'] > 100]"
      ]
    },
    {
      "cell_type": "code",
      "execution_count": 133,
      "metadata": {
        "id": "7hjgf-OTLLcy"
      },
      "outputs": [],
      "source": [
        "df = df[df['registration_year'] > 1900]\n",
        "df = df[df['registration_year'] < 2017]"
      ]
    },
    {
      "cell_type": "code",
      "execution_count": 134,
      "metadata": {
        "id": "7MSCyLG1LLcy"
      },
      "outputs": [],
      "source": [
        "df = df[df['power'] > 10]\n",
        "df = df[df['power'] < 1000]"
      ]
    },
    {
      "cell_type": "code",
      "execution_count": 135,
      "metadata": {
        "colab": {
          "base_uri": "https://localhost:8080/",
          "height": 364
        },
        "id": "iBzYNHKELLcy",
        "outputId": "01f40ddd-29a8-4df0-8faf-1ac3ebd27b83"
      },
      "outputs": [
        {
          "output_type": "execute_result",
          "data": {
            "text/plain": [
              "               price  registration_year          power      kilometer  \\\n",
              "count  294628.000000      294628.000000  294628.000000  294628.000000   \n",
              "mean     4884.654184        2002.841149     120.959043  128287.908821   \n",
              "std      4611.705042           6.539735      54.620277   36716.886257   \n",
              "min       101.000000        1910.000000      11.000000    5000.000000   \n",
              "25%      1350.000000        1999.000000      77.000000  125000.000000   \n",
              "50%      3200.000000        2003.000000     112.000000  150000.000000   \n",
              "75%      6999.000000        2007.000000     150.000000  150000.000000   \n",
              "max     20000.000000        2016.000000     999.000000  150000.000000   \n",
              "\n",
              "       registration_month  number_of_pictures    postal_code  \n",
              "count        294628.00000            294628.0  294628.000000  \n",
              "mean              6.00241                 0.0   51245.781362  \n",
              "std               3.57936                 0.0   25766.893690  \n",
              "min               0.00000                 0.0    1067.000000  \n",
              "25%               3.00000                 0.0   30938.000000  \n",
              "50%               6.00000                 0.0   50259.000000  \n",
              "75%               9.00000                 0.0   72108.000000  \n",
              "max              12.00000                 0.0   99998.000000  "
            ],
            "text/html": [
              "\n",
              "  <div id=\"df-cf9a975f-785f-484c-b6c2-9ec559f023e8\">\n",
              "    <div class=\"colab-df-container\">\n",
              "      <div>\n",
              "<style scoped>\n",
              "    .dataframe tbody tr th:only-of-type {\n",
              "        vertical-align: middle;\n",
              "    }\n",
              "\n",
              "    .dataframe tbody tr th {\n",
              "        vertical-align: top;\n",
              "    }\n",
              "\n",
              "    .dataframe thead th {\n",
              "        text-align: right;\n",
              "    }\n",
              "</style>\n",
              "<table border=\"1\" class=\"dataframe\">\n",
              "  <thead>\n",
              "    <tr style=\"text-align: right;\">\n",
              "      <th></th>\n",
              "      <th>price</th>\n",
              "      <th>registration_year</th>\n",
              "      <th>power</th>\n",
              "      <th>kilometer</th>\n",
              "      <th>registration_month</th>\n",
              "      <th>number_of_pictures</th>\n",
              "      <th>postal_code</th>\n",
              "    </tr>\n",
              "  </thead>\n",
              "  <tbody>\n",
              "    <tr>\n",
              "      <th>count</th>\n",
              "      <td>294628.000000</td>\n",
              "      <td>294628.000000</td>\n",
              "      <td>294628.000000</td>\n",
              "      <td>294628.000000</td>\n",
              "      <td>294628.00000</td>\n",
              "      <td>294628.0</td>\n",
              "      <td>294628.000000</td>\n",
              "    </tr>\n",
              "    <tr>\n",
              "      <th>mean</th>\n",
              "      <td>4884.654184</td>\n",
              "      <td>2002.841149</td>\n",
              "      <td>120.959043</td>\n",
              "      <td>128287.908821</td>\n",
              "      <td>6.00241</td>\n",
              "      <td>0.0</td>\n",
              "      <td>51245.781362</td>\n",
              "    </tr>\n",
              "    <tr>\n",
              "      <th>std</th>\n",
              "      <td>4611.705042</td>\n",
              "      <td>6.539735</td>\n",
              "      <td>54.620277</td>\n",
              "      <td>36716.886257</td>\n",
              "      <td>3.57936</td>\n",
              "      <td>0.0</td>\n",
              "      <td>25766.893690</td>\n",
              "    </tr>\n",
              "    <tr>\n",
              "      <th>min</th>\n",
              "      <td>101.000000</td>\n",
              "      <td>1910.000000</td>\n",
              "      <td>11.000000</td>\n",
              "      <td>5000.000000</td>\n",
              "      <td>0.00000</td>\n",
              "      <td>0.0</td>\n",
              "      <td>1067.000000</td>\n",
              "    </tr>\n",
              "    <tr>\n",
              "      <th>25%</th>\n",
              "      <td>1350.000000</td>\n",
              "      <td>1999.000000</td>\n",
              "      <td>77.000000</td>\n",
              "      <td>125000.000000</td>\n",
              "      <td>3.00000</td>\n",
              "      <td>0.0</td>\n",
              "      <td>30938.000000</td>\n",
              "    </tr>\n",
              "    <tr>\n",
              "      <th>50%</th>\n",
              "      <td>3200.000000</td>\n",
              "      <td>2003.000000</td>\n",
              "      <td>112.000000</td>\n",
              "      <td>150000.000000</td>\n",
              "      <td>6.00000</td>\n",
              "      <td>0.0</td>\n",
              "      <td>50259.000000</td>\n",
              "    </tr>\n",
              "    <tr>\n",
              "      <th>75%</th>\n",
              "      <td>6999.000000</td>\n",
              "      <td>2007.000000</td>\n",
              "      <td>150.000000</td>\n",
              "      <td>150000.000000</td>\n",
              "      <td>9.00000</td>\n",
              "      <td>0.0</td>\n",
              "      <td>72108.000000</td>\n",
              "    </tr>\n",
              "    <tr>\n",
              "      <th>max</th>\n",
              "      <td>20000.000000</td>\n",
              "      <td>2016.000000</td>\n",
              "      <td>999.000000</td>\n",
              "      <td>150000.000000</td>\n",
              "      <td>12.00000</td>\n",
              "      <td>0.0</td>\n",
              "      <td>99998.000000</td>\n",
              "    </tr>\n",
              "  </tbody>\n",
              "</table>\n",
              "</div>\n",
              "      <button class=\"colab-df-convert\" onclick=\"convertToInteractive('df-cf9a975f-785f-484c-b6c2-9ec559f023e8')\"\n",
              "              title=\"Convert this dataframe to an interactive table.\"\n",
              "              style=\"display:none;\">\n",
              "        \n",
              "  <svg xmlns=\"http://www.w3.org/2000/svg\" height=\"24px\"viewBox=\"0 0 24 24\"\n",
              "       width=\"24px\">\n",
              "    <path d=\"M0 0h24v24H0V0z\" fill=\"none\"/>\n",
              "    <path d=\"M18.56 5.44l.94 2.06.94-2.06 2.06-.94-2.06-.94-.94-2.06-.94 2.06-2.06.94zm-11 1L8.5 8.5l.94-2.06 2.06-.94-2.06-.94L8.5 2.5l-.94 2.06-2.06.94zm10 10l.94 2.06.94-2.06 2.06-.94-2.06-.94-.94-2.06-.94 2.06-2.06.94z\"/><path d=\"M17.41 7.96l-1.37-1.37c-.4-.4-.92-.59-1.43-.59-.52 0-1.04.2-1.43.59L10.3 9.45l-7.72 7.72c-.78.78-.78 2.05 0 2.83L4 21.41c.39.39.9.59 1.41.59.51 0 1.02-.2 1.41-.59l7.78-7.78 2.81-2.81c.8-.78.8-2.07 0-2.86zM5.41 20L4 18.59l7.72-7.72 1.47 1.35L5.41 20z\"/>\n",
              "  </svg>\n",
              "      </button>\n",
              "      \n",
              "  <style>\n",
              "    .colab-df-container {\n",
              "      display:flex;\n",
              "      flex-wrap:wrap;\n",
              "      gap: 12px;\n",
              "    }\n",
              "\n",
              "    .colab-df-convert {\n",
              "      background-color: #E8F0FE;\n",
              "      border: none;\n",
              "      border-radius: 50%;\n",
              "      cursor: pointer;\n",
              "      display: none;\n",
              "      fill: #1967D2;\n",
              "      height: 32px;\n",
              "      padding: 0 0 0 0;\n",
              "      width: 32px;\n",
              "    }\n",
              "\n",
              "    .colab-df-convert:hover {\n",
              "      background-color: #E2EBFA;\n",
              "      box-shadow: 0px 1px 2px rgba(60, 64, 67, 0.3), 0px 1px 3px 1px rgba(60, 64, 67, 0.15);\n",
              "      fill: #174EA6;\n",
              "    }\n",
              "\n",
              "    [theme=dark] .colab-df-convert {\n",
              "      background-color: #3B4455;\n",
              "      fill: #D2E3FC;\n",
              "    }\n",
              "\n",
              "    [theme=dark] .colab-df-convert:hover {\n",
              "      background-color: #434B5C;\n",
              "      box-shadow: 0px 1px 3px 1px rgba(0, 0, 0, 0.15);\n",
              "      filter: drop-shadow(0px 1px 2px rgba(0, 0, 0, 0.3));\n",
              "      fill: #FFFFFF;\n",
              "    }\n",
              "  </style>\n",
              "\n",
              "      <script>\n",
              "        const buttonEl =\n",
              "          document.querySelector('#df-cf9a975f-785f-484c-b6c2-9ec559f023e8 button.colab-df-convert');\n",
              "        buttonEl.style.display =\n",
              "          google.colab.kernel.accessAllowed ? 'block' : 'none';\n",
              "\n",
              "        async function convertToInteractive(key) {\n",
              "          const element = document.querySelector('#df-cf9a975f-785f-484c-b6c2-9ec559f023e8');\n",
              "          const dataTable =\n",
              "            await google.colab.kernel.invokeFunction('convertToInteractive',\n",
              "                                                     [key], {});\n",
              "          if (!dataTable) return;\n",
              "\n",
              "          const docLinkHtml = 'Like what you see? Visit the ' +\n",
              "            '<a target=\"_blank\" href=https://colab.research.google.com/notebooks/data_table.ipynb>data table notebook</a>'\n",
              "            + ' to learn more about interactive tables.';\n",
              "          element.innerHTML = '';\n",
              "          dataTable['output_type'] = 'display_data';\n",
              "          await google.colab.output.renderOutput(dataTable, element);\n",
              "          const docLink = document.createElement('div');\n",
              "          docLink.innerHTML = docLinkHtml;\n",
              "          element.appendChild(docLink);\n",
              "        }\n",
              "      </script>\n",
              "    </div>\n",
              "  </div>\n",
              "  "
            ]
          },
          "metadata": {},
          "execution_count": 135
        }
      ],
      "source": [
        "df.describe()"
      ]
    },
    {
      "cell_type": "code",
      "execution_count": 136,
      "metadata": {
        "scrolled": false,
        "colab": {
          "base_uri": "https://localhost:8080/",
          "height": 333
        },
        "id": "mylz-dmCLLcy",
        "outputId": "3b89cfdf-279e-425a-8802-c0c9cd4f180a"
      },
      "outputs": [
        {
          "output_type": "execute_result",
          "data": {
            "text/plain": [
              "                       price  registration_year     power  kilometer  \\\n",
              "price               1.000000           0.480634  0.499252  -0.389326   \n",
              "registration_year   0.480634           1.000000  0.132440  -0.288570   \n",
              "power               0.499252           0.132440  1.000000   0.103101   \n",
              "kilometer          -0.389326          -0.288570  0.103101   1.000000   \n",
              "registration_month  0.066889           0.046303  0.039890  -0.014797   \n",
              "number_of_pictures       NaN                NaN       NaN        NaN   \n",
              "postal_code         0.064416           0.029280  0.053019  -0.010214   \n",
              "\n",
              "                    registration_month  number_of_pictures  postal_code  \n",
              "price                         0.066889                 NaN     0.064416  \n",
              "registration_year             0.046303                 NaN     0.029280  \n",
              "power                         0.039890                 NaN     0.053019  \n",
              "kilometer                    -0.014797                 NaN    -0.010214  \n",
              "registration_month            1.000000                 NaN     0.002360  \n",
              "number_of_pictures                 NaN                 NaN          NaN  \n",
              "postal_code                   0.002360                 NaN     1.000000  "
            ],
            "text/html": [
              "\n",
              "  <div id=\"df-e9501228-873f-4871-b08a-e32b3383a31b\">\n",
              "    <div class=\"colab-df-container\">\n",
              "      <div>\n",
              "<style scoped>\n",
              "    .dataframe tbody tr th:only-of-type {\n",
              "        vertical-align: middle;\n",
              "    }\n",
              "\n",
              "    .dataframe tbody tr th {\n",
              "        vertical-align: top;\n",
              "    }\n",
              "\n",
              "    .dataframe thead th {\n",
              "        text-align: right;\n",
              "    }\n",
              "</style>\n",
              "<table border=\"1\" class=\"dataframe\">\n",
              "  <thead>\n",
              "    <tr style=\"text-align: right;\">\n",
              "      <th></th>\n",
              "      <th>price</th>\n",
              "      <th>registration_year</th>\n",
              "      <th>power</th>\n",
              "      <th>kilometer</th>\n",
              "      <th>registration_month</th>\n",
              "      <th>number_of_pictures</th>\n",
              "      <th>postal_code</th>\n",
              "    </tr>\n",
              "  </thead>\n",
              "  <tbody>\n",
              "    <tr>\n",
              "      <th>price</th>\n",
              "      <td>1.000000</td>\n",
              "      <td>0.480634</td>\n",
              "      <td>0.499252</td>\n",
              "      <td>-0.389326</td>\n",
              "      <td>0.066889</td>\n",
              "      <td>NaN</td>\n",
              "      <td>0.064416</td>\n",
              "    </tr>\n",
              "    <tr>\n",
              "      <th>registration_year</th>\n",
              "      <td>0.480634</td>\n",
              "      <td>1.000000</td>\n",
              "      <td>0.132440</td>\n",
              "      <td>-0.288570</td>\n",
              "      <td>0.046303</td>\n",
              "      <td>NaN</td>\n",
              "      <td>0.029280</td>\n",
              "    </tr>\n",
              "    <tr>\n",
              "      <th>power</th>\n",
              "      <td>0.499252</td>\n",
              "      <td>0.132440</td>\n",
              "      <td>1.000000</td>\n",
              "      <td>0.103101</td>\n",
              "      <td>0.039890</td>\n",
              "      <td>NaN</td>\n",
              "      <td>0.053019</td>\n",
              "    </tr>\n",
              "    <tr>\n",
              "      <th>kilometer</th>\n",
              "      <td>-0.389326</td>\n",
              "      <td>-0.288570</td>\n",
              "      <td>0.103101</td>\n",
              "      <td>1.000000</td>\n",
              "      <td>-0.014797</td>\n",
              "      <td>NaN</td>\n",
              "      <td>-0.010214</td>\n",
              "    </tr>\n",
              "    <tr>\n",
              "      <th>registration_month</th>\n",
              "      <td>0.066889</td>\n",
              "      <td>0.046303</td>\n",
              "      <td>0.039890</td>\n",
              "      <td>-0.014797</td>\n",
              "      <td>1.000000</td>\n",
              "      <td>NaN</td>\n",
              "      <td>0.002360</td>\n",
              "    </tr>\n",
              "    <tr>\n",
              "      <th>number_of_pictures</th>\n",
              "      <td>NaN</td>\n",
              "      <td>NaN</td>\n",
              "      <td>NaN</td>\n",
              "      <td>NaN</td>\n",
              "      <td>NaN</td>\n",
              "      <td>NaN</td>\n",
              "      <td>NaN</td>\n",
              "    </tr>\n",
              "    <tr>\n",
              "      <th>postal_code</th>\n",
              "      <td>0.064416</td>\n",
              "      <td>0.029280</td>\n",
              "      <td>0.053019</td>\n",
              "      <td>-0.010214</td>\n",
              "      <td>0.002360</td>\n",
              "      <td>NaN</td>\n",
              "      <td>1.000000</td>\n",
              "    </tr>\n",
              "  </tbody>\n",
              "</table>\n",
              "</div>\n",
              "      <button class=\"colab-df-convert\" onclick=\"convertToInteractive('df-e9501228-873f-4871-b08a-e32b3383a31b')\"\n",
              "              title=\"Convert this dataframe to an interactive table.\"\n",
              "              style=\"display:none;\">\n",
              "        \n",
              "  <svg xmlns=\"http://www.w3.org/2000/svg\" height=\"24px\"viewBox=\"0 0 24 24\"\n",
              "       width=\"24px\">\n",
              "    <path d=\"M0 0h24v24H0V0z\" fill=\"none\"/>\n",
              "    <path d=\"M18.56 5.44l.94 2.06.94-2.06 2.06-.94-2.06-.94-.94-2.06-.94 2.06-2.06.94zm-11 1L8.5 8.5l.94-2.06 2.06-.94-2.06-.94L8.5 2.5l-.94 2.06-2.06.94zm10 10l.94 2.06.94-2.06 2.06-.94-2.06-.94-.94-2.06-.94 2.06-2.06.94z\"/><path d=\"M17.41 7.96l-1.37-1.37c-.4-.4-.92-.59-1.43-.59-.52 0-1.04.2-1.43.59L10.3 9.45l-7.72 7.72c-.78.78-.78 2.05 0 2.83L4 21.41c.39.39.9.59 1.41.59.51 0 1.02-.2 1.41-.59l7.78-7.78 2.81-2.81c.8-.78.8-2.07 0-2.86zM5.41 20L4 18.59l7.72-7.72 1.47 1.35L5.41 20z\"/>\n",
              "  </svg>\n",
              "      </button>\n",
              "      \n",
              "  <style>\n",
              "    .colab-df-container {\n",
              "      display:flex;\n",
              "      flex-wrap:wrap;\n",
              "      gap: 12px;\n",
              "    }\n",
              "\n",
              "    .colab-df-convert {\n",
              "      background-color: #E8F0FE;\n",
              "      border: none;\n",
              "      border-radius: 50%;\n",
              "      cursor: pointer;\n",
              "      display: none;\n",
              "      fill: #1967D2;\n",
              "      height: 32px;\n",
              "      padding: 0 0 0 0;\n",
              "      width: 32px;\n",
              "    }\n",
              "\n",
              "    .colab-df-convert:hover {\n",
              "      background-color: #E2EBFA;\n",
              "      box-shadow: 0px 1px 2px rgba(60, 64, 67, 0.3), 0px 1px 3px 1px rgba(60, 64, 67, 0.15);\n",
              "      fill: #174EA6;\n",
              "    }\n",
              "\n",
              "    [theme=dark] .colab-df-convert {\n",
              "      background-color: #3B4455;\n",
              "      fill: #D2E3FC;\n",
              "    }\n",
              "\n",
              "    [theme=dark] .colab-df-convert:hover {\n",
              "      background-color: #434B5C;\n",
              "      box-shadow: 0px 1px 3px 1px rgba(0, 0, 0, 0.15);\n",
              "      filter: drop-shadow(0px 1px 2px rgba(0, 0, 0, 0.3));\n",
              "      fill: #FFFFFF;\n",
              "    }\n",
              "  </style>\n",
              "\n",
              "      <script>\n",
              "        const buttonEl =\n",
              "          document.querySelector('#df-e9501228-873f-4871-b08a-e32b3383a31b button.colab-df-convert');\n",
              "        buttonEl.style.display =\n",
              "          google.colab.kernel.accessAllowed ? 'block' : 'none';\n",
              "\n",
              "        async function convertToInteractive(key) {\n",
              "          const element = document.querySelector('#df-e9501228-873f-4871-b08a-e32b3383a31b');\n",
              "          const dataTable =\n",
              "            await google.colab.kernel.invokeFunction('convertToInteractive',\n",
              "                                                     [key], {});\n",
              "          if (!dataTable) return;\n",
              "\n",
              "          const docLinkHtml = 'Like what you see? Visit the ' +\n",
              "            '<a target=\"_blank\" href=https://colab.research.google.com/notebooks/data_table.ipynb>data table notebook</a>'\n",
              "            + ' to learn more about interactive tables.';\n",
              "          element.innerHTML = '';\n",
              "          dataTable['output_type'] = 'display_data';\n",
              "          await google.colab.output.renderOutput(dataTable, element);\n",
              "          const docLink = document.createElement('div');\n",
              "          docLink.innerHTML = docLinkHtml;\n",
              "          element.appendChild(docLink);\n",
              "        }\n",
              "      </script>\n",
              "    </div>\n",
              "  </div>\n",
              "  "
            ]
          },
          "metadata": {},
          "execution_count": 136
        }
      ],
      "source": [
        "corr = df.corr()\n",
        "corr"
      ]
    },
    {
      "cell_type": "code",
      "source": [
        "cmap = sns.diverging_palette(230, 20, as_cmap=True)\n",
        "sns.heatmap(corr, cmap=cmap, vmax=1, vmin=-1, center=0,\n",
        "            square=True, linewidths=.5, cbar_kws={\"shrink\": .5})\n",
        "plt.show()"
      ],
      "metadata": {
        "colab": {
          "base_uri": "https://localhost:8080/",
          "height": 367
        },
        "id": "PKdSp0-0w5JP",
        "outputId": "6a182a4b-71e1-415b-cf81-f70c123b9db2"
      },
      "execution_count": 137,
      "outputs": [
        {
          "output_type": "display_data",
          "data": {
            "text/plain": [
              "<Figure size 432x288 with 2 Axes>"
            ],
            "image/png": "[encoded data removed]"
          },
          "metadata": {}
        }
      ]
    },
    {
      "cell_type": "markdown",
      "metadata": {
        "id": "kAn-GXIwLLcy"
      },
      "source": [
        "По итогу обзора видно, что в данных есть пропуски в категориальных признаках `vehicle_type` - 10%, `gearbox` - 5%, `model` - 5%, `fuel_type` - 9%, `not_repaired` - 20%. Чтобы не терять данные заменим все пропуски на `no_info`, так как если человек при выкладке обявления не укажет информаию о машине это сильно повлияет на спрос и, следовательно, на цену.\n",
        "\n",
        "Мультиколлинеарности не замечено. Выбросы были определены здравым смыслом и удалены из датасета\n",
        "\n",
        "Также я считаю, что признаки `date_crawled`, `date_created`, `postal_code` и `last_seen` можно удалить, они не оказывают влияния на цену автомобиля."
      ]
    },
    {
      "cell_type": "code",
      "execution_count": 138,
      "metadata": {
        "id": "Bgh4cZA6LLcy"
      },
      "outputs": [],
      "source": [
        "df = df.fillna('unknown')"
      ]
    },
    {
      "cell_type": "code",
      "execution_count": 139,
      "metadata": {
        "id": "ZrXcbnw_LLcy"
      },
      "outputs": [],
      "source": [
        "df = df.drop(['date_crawled', 'date_created', 'postal_code', 'last_seen', \n",
        "              'registration_month', 'number_of_pictures'], axis=1)"
      ]
    },
    {
      "cell_type": "markdown",
      "metadata": {
        "id": "s8Jr2KgwLLcy"
      },
      "source": [
        "Для дальнейшего обучения моделей важно закодировать категориальные признаки, однако оставим оригинальный датасет для бустинга"
      ]
    },
    {
      "cell_type": "code",
      "execution_count": 140,
      "metadata": {
        "id": "5dsOor1eLLcy"
      },
      "outputs": [],
      "source": [
        "enc = OrdinalEncoder()\n",
        "df_wc = df.copy()\n",
        "df[cat_features] = enc.fit_transform(df[cat_features])"
      ]
    },
    {
      "cell_type": "code",
      "execution_count": 141,
      "metadata": {
        "id": "SMf0qQuXLLcy"
      },
      "outputs": [],
      "source": [
        "for col in cat_features:\n",
        "    df_wc[col] = df_wc[col].astype('category')"
      ]
    },
    {
      "cell_type": "markdown",
      "metadata": {
        "id": "y4u1qvijLLcy"
      },
      "source": [
        "Разобьём данные на обучющую и тестовую выборки."
      ]
    },
    {
      "cell_type": "code",
      "execution_count": 142,
      "metadata": {
        "id": "IemtLCHELLcy"
      },
      "outputs": [],
      "source": [
        "features_train, features_test, target_train, target_test = train_test_split(\n",
        "    df.drop('price', axis=1), df.price, test_size=0.25, random_state=42)"
      ]
    },
    {
      "cell_type": "code",
      "execution_count": 143,
      "metadata": {
        "id": "PlzWSOG9LLcy"
      },
      "outputs": [],
      "source": [
        "features_train_wc, features_test_wc, target_train_wc, target_test_wc = train_test_split(\n",
        "    df_wc.drop('price', axis=1), df_wc.price, test_size=0.25, random_state=42)"
      ]
    },
    {
      "cell_type": "markdown",
      "metadata": {
        "id": "CvVlXqFOLLcz"
      },
      "source": [
        "Проведём масштабирование данных"
      ]
    },
    {
      "cell_type": "code",
      "execution_count": 144,
      "metadata": {
        "id": "kr8k1LwPLLcz"
      },
      "outputs": [],
      "source": [
        "numeric_features = ['registration_year', 'power', 'kilometer']"
      ]
    },
    {
      "cell_type": "code",
      "execution_count": 145,
      "metadata": {
        "id": "8jnoY-KaLLcz"
      },
      "outputs": [],
      "source": [
        "pd.options.mode.chained_assignment = None\n",
        "scaler = StandardScaler()\n",
        "scaler.fit(features_train_wc[numeric_features])\n",
        "features_train_wc[numeric_features] = scaler.transform(features_train_wc[numeric_features])\n",
        "features_test_wc[numeric_features] = scaler.transform(features_test_wc[numeric_features])"
      ]
    },
    {
      "cell_type": "code",
      "execution_count": 146,
      "metadata": {
        "id": "9htEbM9YLLcz"
      },
      "outputs": [],
      "source": [
        "scaler = StandardScaler()\n",
        "scaler.fit(features_train[numeric_features])\n",
        "features_train = scaler.transform(features_train[numeric_features])\n",
        "features_test = scaler.transform(features_test[numeric_features])"
      ]
    },
    {
      "cell_type": "code",
      "execution_count": 147,
      "metadata": {
        "colab": {
          "base_uri": "https://localhost:8080/",
          "height": 88
        },
        "id": "deBK7n3rLLcz",
        "outputId": "28ecfd9e-4379-4386-afeb-88723807f3cb"
      },
      "outputs": [
        {
          "output_type": "display_data",
          "data": {
            "text/plain": [
              "(220971, 3)"
            ]
          },
          "metadata": {}
        },
        {
          "output_type": "display_data",
          "data": {
            "text/plain": [
              "(73657, 3)"
            ]
          },
          "metadata": {}
        },
        {
          "output_type": "display_data",
          "data": {
            "text/plain": [
              "(220971,)"
            ]
          },
          "metadata": {}
        },
        {
          "output_type": "display_data",
          "data": {
            "text/plain": [
              "(73657,)"
            ]
          },
          "metadata": {}
        }
      ],
      "source": [
        "display(features_train.shape, features_test.shape, target_train.shape, target_test.shape)"
      ]
    },
    {
      "cell_type": "code",
      "execution_count": 148,
      "metadata": {
        "colab": {
          "base_uri": "https://localhost:8080/",
          "height": 88
        },
        "id": "qWEAbymtLLcz",
        "outputId": "6082af7e-cd88-42fa-adc9-cc3ed1af4548"
      },
      "outputs": [
        {
          "output_type": "display_data",
          "data": {
            "text/plain": [
              "(220971, 9)"
            ]
          },
          "metadata": {}
        },
        {
          "output_type": "display_data",
          "data": {
            "text/plain": [
              "(73657, 9)"
            ]
          },
          "metadata": {}
        },
        {
          "output_type": "display_data",
          "data": {
            "text/plain": [
              "(220971,)"
            ]
          },
          "metadata": {}
        },
        {
          "output_type": "display_data",
          "data": {
            "text/plain": [
              "(73657,)"
            ]
          },
          "metadata": {}
        }
      ],
      "source": [
        "display(features_train_wc.shape, features_test_wc.shape, target_train_wc.shape, target_test_wc.shape)"
      ]
    },
    {
      "cell_type": "markdown",
      "metadata": {
        "id": "pu5C8tR3LLcz"
      },
      "source": [
        "## Обучение моделей"
      ]
    },
    {
      "cell_type": "markdown",
      "metadata": {
        "id": "s3g9I_3NLLcz"
      },
      "source": [
        "### Dummy Regressor"
      ]
    },
    {
      "cell_type": "code",
      "execution_count": 149,
      "metadata": {
        "id": "uiSlCxoRLLcz"
      },
      "outputs": [],
      "source": [
        "start_time = time.time()\n",
        "\n",
        "dummy_regr = DummyRegressor(strategy=\"mean\")\n",
        "dummy_regr.fit(features_train, target_train)\n",
        "\n",
        "end_time = time.time()\n",
        "compare_data[0].append( round(end_time - start_time, 2))"
      ]
    },
    {
      "cell_type": "code",
      "execution_count": 150,
      "metadata": {
        "id": "y1nJennCLLcz"
      },
      "outputs": [],
      "source": [
        "start_time = time.time()\n",
        "\n",
        "dummy_pred = dummy_regr.predict(features_test)\n",
        "\n",
        "end_time = time.time()\n",
        "compare_data[0].append(round(end_time - start_time, 2))"
      ]
    },
    {
      "cell_type": "code",
      "execution_count": 151,
      "metadata": {
        "id": "fRtFM3pILLcz"
      },
      "outputs": [],
      "source": [
        "compare_data[0].append(round(rmse(target_test, dummy_pred),2))"
      ]
    },
    {
      "cell_type": "markdown",
      "metadata": {
        "id": "2XQQVAOfLLc0"
      },
      "source": [
        "### Linear Regression"
      ]
    },
    {
      "cell_type": "code",
      "execution_count": 152,
      "metadata": {
        "id": "YjCzyCvZLLc0"
      },
      "outputs": [],
      "source": [
        "model_reg = LinearRegression()"
      ]
    },
    {
      "cell_type": "code",
      "execution_count": 153,
      "metadata": {
        "id": "VTRtxBCsLLc0"
      },
      "outputs": [],
      "source": [
        "start_time = time.time()\n",
        "\n",
        "model_reg.fit(features_train, target_train)\n",
        "\n",
        "end_time = time.time()\n",
        "compare_data[1].append(round(end_time - start_time, 2))"
      ]
    },
    {
      "cell_type": "code",
      "execution_count": 154,
      "metadata": {
        "id": "l9Yl-UpTLLc0"
      },
      "outputs": [],
      "source": [
        "start_time = time.time()\n",
        "\n",
        "reg_pred = model_reg.predict(features_test)\n",
        "\n",
        "end_time = time.time()\n",
        "compare_data[1].append(round(end_time - start_time, 2))"
      ]
    },
    {
      "cell_type": "code",
      "execution_count": 155,
      "metadata": {
        "id": "3qHJyIfILLc0"
      },
      "outputs": [],
      "source": [
        "compare_data[1].append(round(rmse(target_test, reg_pred), 2))"
      ]
    },
    {
      "cell_type": "markdown",
      "metadata": {
        "id": "VeHZztpMLLc0"
      },
      "source": [
        "### Decision Tree Regressor"
      ]
    },
    {
      "cell_type": "code",
      "execution_count": 156,
      "metadata": {
        "colab": {
          "base_uri": "https://localhost:8080/"
        },
        "id": "6Dgb3GkYLLc0",
        "outputId": "8f346c73-8924-43ca-822e-3682bc8750c7"
      },
      "outputs": [
        {
          "output_type": "stream",
          "name": "stdout",
          "text": [
            "Fitting 5 folds for each of 8 candidates, totalling 40 fits\n",
            "Лучший средний RMSE на обучающей выборке: 2118.22 , для модели с параметрами: {'max_depth': 13}\n"
          ]
        }
      ],
      "source": [
        "start_time = time.time()\n",
        "\n",
        "clf_tree = DecisionTreeRegressor(random_state=42)\n",
        "parametrs_tree = {'max_depth': range (1, 32, 4)}\n",
        "grid_tree = GridSearchCV(clf_tree, parametrs_tree, cv=5, verbose=1, n_jobs=-1, scoring=rmse_scorer)\n",
        "grid_tree.fit(features_train, target_train)\n",
        "print('Лучший средний RMSE на обучающей выборке:', -round(grid_tree.best_score_, 2), ', для модели с параметрами:', grid_tree.best_params_)\n",
        "\n",
        "model_tree = DecisionTreeRegressor(random_state=42, max_depth = grid_tree.best_params_['max_depth'])\n",
        "model_tree.fit(features_train, target_train)\n",
        "\n",
        "end_time = time.time()\n",
        "compare_data[2].append(round(end_time - start_time, 2))"
      ]
    },
    {
      "cell_type": "code",
      "execution_count": 157,
      "metadata": {
        "id": "noaSFVuELLc0"
      },
      "outputs": [],
      "source": [
        "start_time = time.time()\n",
        "\n",
        "tree_pred = model_tree.predict(features_test)\n",
        "\n",
        "end_time = time.time()\n",
        "compare_data[2].append(round(end_time - start_time, 2))"
      ]
    },
    {
      "cell_type": "code",
      "execution_count": 158,
      "metadata": {
        "id": "cKKQ3wniLLc0"
      },
      "outputs": [],
      "source": [
        "compare_data[2].append(round(rmse(target_test, tree_pred), 2))"
      ]
    },
    {
      "cell_type": "markdown",
      "metadata": {
        "id": "SMo7UgkfLLc0"
      },
      "source": [
        "### Random Forest Regressor"
      ]
    },
    {
      "cell_type": "code",
      "execution_count": 159,
      "metadata": {
        "colab": {
          "base_uri": "https://localhost:8080/"
        },
        "id": "8k3vouOmLLc0",
        "outputId": "67755992-273b-475e-9727-3024fc6c4f70"
      },
      "outputs": [
        {
          "output_type": "stream",
          "name": "stdout",
          "text": [
            "Fitting 5 folds for each of 28 candidates, totalling 140 fits\n",
            "Лучший средний RMSE на обучающей выборке: 2187.72 , для модели с параметрами: {'max_depth': 7, 'n_estimators': 16}\n"
          ]
        }
      ],
      "source": [
        "start_time = time.time()\n",
        "\n",
        "clf_forest = RandomForestRegressor(random_state=42)\n",
        "parametrs_forest = {'n_estimators': range (1, 20, 5), 'max_depth': range (1, 8, 1)}\n",
        "grid_forest = GridSearchCV(clf_forest, parametrs_forest, cv=5, verbose=10, n_jobs=-1, scoring=rmse_scorer)\n",
        "grid_forest.fit(features_train, target_train)\n",
        "grid_forest.best_params_\n",
        "print('Лучший средний RMSE на обучающей выборке:', -round(grid_forest.best_score_, 2), ', для модели с параметрами:', grid_forest.best_params_)\n",
        "\n",
        "model_forest = RandomForestRegressor(random_state=42, max_depth = grid_forest.best_params_['max_depth'], n_estimators = grid_forest.best_params_['n_estimators'])\n",
        "model_forest.fit(features_train, target_train)\n",
        "\n",
        "end_time = time.time()\n",
        "compare_data[3].append(round(end_time - start_time, 2))"
      ]
    },
    {
      "cell_type": "code",
      "execution_count": 160,
      "metadata": {
        "id": "uMvu5pIhLLc0"
      },
      "outputs": [],
      "source": [
        "start_time = time.time()\n",
        "\n",
        "forest_pred = model_forest.predict(features_test)\n",
        "\n",
        "end_time = time.time()\n",
        "compare_data[3].append(round(end_time - start_time, 2))"
      ]
    },
    {
      "cell_type": "code",
      "execution_count": 161,
      "metadata": {
        "id": "moCFj2hqLLc0"
      },
      "outputs": [],
      "source": [
        "compare_data[3].append(round(rmse(target_test, forest_pred), 2))"
      ]
    },
    {
      "cell_type": "markdown",
      "metadata": {
        "id": "3014g37aLLc0"
      },
      "source": [
        "### CatBoost"
      ]
    },
    {
      "cell_type": "code",
      "execution_count": 162,
      "metadata": {
        "id": "04gEFPruLLc1"
      },
      "outputs": [],
      "source": [
        "model_cat = CatBoostRegressor(loss_function=\"RMSE\", iterations=200)"
      ]
    },
    {
      "cell_type": "code",
      "execution_count": 163,
      "metadata": {
        "colab": {
          "base_uri": "https://localhost:8080/"
        },
        "id": "0pHOvjcaLLc1",
        "outputId": "8256d79b-27bd-4fd5-9583-d4fc5cfe2d2a"
      },
      "outputs": [
        {
          "output_type": "stream",
          "name": "stdout",
          "text": [
            "Learning rate set to 0.355506\n",
            "0:\tlearn: 3583.9651335\ttotal: 327ms\tremaining: 1m 5s\n",
            "10:\tlearn: 1920.8136123\ttotal: 3.07s\tremaining: 52.7s\n",
            "20:\tlearn: 1795.6124841\ttotal: 7.29s\tremaining: 1m 2s\n",
            "30:\tlearn: 1743.4222238\ttotal: 9.4s\tremaining: 51.2s\n",
            "40:\tlearn: 1709.4136500\ttotal: 11.6s\tremaining: 45.1s\n",
            "50:\tlearn: 1682.3426565\ttotal: 14s\tremaining: 40.8s\n",
            "60:\tlearn: 1663.2209833\ttotal: 16.3s\tremaining: 37.1s\n",
            "70:\tlearn: 1647.4049285\ttotal: 20.1s\tremaining: 36.4s\n",
            "80:\tlearn: 1634.2704852\ttotal: 23.1s\tremaining: 34s\n",
            "90:\tlearn: 1622.9531359\ttotal: 25.4s\tremaining: 30.5s\n",
            "100:\tlearn: 1610.4488885\ttotal: 27.7s\tremaining: 27.1s\n",
            "110:\tlearn: 1602.5023666\ttotal: 30.7s\tremaining: 24.6s\n",
            "120:\tlearn: 1593.5687729\ttotal: 34.1s\tremaining: 22.3s\n",
            "130:\tlearn: 1584.1035441\ttotal: 37.6s\tremaining: 19.8s\n",
            "140:\tlearn: 1578.2103835\ttotal: 39.9s\tremaining: 16.7s\n",
            "150:\tlearn: 1570.3746827\ttotal: 42.1s\tremaining: 13.7s\n",
            "160:\tlearn: 1565.2924294\ttotal: 44.3s\tremaining: 10.7s\n",
            "170:\tlearn: 1559.9076432\ttotal: 46.6s\tremaining: 7.91s\n",
            "180:\tlearn: 1555.6946954\ttotal: 51.2s\tremaining: 5.37s\n",
            "190:\tlearn: 1550.1628278\ttotal: 53.7s\tremaining: 2.53s\n",
            "199:\tlearn: 1545.9688502\ttotal: 55.9s\tremaining: 0us\n"
          ]
        }
      ],
      "source": [
        "start_time = time.time()\n",
        "\n",
        "model_cat.fit(features_train_wc, target_train_wc, verbose=10, cat_features=cat_features)\n",
        "\n",
        "end_time = time.time()\n",
        "compare_data[4].append(round(end_time - start_time, 2))"
      ]
    },
    {
      "cell_type": "code",
      "execution_count": 164,
      "metadata": {
        "id": "iY64f-qBLLc1"
      },
      "outputs": [],
      "source": [
        "start_time = time.time()\n",
        "\n",
        "cat_pred = model_cat.predict(features_test_wc)\n",
        "\n",
        "end_time = time.time()\n",
        "compare_data[4].append(round(end_time - start_time, 2))"
      ]
    },
    {
      "cell_type": "code",
      "execution_count": 165,
      "metadata": {
        "id": "6u9lICcmLLc1"
      },
      "outputs": [],
      "source": [
        "compare_data[4].append(round(rmse(target_test, cat_pred), 2))"
      ]
    },
    {
      "cell_type": "markdown",
      "metadata": {
        "id": "ohw3XNd6LLc1"
      },
      "source": [
        "### LightGBM"
      ]
    },
    {
      "cell_type": "code",
      "execution_count": 166,
      "metadata": {
        "id": "mCW6cjwNLLc1"
      },
      "outputs": [],
      "source": [
        "model_lgbm = LGBMRegressor()"
      ]
    },
    {
      "cell_type": "code",
      "execution_count": 167,
      "metadata": {
        "id": "Fvnbb832LLc1"
      },
      "outputs": [],
      "source": [
        "start_time = time.time()\n",
        "\n",
        "model_lgbm.fit(features_train_wc, target_train_wc)\n",
        "\n",
        "end_time = time.time()\n",
        "compare_data[5].append(round(end_time - start_time, 2))"
      ]
    },
    {
      "cell_type": "code",
      "execution_count": 168,
      "metadata": {
        "id": "ymzCp86yLLc1"
      },
      "outputs": [],
      "source": [
        "start_time = time.time()\n",
        "\n",
        "lgbm_pred = model_lgbm.predict(features_test_wc)\n",
        "\n",
        "end_time = time.time()\n",
        "compare_data[5].append(round(end_time - start_time, 2))"
      ]
    },
    {
      "cell_type": "code",
      "execution_count": 169,
      "metadata": {
        "id": "Rwjxs0NTLLc1"
      },
      "outputs": [],
      "source": [
        "compare_data[5].append(round(rmse(target_test, lgbm_pred), 2))"
      ]
    },
    {
      "cell_type": "markdown",
      "metadata": {
        "id": "ZjZ9RfPELLc1"
      },
      "source": [
        "## Анализ моделей"
      ]
    },
    {
      "cell_type": "code",
      "execution_count": 170,
      "metadata": {
        "id": "zfFZWPExLLc1"
      },
      "outputs": [],
      "source": [
        "index = ['Dummy Regressor', 'Linear Regression', 'Decision Tree Regressor', 'Random Forest Regressor', \n",
        "        'CatBoost', 'LightGBM']\n",
        "columns = ['Время обучения', 'Скорость предсказания', 'Качество предсказания']\n",
        "\n",
        "compare = pd.DataFrame(compare_data, index, columns).sort_values('Качество предсказания')"
      ]
    },
    {
      "cell_type": "code",
      "execution_count": 171,
      "metadata": {
        "colab": {
          "base_uri": "https://localhost:8080/",
          "height": 238
        },
        "id": "gfLgp4KaLLc1",
        "outputId": "3a6a3934-72cf-4923-c3fe-2dbddb81e606"
      },
      "outputs": [
        {
          "output_type": "execute_result",
          "data": {
            "text/plain": [
              "                         Время обучения  Скорость предсказания  \\\n",
              "LightGBM                           1.88                   0.47   \n",
              "CatBoost                          56.57                   0.17   \n",
              "Decision Tree Regressor           18.33                   0.05   \n",
              "Random Forest Regressor           86.33                   0.10   \n",
              "Linear Regression                  0.09                   0.02   \n",
              "Dummy Regressor                    0.00                   0.00   \n",
              "\n",
              "                         Качество предсказания  \n",
              "LightGBM                               1597.94  \n",
              "CatBoost                               1602.70  \n",
              "Decision Tree Regressor                2108.20  \n",
              "Random Forest Regressor                2200.51  \n",
              "Linear Regression                      3144.79  \n",
              "Dummy Regressor                        4601.66  "
            ],
            "text/html": [
              "\n",
              "  <div id=\"df-5d07a8b4-7453-4b2d-8f2b-c2e44446ced7\">\n",
              "    <div class=\"colab-df-container\">\n",
              "      <div>\n",
              "<style scoped>\n",
              "    .dataframe tbody tr th:only-of-type {\n",
              "        vertical-align: middle;\n",
              "    }\n",
              "\n",
              "    .dataframe tbody tr th {\n",
              "        vertical-align: top;\n",
              "    }\n",
              "\n",
              "    .dataframe thead th {\n",
              "        text-align: right;\n",
              "    }\n",
              "</style>\n",
              "<table border=\"1\" class=\"dataframe\">\n",
              "  <thead>\n",
              "    <tr style=\"text-align: right;\">\n",
              "      <th></th>\n",
              "      <th>Время обучения</th>\n",
              "      <th>Скорость предсказания</th>\n",
              "      <th>Качество предсказания</th>\n",
              "    </tr>\n",
              "  </thead>\n",
              "  <tbody>\n",
              "    <tr>\n",
              "      <th>LightGBM</th>\n",
              "      <td>1.88</td>\n",
              "      <td>0.47</td>\n",
              "      <td>1597.94</td>\n",
              "    </tr>\n",
              "    <tr>\n",
              "      <th>CatBoost</th>\n",
              "      <td>56.57</td>\n",
              "      <td>0.17</td>\n",
              "      <td>1602.70</td>\n",
              "    </tr>\n",
              "    <tr>\n",
              "      <th>Decision Tree Regressor</th>\n",
              "      <td>18.33</td>\n",
              "      <td>0.05</td>\n",
              "      <td>2108.20</td>\n",
              "    </tr>\n",
              "    <tr>\n",
              "      <th>Random Forest Regressor</th>\n",
              "      <td>86.33</td>\n",
              "      <td>0.10</td>\n",
              "      <td>2200.51</td>\n",
              "    </tr>\n",
              "    <tr>\n",
              "      <th>Linear Regression</th>\n",
              "      <td>0.09</td>\n",
              "      <td>0.02</td>\n",
              "      <td>3144.79</td>\n",
              "    </tr>\n",
              "    <tr>\n",
              "      <th>Dummy Regressor</th>\n",
              "      <td>0.00</td>\n",
              "      <td>0.00</td>\n",
              "      <td>4601.66</td>\n",
              "    </tr>\n",
              "  </tbody>\n",
              "</table>\n",
              "</div>\n",
              "      <button class=\"colab-df-convert\" onclick=\"convertToInteractive('df-5d07a8b4-7453-4b2d-8f2b-c2e44446ced7')\"\n",
              "              title=\"Convert this dataframe to an interactive table.\"\n",
              "              style=\"display:none;\">\n",
              "        \n",
              "  <svg xmlns=\"http://www.w3.org/2000/svg\" height=\"24px\"viewBox=\"0 0 24 24\"\n",
              "       width=\"24px\">\n",
              "    <path d=\"M0 0h24v24H0V0z\" fill=\"none\"/>\n",
              "    <path d=\"M18.56 5.44l.94 2.06.94-2.06 2.06-.94-2.06-.94-.94-2.06-.94 2.06-2.06.94zm-11 1L8.5 8.5l.94-2.06 2.06-.94-2.06-.94L8.5 2.5l-.94 2.06-2.06.94zm10 10l.94 2.06.94-2.06 2.06-.94-2.06-.94-.94-2.06-.94 2.06-2.06.94z\"/><path d=\"M17.41 7.96l-1.37-1.37c-.4-.4-.92-.59-1.43-.59-.52 0-1.04.2-1.43.59L10.3 9.45l-7.72 7.72c-.78.78-.78 2.05 0 2.83L4 21.41c.39.39.9.59 1.41.59.51 0 1.02-.2 1.41-.59l7.78-7.78 2.81-2.81c.8-.78.8-2.07 0-2.86zM5.41 20L4 18.59l7.72-7.72 1.47 1.35L5.41 20z\"/>\n",
              "  </svg>\n",
              "      </button>\n",
              "      \n",
              "  <style>\n",
              "    .colab-df-container {\n",
              "      display:flex;\n",
              "      flex-wrap:wrap;\n",
              "      gap: 12px;\n",
              "    }\n",
              "\n",
              "    .colab-df-convert {\n",
              "      background-color: #E8F0FE;\n",
              "      border: none;\n",
              "      border-radius: 50%;\n",
              "      cursor: pointer;\n",
              "      display: none;\n",
              "      fill: #1967D2;\n",
              "      height: 32px;\n",
              "      padding: 0 0 0 0;\n",
              "      width: 32px;\n",
              "    }\n",
              "\n",
              "    .colab-df-convert:hover {\n",
              "      background-color: #E2EBFA;\n",
              "      box-shadow: 0px 1px 2px rgba(60, 64, 67, 0.3), 0px 1px 3px 1px rgba(60, 64, 67, 0.15);\n",
              "      fill: #174EA6;\n",
              "    }\n",
              "\n",
              "    [theme=dark] .colab-df-convert {\n",
              "      background-color: #3B4455;\n",
              "      fill: #D2E3FC;\n",
              "    }\n",
              "\n",
              "    [theme=dark] .colab-df-convert:hover {\n",
              "      background-color: #434B5C;\n",
              "      box-shadow: 0px 1px 3px 1px rgba(0, 0, 0, 0.15);\n",
              "      filter: drop-shadow(0px 1px 2px rgba(0, 0, 0, 0.3));\n",
              "      fill: #FFFFFF;\n",
              "    }\n",
              "  </style>\n",
              "\n",
              "      <script>\n",
              "        const buttonEl =\n",
              "          document.querySelector('#df-5d07a8b4-7453-4b2d-8f2b-c2e44446ced7 button.colab-df-convert');\n",
              "        buttonEl.style.display =\n",
              "          google.colab.kernel.accessAllowed ? 'block' : 'none';\n",
              "\n",
              "        async function convertToInteractive(key) {\n",
              "          const element = document.querySelector('#df-5d07a8b4-7453-4b2d-8f2b-c2e44446ced7');\n",
              "          const dataTable =\n",
              "            await google.colab.kernel.invokeFunction('convertToInteractive',\n",
              "                                                     [key], {});\n",
              "          if (!dataTable) return;\n",
              "\n",
              "          const docLinkHtml = 'Like what you see? Visit the ' +\n",
              "            '<a target=\"_blank\" href=https://colab.research.google.com/notebooks/data_table.ipynb>data table notebook</a>'\n",
              "            + ' to learn more about interactive tables.';\n",
              "          element.innerHTML = '';\n",
              "          dataTable['output_type'] = 'display_data';\n",
              "          await google.colab.output.renderOutput(dataTable, element);\n",
              "          const docLink = document.createElement('div');\n",
              "          docLink.innerHTML = docLinkHtml;\n",
              "          element.appendChild(docLink);\n",
              "        }\n",
              "      </script>\n",
              "    </div>\n",
              "  </div>\n",
              "  "
            ]
          },
          "metadata": {},
          "execution_count": 171
        }
      ],
      "source": [
        "compare"
      ]
    },
    {
      "cell_type": "markdown",
      "metadata": {
        "id": "oS8LzixJLLc1"
      },
      "source": [
        "Итого: победитель LightGBM с результатом RMSE в 1598.47 и временем на обучение 28.03. Утешительный приз достаётся Dummy."
      ]
    }
  ],
  "metadata": {
    "ExecuteTimeLog": [
      {
        "duration": 409,
        "start_time": "2022-07-13T13:43:27.829Z"
      },
      {
        "duration": 1061,
        "start_time": "2022-07-13T13:43:59.043Z"
      },
      {
        "duration": 137,
        "start_time": "2022-07-13T13:44:07.449Z"
      },
      {
        "duration": 18,
        "start_time": "2022-07-13T13:44:16.868Z"
      },
      {
        "duration": 14,
        "start_time": "2022-07-13T13:46:49.304Z"
      },
      {
        "duration": 12,
        "start_time": "2022-07-13T13:46:57.864Z"
      },
      {
        "duration": 0,
        "start_time": "2022-07-13T13:48:36.133Z"
      },
      {
        "duration": 4,
        "start_time": "2022-07-13T13:48:37.692Z"
      },
      {
        "duration": 5,
        "start_time": "2022-07-13T13:48:46.939Z"
      },
      {
        "duration": 1023,
        "start_time": "2022-07-13T13:48:53.354Z"
      },
      {
        "duration": 129,
        "start_time": "2022-07-13T13:50:20.555Z"
      },
      {
        "duration": 125,
        "start_time": "2022-07-13T13:50:25.451Z"
      },
      {
        "duration": 2,
        "start_time": "2022-07-13T13:54:09.643Z"
      },
      {
        "duration": 4,
        "start_time": "2022-07-13T13:54:29.643Z"
      },
      {
        "duration": 4,
        "start_time": "2022-07-13T13:56:32.713Z"
      },
      {
        "duration": 135,
        "start_time": "2022-07-13T13:56:33.052Z"
      },
      {
        "duration": 129,
        "start_time": "2022-07-13T13:56:34.634Z"
      },
      {
        "duration": 13,
        "start_time": "2022-07-13T13:56:37.163Z"
      },
      {
        "duration": 3,
        "start_time": "2022-07-13T13:58:57.163Z"
      },
      {
        "duration": 7,
        "start_time": "2022-07-13T13:59:16.172Z"
      },
      {
        "duration": 7,
        "start_time": "2022-07-13T13:59:20.315Z"
      },
      {
        "duration": 28,
        "start_time": "2022-07-13T13:59:35.843Z"
      },
      {
        "duration": 21,
        "start_time": "2022-07-13T13:59:53.151Z"
      },
      {
        "duration": 118,
        "start_time": "2022-07-13T14:01:09.404Z"
      },
      {
        "duration": 28,
        "start_time": "2022-07-13T14:02:00.352Z"
      },
      {
        "duration": 23,
        "start_time": "2022-07-13T14:02:06.603Z"
      },
      {
        "duration": 26,
        "start_time": "2022-07-13T14:02:16.660Z"
      },
      {
        "duration": 131,
        "start_time": "2022-07-13T14:02:22.856Z"
      },
      {
        "duration": 3,
        "start_time": "2022-07-13T14:02:35.053Z"
      },
      {
        "duration": 115,
        "start_time": "2022-07-13T14:02:35.171Z"
      },
      {
        "duration": 8,
        "start_time": "2022-07-13T14:16:19.903Z"
      },
      {
        "duration": 211,
        "start_time": "2022-07-13T14:16:43.890Z"
      },
      {
        "duration": 307,
        "start_time": "2022-07-13T14:16:56.402Z"
      },
      {
        "duration": 328,
        "start_time": "2022-07-13T14:17:12.323Z"
      },
      {
        "duration": 128,
        "start_time": "2022-07-13T14:17:36.130Z"
      },
      {
        "duration": 13,
        "start_time": "2022-07-13T14:18:55.639Z"
      },
      {
        "duration": 121,
        "start_time": "2022-07-13T14:19:10.968Z"
      },
      {
        "duration": 23,
        "start_time": "2022-07-13T14:19:16.989Z"
      },
      {
        "duration": 89,
        "start_time": "2022-07-13T14:19:22.357Z"
      },
      {
        "duration": 116,
        "start_time": "2022-07-13T14:19:38.408Z"
      },
      {
        "duration": 11,
        "start_time": "2022-07-13T14:19:38.926Z"
      },
      {
        "duration": 10,
        "start_time": "2022-07-13T14:21:07.939Z"
      },
      {
        "duration": 683,
        "start_time": "2022-07-13T14:21:23.918Z"
      },
      {
        "duration": 112,
        "start_time": "2022-07-13T14:21:29.411Z"
      },
      {
        "duration": 45,
        "start_time": "2022-07-13T14:25:03.717Z"
      },
      {
        "duration": 106,
        "start_time": "2022-07-13T14:29:18.850Z"
      },
      {
        "duration": 3,
        "start_time": "2022-07-13T14:31:02.336Z"
      },
      {
        "duration": 4,
        "start_time": "2022-07-13T14:31:09.496Z"
      },
      {
        "duration": 3,
        "start_time": "2022-07-13T14:32:18.776Z"
      },
      {
        "duration": 5,
        "start_time": "2022-07-13T14:33:06.277Z"
      },
      {
        "duration": 3,
        "start_time": "2022-07-13T14:33:31.196Z"
      },
      {
        "duration": 41,
        "start_time": "2022-07-13T14:33:54.289Z"
      },
      {
        "duration": 5,
        "start_time": "2022-07-13T14:33:58.630Z"
      },
      {
        "duration": 6,
        "start_time": "2022-07-13T14:34:36.802Z"
      },
      {
        "duration": 4,
        "start_time": "2022-07-13T14:36:05.808Z"
      },
      {
        "duration": 5,
        "start_time": "2022-07-13T14:36:22.468Z"
      },
      {
        "duration": 4,
        "start_time": "2022-07-13T14:36:24.938Z"
      },
      {
        "duration": 134,
        "start_time": "2022-07-13T14:37:43.442Z"
      },
      {
        "duration": 4,
        "start_time": "2022-07-13T14:38:30.656Z"
      },
      {
        "duration": 90,
        "start_time": "2022-07-13T14:39:07.678Z"
      },
      {
        "duration": 127,
        "start_time": "2022-07-13T14:39:24.131Z"
      },
      {
        "duration": 9,
        "start_time": "2022-07-13T14:40:58.117Z"
      },
      {
        "duration": 51,
        "start_time": "2022-07-13T14:41:14.238Z"
      },
      {
        "duration": 3,
        "start_time": "2022-07-13T14:41:18.950Z"
      },
      {
        "duration": 3,
        "start_time": "2022-07-13T14:41:42.236Z"
      },
      {
        "duration": 1081,
        "start_time": "2022-07-13T14:41:56.289Z"
      },
      {
        "duration": 3,
        "start_time": "2022-07-13T14:42:24.517Z"
      },
      {
        "duration": 3,
        "start_time": "2022-07-13T14:44:19.217Z"
      },
      {
        "duration": 1374,
        "start_time": "2022-07-13T14:44:20.077Z"
      },
      {
        "duration": 2445,
        "start_time": "2022-07-13T14:45:03.062Z"
      },
      {
        "duration": 1975,
        "start_time": "2022-07-13T14:45:22.861Z"
      },
      {
        "duration": 3,
        "start_time": "2022-07-13T14:45:29.092Z"
      },
      {
        "duration": 15478,
        "start_time": "2022-07-13T14:45:29.237Z"
      },
      {
        "duration": 3,
        "start_time": "2022-07-13T14:46:18.888Z"
      },
      {
        "duration": 81394,
        "start_time": "2022-07-13T14:46:18.893Z"
      },
      {
        "duration": 3,
        "start_time": "2022-07-13T14:48:00.089Z"
      },
      {
        "duration": 10619,
        "start_time": "2022-07-13T14:48:00.197Z"
      },
      {
        "duration": 110,
        "start_time": "2022-07-13T14:48:35.137Z"
      },
      {
        "duration": 107,
        "start_time": "2022-07-13T14:48:53.510Z"
      },
      {
        "duration": 5,
        "start_time": "2022-07-13T14:49:19.589Z"
      },
      {
        "duration": 140,
        "start_time": "2022-07-13T14:51:35.857Z"
      },
      {
        "duration": 3,
        "start_time": "2022-07-13T14:53:51.757Z"
      },
      {
        "duration": 103,
        "start_time": "2022-07-13T14:54:11.449Z"
      },
      {
        "duration": 3,
        "start_time": "2022-07-13T15:01:58.069Z"
      },
      {
        "duration": 3,
        "start_time": "2022-07-13T15:02:50.498Z"
      },
      {
        "duration": 33,
        "start_time": "2022-07-13T15:04:05.659Z"
      },
      {
        "duration": 20,
        "start_time": "2022-07-13T15:04:48.510Z"
      },
      {
        "duration": 25,
        "start_time": "2022-07-13T15:04:56.210Z"
      },
      {
        "duration": 1376,
        "start_time": "2022-07-13T15:06:00.740Z"
      },
      {
        "duration": 3,
        "start_time": "2022-07-13T15:06:02.118Z"
      },
      {
        "duration": 882,
        "start_time": "2022-07-13T15:06:02.123Z"
      },
      {
        "duration": 9,
        "start_time": "2022-07-13T15:06:03.006Z"
      },
      {
        "duration": 5,
        "start_time": "2022-07-13T15:06:03.016Z"
      },
      {
        "duration": 150,
        "start_time": "2022-07-13T15:06:03.023Z"
      },
      {
        "duration": 145,
        "start_time": "2022-07-13T15:06:03.174Z"
      },
      {
        "duration": 16,
        "start_time": "2022-07-13T15:06:03.320Z"
      },
      {
        "duration": 27,
        "start_time": "2022-07-13T15:06:03.337Z"
      },
      {
        "duration": 126,
        "start_time": "2022-07-13T15:06:03.366Z"
      },
      {
        "duration": 189,
        "start_time": "2022-07-13T15:06:03.493Z"
      },
      {
        "duration": 149,
        "start_time": "2022-07-13T15:06:03.684Z"
      },
      {
        "duration": 46,
        "start_time": "2022-07-13T15:06:03.835Z"
      },
      {
        "duration": 18,
        "start_time": "2022-07-13T15:06:03.883Z"
      },
      {
        "duration": 130,
        "start_time": "2022-07-13T15:06:03.903Z"
      },
      {
        "duration": 6,
        "start_time": "2022-07-13T15:06:04.035Z"
      },
      {
        "duration": 14,
        "start_time": "2022-07-13T15:06:04.043Z"
      },
      {
        "duration": 13,
        "start_time": "2022-07-13T15:06:04.059Z"
      },
      {
        "duration": 110,
        "start_time": "2022-07-13T15:06:04.073Z"
      },
      {
        "duration": 0,
        "start_time": "2022-07-13T15:06:04.185Z"
      },
      {
        "duration": 0,
        "start_time": "2022-07-13T15:06:04.187Z"
      },
      {
        "duration": 0,
        "start_time": "2022-07-13T15:06:04.187Z"
      },
      {
        "duration": 0,
        "start_time": "2022-07-13T15:06:04.189Z"
      },
      {
        "duration": 0,
        "start_time": "2022-07-13T15:06:04.189Z"
      },
      {
        "duration": 0,
        "start_time": "2022-07-13T15:06:04.191Z"
      },
      {
        "duration": 0,
        "start_time": "2022-07-13T15:06:04.191Z"
      },
      {
        "duration": 4,
        "start_time": "2022-07-13T15:06:33.060Z"
      },
      {
        "duration": 1068,
        "start_time": "2022-07-13T15:08:05.400Z"
      },
      {
        "duration": 20,
        "start_time": "2022-07-13T15:08:07.272Z"
      },
      {
        "duration": 9,
        "start_time": "2022-07-13T15:09:00.303Z"
      },
      {
        "duration": 21,
        "start_time": "2022-07-13T15:09:03.711Z"
      },
      {
        "duration": 1197,
        "start_time": "2022-07-13T15:09:18.138Z"
      },
      {
        "duration": 3,
        "start_time": "2022-07-13T15:09:19.337Z"
      },
      {
        "duration": 838,
        "start_time": "2022-07-13T15:09:19.341Z"
      },
      {
        "duration": 8,
        "start_time": "2022-07-13T15:09:20.181Z"
      },
      {
        "duration": 5,
        "start_time": "2022-07-13T15:09:20.191Z"
      },
      {
        "duration": 135,
        "start_time": "2022-07-13T15:09:20.197Z"
      },
      {
        "duration": 142,
        "start_time": "2022-07-13T15:09:20.333Z"
      },
      {
        "duration": 14,
        "start_time": "2022-07-13T15:09:20.477Z"
      },
      {
        "duration": 4,
        "start_time": "2022-07-13T15:09:20.493Z"
      },
      {
        "duration": 129,
        "start_time": "2022-07-13T15:09:20.499Z"
      },
      {
        "duration": 200,
        "start_time": "2022-07-13T15:09:20.630Z"
      },
      {
        "duration": 151,
        "start_time": "2022-07-13T15:09:20.832Z"
      },
      {
        "duration": 1045,
        "start_time": "2022-07-13T15:09:20.985Z"
      },
      {
        "duration": 75,
        "start_time": "2022-07-13T15:09:22.034Z"
      },
      {
        "duration": 7,
        "start_time": "2022-07-13T15:09:22.110Z"
      },
      {
        "duration": 5,
        "start_time": "2022-07-13T15:09:22.118Z"
      },
      {
        "duration": 7,
        "start_time": "2022-07-13T15:09:22.124Z"
      },
      {
        "duration": 6,
        "start_time": "2022-07-13T15:09:22.132Z"
      },
      {
        "duration": 1369,
        "start_time": "2022-07-13T15:09:22.139Z"
      },
      {
        "duration": 3,
        "start_time": "2022-07-13T15:09:23.509Z"
      },
      {
        "duration": 2018,
        "start_time": "2022-07-13T15:09:23.514Z"
      },
      {
        "duration": 94,
        "start_time": "2022-07-13T15:09:25.533Z"
      },
      {
        "duration": 9,
        "start_time": "2022-07-13T15:09:25.629Z"
      },
      {
        "duration": 0,
        "start_time": "2022-07-13T15:09:25.639Z"
      },
      {
        "duration": 0,
        "start_time": "2022-07-13T15:09:25.640Z"
      },
      {
        "duration": 4152,
        "start_time": "2022-07-13T15:09:54.308Z"
      },
      {
        "duration": 30,
        "start_time": "2022-07-13T15:10:01.938Z"
      },
      {
        "duration": 5,
        "start_time": "2022-07-13T15:10:09.657Z"
      },
      {
        "duration": 2,
        "start_time": "2022-07-13T15:10:15.529Z"
      },
      {
        "duration": 8706,
        "start_time": "2022-07-13T15:10:15.568Z"
      },
      {
        "duration": 20,
        "start_time": "2022-07-13T15:11:07.856Z"
      },
      {
        "duration": 6,
        "start_time": "2022-07-13T15:11:14.650Z"
      },
      {
        "duration": 6,
        "start_time": "2022-07-13T15:11:27.588Z"
      },
      {
        "duration": 675,
        "start_time": "2022-07-13T15:11:42.188Z"
      },
      {
        "duration": 5,
        "start_time": "2022-07-13T15:11:43.616Z"
      },
      {
        "duration": 60,
        "start_time": "2022-07-13T15:12:33.676Z"
      },
      {
        "duration": 57,
        "start_time": "2022-07-13T15:12:37.124Z"
      },
      {
        "duration": 597,
        "start_time": "2022-07-13T15:12:37.183Z"
      },
      {
        "duration": 7113,
        "start_time": "2022-07-13T15:12:41.556Z"
      },
      {
        "duration": 579,
        "start_time": "2022-07-13T15:13:03.798Z"
      },
      {
        "duration": 85,
        "start_time": "2022-07-13T15:13:04.380Z"
      },
      {
        "duration": 67,
        "start_time": "2022-07-13T15:14:04.058Z"
      },
      {
        "duration": 5,
        "start_time": "2022-07-13T15:14:16.648Z"
      },
      {
        "duration": 9,
        "start_time": "2022-07-13T15:16:56.248Z"
      },
      {
        "duration": 5,
        "start_time": "2022-07-13T15:17:20.136Z"
      },
      {
        "duration": 3,
        "start_time": "2022-07-13T15:17:22.733Z"
      },
      {
        "duration": 3,
        "start_time": "2022-07-13T15:17:22.769Z"
      },
      {
        "duration": 10,
        "start_time": "2022-07-13T15:18:34.317Z"
      },
      {
        "duration": 1233,
        "start_time": "2022-07-13T15:18:46.037Z"
      },
      {
        "duration": 3,
        "start_time": "2022-07-13T15:19:03.336Z"
      },
      {
        "duration": 75,
        "start_time": "2022-07-13T15:19:23.996Z"
      },
      {
        "duration": 17,
        "start_time": "2022-07-13T15:19:45.968Z"
      },
      {
        "duration": 5,
        "start_time": "2022-07-13T15:20:14.469Z"
      },
      {
        "duration": 55,
        "start_time": "2022-07-13T15:21:44.779Z"
      },
      {
        "duration": 7956,
        "start_time": "2022-07-13T15:21:49.776Z"
      },
      {
        "duration": 8127,
        "start_time": "2022-07-13T15:22:19.847Z"
      },
      {
        "duration": 168038,
        "start_time": "2022-07-13T15:24:14.157Z"
      },
      {
        "duration": 7917,
        "start_time": "2022-07-13T15:27:02.197Z"
      },
      {
        "duration": 433,
        "start_time": "2022-07-13T15:28:00.789Z"
      },
      {
        "duration": 12,
        "start_time": "2022-07-13T15:28:06.138Z"
      },
      {
        "duration": 4,
        "start_time": "2022-07-13T15:28:06.836Z"
      },
      {
        "duration": 15809,
        "start_time": "2022-07-13T15:28:22.542Z"
      },
      {
        "duration": 80,
        "start_time": "2022-07-13T15:28:45.796Z"
      },
      {
        "duration": 9,
        "start_time": "2022-07-13T15:28:47.357Z"
      },
      {
        "duration": 5,
        "start_time": "2022-07-13T15:28:48.977Z"
      },
      {
        "duration": 745,
        "start_time": "2022-07-13T15:29:02.197Z"
      },
      {
        "duration": 19,
        "start_time": "2022-07-13T15:29:03.638Z"
      },
      {
        "duration": 5,
        "start_time": "2022-07-13T15:29:04.077Z"
      },
      {
        "duration": 25794,
        "start_time": "2022-07-13T15:29:14.960Z"
      },
      {
        "duration": 731,
        "start_time": "2022-07-13T15:29:40.756Z"
      },
      {
        "duration": 21,
        "start_time": "2022-07-13T15:29:41.489Z"
      },
      {
        "duration": 4,
        "start_time": "2022-07-13T15:29:41.512Z"
      },
      {
        "duration": 26157,
        "start_time": "2022-07-13T15:30:10.141Z"
      },
      {
        "duration": 7790,
        "start_time": "2022-07-13T15:31:17.357Z"
      },
      {
        "duration": 183,
        "start_time": "2022-07-13T15:31:46.817Z"
      },
      {
        "duration": 5,
        "start_time": "2022-07-13T15:32:02.073Z"
      },
      {
        "duration": 1317,
        "start_time": "2022-07-13T15:51:29.299Z"
      },
      {
        "duration": 3,
        "start_time": "2022-07-13T15:51:30.618Z"
      },
      {
        "duration": 32,
        "start_time": "2022-07-13T15:51:30.623Z"
      },
      {
        "duration": 869,
        "start_time": "2022-07-13T15:51:30.656Z"
      },
      {
        "duration": 8,
        "start_time": "2022-07-13T15:51:31.528Z"
      },
      {
        "duration": 16,
        "start_time": "2022-07-13T15:51:31.537Z"
      },
      {
        "duration": 132,
        "start_time": "2022-07-13T15:51:31.554Z"
      },
      {
        "duration": 122,
        "start_time": "2022-07-13T15:51:31.688Z"
      },
      {
        "duration": 14,
        "start_time": "2022-07-13T15:51:31.811Z"
      },
      {
        "duration": 3,
        "start_time": "2022-07-13T15:51:31.826Z"
      },
      {
        "duration": 121,
        "start_time": "2022-07-13T15:51:31.830Z"
      },
      {
        "duration": 178,
        "start_time": "2022-07-13T15:51:31.963Z"
      },
      {
        "duration": 166,
        "start_time": "2022-07-13T15:51:32.143Z"
      },
      {
        "duration": 1179,
        "start_time": "2022-07-13T15:51:32.312Z"
      },
      {
        "duration": 78,
        "start_time": "2022-07-13T15:51:33.493Z"
      },
      {
        "duration": 6,
        "start_time": "2022-07-13T15:51:33.573Z"
      },
      {
        "duration": 10,
        "start_time": "2022-07-13T15:51:33.580Z"
      },
      {
        "duration": 6,
        "start_time": "2022-07-13T15:51:33.591Z"
      },
      {
        "duration": 10,
        "start_time": "2022-07-13T15:51:33.598Z"
      },
      {
        "duration": 93,
        "start_time": "2022-07-13T15:51:33.609Z"
      },
      {
        "duration": 100,
        "start_time": "2022-07-13T15:51:33.764Z"
      },
      {
        "duration": 11,
        "start_time": "2022-07-13T15:51:33.867Z"
      },
      {
        "duration": 25769,
        "start_time": "2022-07-13T15:51:33.965Z"
      },
      {
        "duration": 753,
        "start_time": "2022-07-13T15:51:59.736Z"
      },
      {
        "duration": 20,
        "start_time": "2022-07-13T15:52:00.490Z"
      },
      {
        "duration": 5,
        "start_time": "2022-07-13T15:52:00.512Z"
      },
      {
        "duration": 171549,
        "start_time": "2022-07-13T15:52:00.518Z"
      },
      {
        "duration": 7663,
        "start_time": "2022-07-13T15:54:52.068Z"
      },
      {
        "duration": 182,
        "start_time": "2022-07-13T15:54:59.732Z"
      },
      {
        "duration": 5,
        "start_time": "2022-07-13T15:54:59.916Z"
      },
      {
        "duration": 6,
        "start_time": "2022-07-13T15:54:59.922Z"
      },
      {
        "duration": 4428,
        "start_time": "2022-07-13T15:54:59.929Z"
      },
      {
        "duration": 21,
        "start_time": "2022-07-13T15:55:04.359Z"
      },
      {
        "duration": 5,
        "start_time": "2022-07-13T15:55:04.382Z"
      },
      {
        "duration": 11,
        "start_time": "2022-07-13T15:55:04.389Z"
      },
      {
        "duration": 5365,
        "start_time": "2022-07-13T15:55:04.401Z"
      },
      {
        "duration": 699,
        "start_time": "2022-07-13T15:55:09.768Z"
      },
      {
        "duration": 4,
        "start_time": "2022-07-13T15:55:10.469Z"
      },
      {
        "duration": 57,
        "start_time": "2022-07-13T20:06:45.385Z"
      },
      {
        "duration": 1477,
        "start_time": "2022-07-13T20:07:01.274Z"
      },
      {
        "duration": 3,
        "start_time": "2022-07-13T20:07:02.754Z"
      },
      {
        "duration": 10,
        "start_time": "2022-07-13T20:07:02.760Z"
      },
      {
        "duration": 1316,
        "start_time": "2022-07-13T20:07:02.773Z"
      },
      {
        "duration": 9,
        "start_time": "2022-07-13T20:07:04.091Z"
      },
      {
        "duration": 61,
        "start_time": "2022-07-13T20:07:04.102Z"
      },
      {
        "duration": 149,
        "start_time": "2022-07-13T20:07:04.165Z"
      },
      {
        "duration": 165,
        "start_time": "2022-07-13T20:07:04.316Z"
      },
      {
        "duration": 32,
        "start_time": "2022-07-13T20:07:04.740Z"
      },
      {
        "duration": 3,
        "start_time": "2022-07-13T20:07:04.871Z"
      },
      {
        "duration": 159,
        "start_time": "2022-07-13T20:07:06.425Z"
      },
      {
        "duration": 191,
        "start_time": "2022-07-13T20:07:08.479Z"
      },
      {
        "duration": 146,
        "start_time": "2022-07-13T20:07:09.771Z"
      },
      {
        "duration": 1175,
        "start_time": "2022-07-13T20:07:11.750Z"
      },
      {
        "duration": 80,
        "start_time": "2022-07-13T20:07:18.472Z"
      },
      {
        "duration": 8,
        "start_time": "2022-07-13T20:07:25.373Z"
      },
      {
        "duration": 116,
        "start_time": "2022-07-13T20:07:47.695Z"
      },
      {
        "duration": 8,
        "start_time": "2022-07-13T20:07:55.442Z"
      },
      {
        "duration": 10,
        "start_time": "2022-07-13T20:08:17.553Z"
      },
      {
        "duration": 13,
        "start_time": "2022-07-13T20:08:23.695Z"
      },
      {
        "duration": 1328,
        "start_time": "2022-07-13T20:08:31.271Z"
      },
      {
        "duration": 60,
        "start_time": "2022-07-13T20:08:58.053Z"
      },
      {
        "duration": 4,
        "start_time": "2022-07-13T20:09:04.459Z"
      },
      {
        "duration": 214,
        "start_time": "2022-07-13T20:09:09.627Z"
      },
      {
        "duration": 6,
        "start_time": "2022-07-13T20:09:27.071Z"
      },
      {
        "duration": 26,
        "start_time": "2022-07-13T20:09:43.413Z"
      },
      {
        "duration": 6,
        "start_time": "2022-07-13T20:09:58.525Z"
      },
      {
        "duration": 4,
        "start_time": "2022-07-13T20:10:02.974Z"
      },
      {
        "duration": 7,
        "start_time": "2022-07-13T20:10:23.844Z"
      },
      {
        "duration": 10,
        "start_time": "2022-07-13T20:10:30.205Z"
      },
      {
        "duration": 13,
        "start_time": "2022-07-13T20:10:38.748Z"
      },
      {
        "duration": 4,
        "start_time": "2022-07-13T20:10:43.771Z"
      },
      {
        "duration": 4,
        "start_time": "2022-07-13T20:10:49.975Z"
      },
      {
        "duration": 9,
        "start_time": "2022-07-13T20:10:59.053Z"
      },
      {
        "duration": 20,
        "start_time": "2022-07-13T20:11:10.645Z"
      },
      {
        "duration": 19,
        "start_time": "2022-07-13T20:11:15.221Z"
      },
      {
        "duration": 15,
        "start_time": "2022-07-13T20:11:19.230Z"
      },
      {
        "duration": 13,
        "start_time": "2022-07-13T20:11:25.444Z"
      },
      {
        "duration": 15,
        "start_time": "2022-07-13T20:11:30.832Z"
      },
      {
        "duration": 10,
        "start_time": "2022-07-13T20:11:55.156Z"
      },
      {
        "duration": 14,
        "start_time": "2022-07-13T20:12:01.548Z"
      },
      {
        "duration": 1286,
        "start_time": "2022-07-13T20:13:09.435Z"
      },
      {
        "duration": 12,
        "start_time": "2022-07-13T20:13:36.108Z"
      },
      {
        "duration": 1168,
        "start_time": "2022-07-14T11:10:21.584Z"
      },
      {
        "duration": 2,
        "start_time": "2022-07-14T11:10:22.753Z"
      },
      {
        "duration": 4,
        "start_time": "2022-07-14T11:10:22.757Z"
      },
      {
        "duration": 2762,
        "start_time": "2022-07-14T11:10:22.763Z"
      },
      {
        "duration": 9,
        "start_time": "2022-07-14T11:10:25.527Z"
      },
      {
        "duration": 7,
        "start_time": "2022-07-14T11:10:25.537Z"
      },
      {
        "duration": 152,
        "start_time": "2022-07-14T11:10:25.545Z"
      },
      {
        "duration": 102,
        "start_time": "2022-07-14T11:10:25.702Z"
      },
      {
        "duration": 13,
        "start_time": "2022-07-14T11:10:25.805Z"
      },
      {
        "duration": 3,
        "start_time": "2022-07-14T11:10:25.819Z"
      },
      {
        "duration": 117,
        "start_time": "2022-07-14T11:10:25.823Z"
      },
      {
        "duration": 142,
        "start_time": "2022-07-14T11:10:25.941Z"
      },
      {
        "duration": 127,
        "start_time": "2022-07-14T11:10:26.084Z"
      },
      {
        "duration": 874,
        "start_time": "2022-07-14T11:10:26.214Z"
      },
      {
        "duration": 72,
        "start_time": "2022-07-14T11:10:27.089Z"
      },
      {
        "duration": 6,
        "start_time": "2022-07-14T11:10:27.163Z"
      },
      {
        "duration": 6,
        "start_time": "2022-07-14T11:10:27.170Z"
      },
      {
        "duration": 5,
        "start_time": "2022-07-14T11:10:27.177Z"
      },
      {
        "duration": 3,
        "start_time": "2022-07-14T11:10:27.184Z"
      },
      {
        "duration": 86,
        "start_time": "2022-07-14T11:10:27.202Z"
      },
      {
        "duration": 0,
        "start_time": "2022-07-14T11:10:27.290Z"
      },
      {
        "duration": 0,
        "start_time": "2022-07-14T11:10:27.290Z"
      },
      {
        "duration": 0,
        "start_time": "2022-07-14T11:10:27.302Z"
      },
      {
        "duration": 0,
        "start_time": "2022-07-14T11:10:27.303Z"
      },
      {
        "duration": 0,
        "start_time": "2022-07-14T11:10:27.304Z"
      },
      {
        "duration": 0,
        "start_time": "2022-07-14T11:10:27.305Z"
      },
      {
        "duration": 0,
        "start_time": "2022-07-14T11:10:27.306Z"
      },
      {
        "duration": 0,
        "start_time": "2022-07-14T11:10:27.307Z"
      },
      {
        "duration": 0,
        "start_time": "2022-07-14T11:10:27.308Z"
      },
      {
        "duration": 0,
        "start_time": "2022-07-14T11:10:27.309Z"
      },
      {
        "duration": 0,
        "start_time": "2022-07-14T11:10:27.310Z"
      },
      {
        "duration": 0,
        "start_time": "2022-07-14T11:10:27.311Z"
      },
      {
        "duration": 0,
        "start_time": "2022-07-14T11:10:27.313Z"
      },
      {
        "duration": 0,
        "start_time": "2022-07-14T11:10:27.313Z"
      },
      {
        "duration": 0,
        "start_time": "2022-07-14T11:10:27.314Z"
      },
      {
        "duration": 0,
        "start_time": "2022-07-14T11:10:27.315Z"
      },
      {
        "duration": 0,
        "start_time": "2022-07-14T11:10:27.316Z"
      },
      {
        "duration": 0,
        "start_time": "2022-07-14T11:10:27.317Z"
      },
      {
        "duration": 0,
        "start_time": "2022-07-14T11:10:27.318Z"
      },
      {
        "duration": 3,
        "start_time": "2022-07-14T11:11:19.656Z"
      },
      {
        "duration": 100,
        "start_time": "2022-07-14T11:11:26.305Z"
      },
      {
        "duration": 4,
        "start_time": "2022-07-14T11:11:26.422Z"
      },
      {
        "duration": 81,
        "start_time": "2022-07-14T11:13:13.924Z"
      },
      {
        "duration": 4,
        "start_time": "2022-07-14T11:13:20.655Z"
      },
      {
        "duration": 22344,
        "start_time": "2022-07-14T11:13:40.464Z"
      },
      {
        "duration": 644,
        "start_time": "2022-07-14T11:14:02.810Z"
      },
      {
        "duration": 22792,
        "start_time": "2022-07-14T11:14:19.764Z"
      },
      {
        "duration": 22443,
        "start_time": "2022-07-14T11:16:26.544Z"
      },
      {
        "duration": 22931,
        "start_time": "2022-07-14T11:18:10.064Z"
      },
      {
        "duration": 17,
        "start_time": "2022-07-14T11:19:03.424Z"
      },
      {
        "duration": 6,
        "start_time": "2022-07-14T11:19:07.596Z"
      },
      {
        "duration": 18,
        "start_time": "2022-07-14T11:20:43.863Z"
      },
      {
        "duration": 20,
        "start_time": "2022-07-14T11:21:06.365Z"
      },
      {
        "duration": 5,
        "start_time": "2022-07-14T11:21:17.984Z"
      },
      {
        "duration": 17,
        "start_time": "2022-07-14T11:21:20.284Z"
      },
      {
        "duration": 5,
        "start_time": "2022-07-14T11:21:20.448Z"
      },
      {
        "duration": 23018,
        "start_time": "2022-07-14T11:21:23.224Z"
      },
      {
        "duration": 18,
        "start_time": "2022-07-14T11:21:46.245Z"
      },
      {
        "duration": 5,
        "start_time": "2022-07-14T11:21:46.265Z"
      },
      {
        "duration": 3,
        "start_time": "2022-07-14T11:25:28.706Z"
      },
      {
        "duration": 3,
        "start_time": "2022-07-14T11:25:28.823Z"
      },
      {
        "duration": 5,
        "start_time": "2022-07-14T11:25:29.004Z"
      },
      {
        "duration": 14,
        "start_time": "2022-07-14T11:27:24.316Z"
      },
      {
        "duration": 4,
        "start_time": "2022-07-14T11:27:38.865Z"
      },
      {
        "duration": 164454,
        "start_time": "2022-07-14T11:39:41.164Z"
      },
      {
        "duration": 74,
        "start_time": "2022-07-14T11:42:44.816Z"
      },
      {
        "duration": 5,
        "start_time": "2022-07-14T11:42:48.037Z"
      },
      {
        "duration": 2,
        "start_time": "2022-07-14T11:45:44.642Z"
      },
      {
        "duration": 4155,
        "start_time": "2022-07-14T11:45:44.823Z"
      },
      {
        "duration": 19,
        "start_time": "2022-07-14T11:45:48.980Z"
      },
      {
        "duration": 4,
        "start_time": "2022-07-14T11:45:49.001Z"
      },
      {
        "duration": 4,
        "start_time": "2022-07-14T11:46:36.944Z"
      },
      {
        "duration": 5706,
        "start_time": "2022-07-14T11:46:37.003Z"
      },
      {
        "duration": 606,
        "start_time": "2022-07-14T11:46:42.711Z"
      },
      {
        "duration": 6,
        "start_time": "2022-07-14T11:46:43.402Z"
      },
      {
        "duration": 9,
        "start_time": "2022-07-14T11:49:32.041Z"
      },
      {
        "duration": 8,
        "start_time": "2022-07-14T11:49:38.304Z"
      },
      {
        "duration": 9,
        "start_time": "2022-07-14T11:49:59.704Z"
      },
      {
        "duration": 18,
        "start_time": "2022-07-14T11:50:21.964Z"
      },
      {
        "duration": 4,
        "start_time": "2022-07-14T11:52:37.016Z"
      },
      {
        "duration": 7,
        "start_time": "2022-07-14T11:52:43.876Z"
      },
      {
        "duration": 4,
        "start_time": "2022-07-14T11:53:49.544Z"
      },
      {
        "duration": 8,
        "start_time": "2022-07-14T11:53:49.736Z"
      },
      {
        "duration": 12,
        "start_time": "2022-07-14T11:54:19.375Z"
      },
      {
        "duration": 12,
        "start_time": "2022-07-14T11:54:25.244Z"
      },
      {
        "duration": 12,
        "start_time": "2022-07-14T11:54:29.492Z"
      },
      {
        "duration": 10,
        "start_time": "2022-07-14T11:54:32.725Z"
      },
      {
        "duration": 6,
        "start_time": "2022-07-14T11:55:05.584Z"
      },
      {
        "duration": 10,
        "start_time": "2022-07-14T11:55:41.584Z"
      },
      {
        "duration": 7,
        "start_time": "2022-07-14T11:55:41.744Z"
      },
      {
        "duration": 4,
        "start_time": "2022-07-14T11:55:55.409Z"
      },
      {
        "duration": 60,
        "start_time": "2022-07-14T11:55:55.591Z"
      },
      {
        "duration": 7,
        "start_time": "2022-07-14T11:55:55.803Z"
      },
      {
        "duration": 5,
        "start_time": "2022-07-14T11:55:56.002Z"
      },
      {
        "duration": 5,
        "start_time": "2022-07-14T11:55:59.684Z"
      },
      {
        "duration": 8,
        "start_time": "2022-07-14T11:55:59.840Z"
      },
      {
        "duration": 5,
        "start_time": "2022-07-14T11:56:16.544Z"
      },
      {
        "duration": 8,
        "start_time": "2022-07-14T11:56:18.184Z"
      },
      {
        "duration": 5,
        "start_time": "2022-07-14T11:56:56.403Z"
      },
      {
        "duration": 9,
        "start_time": "2022-07-14T11:57:00.384Z"
      },
      {
        "duration": 5,
        "start_time": "2022-07-14T11:57:46.044Z"
      },
      {
        "duration": 7,
        "start_time": "2022-07-14T11:57:46.184Z"
      },
      {
        "duration": 1275,
        "start_time": "2022-07-14T11:58:26.480Z"
      },
      {
        "duration": 3,
        "start_time": "2022-07-14T11:58:27.757Z"
      },
      {
        "duration": 5,
        "start_time": "2022-07-14T11:58:27.761Z"
      },
      {
        "duration": 701,
        "start_time": "2022-07-14T11:58:27.768Z"
      },
      {
        "duration": 8,
        "start_time": "2022-07-14T11:58:28.471Z"
      },
      {
        "duration": 6,
        "start_time": "2022-07-14T11:58:28.480Z"
      },
      {
        "duration": 105,
        "start_time": "2022-07-14T11:58:28.487Z"
      },
      {
        "duration": 97,
        "start_time": "2022-07-14T11:58:28.593Z"
      },
      {
        "duration": 22,
        "start_time": "2022-07-14T11:58:28.691Z"
      },
      {
        "duration": 3,
        "start_time": "2022-07-14T11:58:28.714Z"
      },
      {
        "duration": 118,
        "start_time": "2022-07-14T11:58:28.718Z"
      },
      {
        "duration": 151,
        "start_time": "2022-07-14T11:58:28.838Z"
      },
      {
        "duration": 125,
        "start_time": "2022-07-14T11:58:28.991Z"
      },
      {
        "duration": 916,
        "start_time": "2022-07-14T11:58:29.119Z"
      },
      {
        "duration": 77,
        "start_time": "2022-07-14T11:58:30.036Z"
      },
      {
        "duration": 4,
        "start_time": "2022-07-14T11:58:30.115Z"
      },
      {
        "duration": 11,
        "start_time": "2022-07-14T11:58:30.121Z"
      },
      {
        "duration": 12,
        "start_time": "2022-07-14T11:58:30.133Z"
      },
      {
        "duration": 6,
        "start_time": "2022-07-14T11:58:30.146Z"
      },
      {
        "duration": 81,
        "start_time": "2022-07-14T11:58:30.153Z"
      },
      {
        "duration": 166,
        "start_time": "2022-07-14T11:58:30.237Z"
      },
      {
        "duration": 100,
        "start_time": "2022-07-14T11:58:30.405Z"
      },
      {
        "duration": 24103,
        "start_time": "2022-07-14T11:58:30.507Z"
      },
      {
        "duration": 17,
        "start_time": "2022-07-14T11:58:54.612Z"
      },
      {
        "duration": 4,
        "start_time": "2022-07-14T11:58:54.630Z"
      },
      {
        "duration": 7,
        "start_time": "2022-07-14T11:58:54.636Z"
      },
      {
        "duration": 0,
        "start_time": "2022-07-14T11:58:54.644Z"
      },
      {
        "duration": 0,
        "start_time": "2022-07-14T11:58:54.645Z"
      },
      {
        "duration": 0,
        "start_time": "2022-07-14T11:58:54.647Z"
      },
      {
        "duration": 0,
        "start_time": "2022-07-14T11:58:54.648Z"
      },
      {
        "duration": 0,
        "start_time": "2022-07-14T11:58:54.649Z"
      },
      {
        "duration": 0,
        "start_time": "2022-07-14T11:58:54.650Z"
      },
      {
        "duration": 0,
        "start_time": "2022-07-14T11:58:54.651Z"
      },
      {
        "duration": 0,
        "start_time": "2022-07-14T11:58:54.652Z"
      },
      {
        "duration": 0,
        "start_time": "2022-07-14T11:58:54.653Z"
      },
      {
        "duration": 0,
        "start_time": "2022-07-14T11:58:54.654Z"
      },
      {
        "duration": 0,
        "start_time": "2022-07-14T11:58:54.654Z"
      },
      {
        "duration": 0,
        "start_time": "2022-07-14T11:58:54.656Z"
      },
      {
        "duration": 1237,
        "start_time": "2022-07-14T12:12:12.138Z"
      },
      {
        "duration": 3,
        "start_time": "2022-07-14T12:12:13.377Z"
      },
      {
        "duration": 5,
        "start_time": "2022-07-14T12:12:13.381Z"
      },
      {
        "duration": 753,
        "start_time": "2022-07-14T12:12:13.388Z"
      },
      {
        "duration": 12,
        "start_time": "2022-07-14T12:12:14.144Z"
      },
      {
        "duration": 8,
        "start_time": "2022-07-14T12:12:14.158Z"
      },
      {
        "duration": 111,
        "start_time": "2022-07-14T12:12:14.167Z"
      },
      {
        "duration": 104,
        "start_time": "2022-07-14T12:12:14.280Z"
      },
      {
        "duration": 27,
        "start_time": "2022-07-14T12:12:14.386Z"
      },
      {
        "duration": 10,
        "start_time": "2022-07-14T12:12:14.415Z"
      },
      {
        "duration": 109,
        "start_time": "2022-07-14T12:12:14.427Z"
      },
      {
        "duration": 155,
        "start_time": "2022-07-14T12:12:14.538Z"
      },
      {
        "duration": 137,
        "start_time": "2022-07-14T12:12:14.694Z"
      },
      {
        "duration": 969,
        "start_time": "2022-07-14T12:12:14.834Z"
      },
      {
        "duration": 68,
        "start_time": "2022-07-14T12:12:15.807Z"
      },
      {
        "duration": 5,
        "start_time": "2022-07-14T12:12:15.877Z"
      },
      {
        "duration": 18,
        "start_time": "2022-07-14T12:12:15.884Z"
      },
      {
        "duration": 5,
        "start_time": "2022-07-14T12:12:15.904Z"
      },
      {
        "duration": 16,
        "start_time": "2022-07-14T12:12:15.912Z"
      },
      {
        "duration": 96,
        "start_time": "2022-07-14T12:12:15.930Z"
      },
      {
        "duration": 79,
        "start_time": "2022-07-14T12:12:16.028Z"
      },
      {
        "duration": 115,
        "start_time": "2022-07-14T12:12:16.109Z"
      },
      {
        "duration": 24992,
        "start_time": "2022-07-14T12:12:16.226Z"
      },
      {
        "duration": 17,
        "start_time": "2022-07-14T12:12:41.220Z"
      },
      {
        "duration": 5,
        "start_time": "2022-07-14T12:12:41.238Z"
      },
      {
        "duration": 1307,
        "start_time": "2022-07-14T12:18:36.875Z"
      },
      {
        "duration": 2,
        "start_time": "2022-07-14T12:18:38.184Z"
      },
      {
        "duration": 6,
        "start_time": "2022-07-14T12:18:38.187Z"
      },
      {
        "duration": 721,
        "start_time": "2022-07-14T12:18:38.194Z"
      },
      {
        "duration": 9,
        "start_time": "2022-07-14T12:18:38.917Z"
      },
      {
        "duration": 7,
        "start_time": "2022-07-14T12:18:38.927Z"
      },
      {
        "duration": 119,
        "start_time": "2022-07-14T12:18:38.936Z"
      },
      {
        "duration": 103,
        "start_time": "2022-07-14T12:18:39.056Z"
      },
      {
        "duration": 13,
        "start_time": "2022-07-14T12:18:39.160Z"
      },
      {
        "duration": 3,
        "start_time": "2022-07-14T12:18:39.174Z"
      },
      {
        "duration": 124,
        "start_time": "2022-07-14T12:18:39.178Z"
      },
      {
        "duration": 145,
        "start_time": "2022-07-14T12:18:39.304Z"
      },
      {
        "duration": 123,
        "start_time": "2022-07-14T12:18:39.451Z"
      },
      {
        "duration": 941,
        "start_time": "2022-07-14T12:18:39.576Z"
      },
      {
        "duration": 61,
        "start_time": "2022-07-14T12:18:40.518Z"
      },
      {
        "duration": 3,
        "start_time": "2022-07-14T12:18:40.581Z"
      },
      {
        "duration": 19,
        "start_time": "2022-07-14T12:18:40.585Z"
      },
      {
        "duration": 11,
        "start_time": "2022-07-14T12:18:40.606Z"
      },
      {
        "duration": 5,
        "start_time": "2022-07-14T12:18:40.619Z"
      },
      {
        "duration": 91,
        "start_time": "2022-07-14T12:18:40.625Z"
      },
      {
        "duration": 9,
        "start_time": "2022-07-14T12:18:40.718Z"
      },
      {
        "duration": 101,
        "start_time": "2022-07-14T12:18:40.805Z"
      },
      {
        "duration": 1262,
        "start_time": "2022-07-14T12:19:05.774Z"
      },
      {
        "duration": 2,
        "start_time": "2022-07-14T12:19:07.038Z"
      },
      {
        "duration": 7,
        "start_time": "2022-07-14T12:19:07.041Z"
      },
      {
        "duration": 790,
        "start_time": "2022-07-14T12:19:07.050Z"
      },
      {
        "duration": 8,
        "start_time": "2022-07-14T12:19:07.842Z"
      },
      {
        "duration": 5,
        "start_time": "2022-07-14T12:19:07.852Z"
      },
      {
        "duration": 123,
        "start_time": "2022-07-14T12:19:07.858Z"
      },
      {
        "duration": 97,
        "start_time": "2022-07-14T12:19:07.982Z"
      },
      {
        "duration": 29,
        "start_time": "2022-07-14T12:19:08.080Z"
      },
      {
        "duration": 26,
        "start_time": "2022-07-14T12:19:08.111Z"
      },
      {
        "duration": 122,
        "start_time": "2022-07-14T12:19:08.139Z"
      },
      {
        "duration": 255,
        "start_time": "2022-07-14T12:19:08.263Z"
      },
      {
        "duration": 222,
        "start_time": "2022-07-14T12:19:08.519Z"
      },
      {
        "duration": 1741,
        "start_time": "2022-07-14T12:19:08.744Z"
      },
      {
        "duration": 73,
        "start_time": "2022-07-14T12:19:10.487Z"
      },
      {
        "duration": 3,
        "start_time": "2022-07-14T12:19:10.562Z"
      },
      {
        "duration": 17,
        "start_time": "2022-07-14T12:19:10.567Z"
      },
      {
        "duration": 32,
        "start_time": "2022-07-14T12:19:10.585Z"
      },
      {
        "duration": 28,
        "start_time": "2022-07-14T12:19:10.618Z"
      },
      {
        "duration": 88,
        "start_time": "2022-07-14T12:19:10.648Z"
      },
      {
        "duration": 82,
        "start_time": "2022-07-14T12:19:10.738Z"
      },
      {
        "duration": 86,
        "start_time": "2022-07-14T12:19:10.822Z"
      },
      {
        "duration": 24504,
        "start_time": "2022-07-14T12:19:10.911Z"
      },
      {
        "duration": 18,
        "start_time": "2022-07-14T12:19:35.417Z"
      },
      {
        "duration": 4,
        "start_time": "2022-07-14T12:19:35.437Z"
      },
      {
        "duration": 1294,
        "start_time": "2022-07-14T12:26:08.287Z"
      },
      {
        "duration": 3,
        "start_time": "2022-07-14T12:26:09.583Z"
      },
      {
        "duration": 6,
        "start_time": "2022-07-14T12:26:09.588Z"
      },
      {
        "duration": 754,
        "start_time": "2022-07-14T12:26:09.596Z"
      },
      {
        "duration": 9,
        "start_time": "2022-07-14T12:26:10.352Z"
      },
      {
        "duration": 9,
        "start_time": "2022-07-14T12:26:10.363Z"
      },
      {
        "duration": 229,
        "start_time": "2022-07-14T12:26:10.373Z"
      },
      {
        "duration": 203,
        "start_time": "2022-07-14T12:26:10.604Z"
      },
      {
        "duration": 19,
        "start_time": "2022-07-14T12:26:10.809Z"
      },
      {
        "duration": 3,
        "start_time": "2022-07-14T12:26:10.831Z"
      },
      {
        "duration": 208,
        "start_time": "2022-07-14T12:26:10.835Z"
      },
      {
        "duration": 359,
        "start_time": "2022-07-14T12:26:11.045Z"
      },
      {
        "duration": 299,
        "start_time": "2022-07-14T12:26:11.406Z"
      },
      {
        "duration": 1164,
        "start_time": "2022-07-14T12:26:11.706Z"
      },
      {
        "duration": 76,
        "start_time": "2022-07-14T12:26:12.872Z"
      },
      {
        "duration": 3,
        "start_time": "2022-07-14T12:26:12.950Z"
      },
      {
        "duration": 5,
        "start_time": "2022-07-14T12:26:12.954Z"
      },
      {
        "duration": 11,
        "start_time": "2022-07-14T12:26:12.960Z"
      },
      {
        "duration": 3,
        "start_time": "2022-07-14T12:26:12.972Z"
      },
      {
        "duration": 133,
        "start_time": "2022-07-14T12:26:12.977Z"
      },
      {
        "duration": 92,
        "start_time": "2022-07-14T12:26:13.112Z"
      },
      {
        "duration": 5,
        "start_time": "2022-07-14T12:26:13.206Z"
      },
      {
        "duration": 24870,
        "start_time": "2022-07-14T12:26:13.215Z"
      },
      {
        "duration": 20,
        "start_time": "2022-07-14T12:26:38.087Z"
      },
      {
        "duration": 5,
        "start_time": "2022-07-14T12:26:38.109Z"
      },
      {
        "duration": 75,
        "start_time": "2022-07-14T12:26:38.115Z"
      },
      {
        "duration": 0,
        "start_time": "2022-07-14T12:26:38.192Z"
      },
      {
        "duration": 0,
        "start_time": "2022-07-14T12:26:38.193Z"
      },
      {
        "duration": 0,
        "start_time": "2022-07-14T12:26:38.194Z"
      },
      {
        "duration": 0,
        "start_time": "2022-07-14T12:26:38.195Z"
      },
      {
        "duration": 0,
        "start_time": "2022-07-14T12:26:38.196Z"
      },
      {
        "duration": 0,
        "start_time": "2022-07-14T12:26:38.197Z"
      },
      {
        "duration": 0,
        "start_time": "2022-07-14T12:26:38.198Z"
      },
      {
        "duration": 1,
        "start_time": "2022-07-14T12:26:38.199Z"
      },
      {
        "duration": 0,
        "start_time": "2022-07-14T12:26:38.201Z"
      },
      {
        "duration": 0,
        "start_time": "2022-07-14T12:26:38.202Z"
      },
      {
        "duration": 0,
        "start_time": "2022-07-14T12:26:38.203Z"
      },
      {
        "duration": 0,
        "start_time": "2022-07-14T12:26:38.204Z"
      },
      {
        "duration": 531132,
        "start_time": "2022-07-14T12:26:59.117Z"
      },
      {
        "duration": 477,
        "start_time": "2022-07-14T12:35:50.251Z"
      },
      {
        "duration": 5,
        "start_time": "2022-07-14T12:35:50.730Z"
      },
      {
        "duration": 15,
        "start_time": "2022-07-14T12:35:50.737Z"
      },
      {
        "duration": 4813,
        "start_time": "2022-07-14T12:35:50.754Z"
      },
      {
        "duration": 20,
        "start_time": "2022-07-14T12:35:55.568Z"
      },
      {
        "duration": 6,
        "start_time": "2022-07-14T12:35:55.590Z"
      },
      {
        "duration": 4,
        "start_time": "2022-07-14T12:35:55.597Z"
      },
      {
        "duration": 408008,
        "start_time": "2022-07-14T12:35:55.602Z"
      },
      {
        "duration": 7,
        "start_time": "2022-07-14T12:42:44.303Z"
      },
      {
        "duration": 26,
        "start_time": "2022-07-14T12:42:44.312Z"
      },
      {
        "duration": 36,
        "start_time": "2022-07-14T12:42:44.340Z"
      },
      {
        "duration": 3,
        "start_time": "2022-07-14T12:42:44.379Z"
      },
      {
        "duration": 3,
        "start_time": "2022-07-14T12:42:47.627Z"
      },
      {
        "duration": 6,
        "start_time": "2022-07-14T12:44:05.213Z"
      },
      {
        "duration": 5,
        "start_time": "2022-07-14T12:44:12.157Z"
      },
      {
        "duration": 4,
        "start_time": "2022-07-14T12:44:53.365Z"
      },
      {
        "duration": 4,
        "start_time": "2022-07-14T12:44:56.087Z"
      },
      {
        "duration": 6,
        "start_time": "2022-07-14T12:45:17.165Z"
      },
      {
        "duration": 6,
        "start_time": "2022-07-14T12:45:20.515Z"
      },
      {
        "duration": 9,
        "start_time": "2022-07-14T12:45:35.966Z"
      },
      {
        "duration": 4,
        "start_time": "2022-07-14T12:45:37.867Z"
      },
      {
        "duration": 3,
        "start_time": "2022-07-14T12:46:01.006Z"
      },
      {
        "duration": 4,
        "start_time": "2022-07-14T12:46:05.235Z"
      },
      {
        "duration": 5,
        "start_time": "2022-07-14T12:46:06.113Z"
      },
      {
        "duration": 3,
        "start_time": "2022-07-14T12:46:06.815Z"
      },
      {
        "duration": 5,
        "start_time": "2022-07-14T12:46:07.234Z"
      },
      {
        "duration": 4,
        "start_time": "2022-07-14T12:46:09.293Z"
      },
      {
        "duration": 91,
        "start_time": "2022-07-14T12:46:37.455Z"
      },
      {
        "duration": 5,
        "start_time": "2022-07-14T12:46:40.294Z"
      },
      {
        "duration": 5,
        "start_time": "2022-07-14T12:47:10.726Z"
      },
      {
        "duration": 6,
        "start_time": "2022-07-14T12:47:13.985Z"
      },
      {
        "duration": 1477,
        "start_time": "2022-07-14T12:51:27.696Z"
      },
      {
        "duration": 3,
        "start_time": "2022-07-14T12:51:29.175Z"
      },
      {
        "duration": 5,
        "start_time": "2022-07-14T12:51:29.179Z"
      },
      {
        "duration": 6,
        "start_time": "2022-07-14T12:51:29.186Z"
      },
      {
        "duration": 1033,
        "start_time": "2022-07-14T12:51:29.195Z"
      },
      {
        "duration": 8,
        "start_time": "2022-07-14T12:51:30.230Z"
      },
      {
        "duration": 12,
        "start_time": "2022-07-14T12:51:30.240Z"
      },
      {
        "duration": 139,
        "start_time": "2022-07-14T12:51:30.253Z"
      },
      {
        "duration": 115,
        "start_time": "2022-07-14T12:51:30.393Z"
      },
      {
        "duration": 16,
        "start_time": "2022-07-14T12:51:30.509Z"
      },
      {
        "duration": 4,
        "start_time": "2022-07-14T12:51:30.527Z"
      },
      {
        "duration": 125,
        "start_time": "2022-07-14T12:51:30.532Z"
      },
      {
        "duration": 165,
        "start_time": "2022-07-14T12:51:30.659Z"
      },
      {
        "duration": 156,
        "start_time": "2022-07-14T12:51:30.827Z"
      },
      {
        "duration": 1086,
        "start_time": "2022-07-14T12:51:30.985Z"
      },
      {
        "duration": 83,
        "start_time": "2022-07-14T12:51:32.073Z"
      },
      {
        "duration": 4,
        "start_time": "2022-07-14T12:51:32.159Z"
      },
      {
        "duration": 17,
        "start_time": "2022-07-14T12:51:32.164Z"
      },
      {
        "duration": 13,
        "start_time": "2022-07-14T12:51:32.183Z"
      },
      {
        "duration": 126,
        "start_time": "2022-07-14T12:51:32.198Z"
      },
      {
        "duration": 0,
        "start_time": "2022-07-14T12:51:32.326Z"
      },
      {
        "duration": 0,
        "start_time": "2022-07-14T12:51:32.327Z"
      },
      {
        "duration": 0,
        "start_time": "2022-07-14T12:51:32.329Z"
      },
      {
        "duration": 0,
        "start_time": "2022-07-14T12:51:32.330Z"
      },
      {
        "duration": 0,
        "start_time": "2022-07-14T12:51:32.332Z"
      },
      {
        "duration": 0,
        "start_time": "2022-07-14T12:51:32.333Z"
      },
      {
        "duration": 0,
        "start_time": "2022-07-14T12:51:32.335Z"
      },
      {
        "duration": 0,
        "start_time": "2022-07-14T12:51:32.337Z"
      },
      {
        "duration": 0,
        "start_time": "2022-07-14T12:51:32.338Z"
      },
      {
        "duration": 0,
        "start_time": "2022-07-14T12:51:32.340Z"
      },
      {
        "duration": 0,
        "start_time": "2022-07-14T12:51:32.341Z"
      },
      {
        "duration": 0,
        "start_time": "2022-07-14T12:51:32.343Z"
      },
      {
        "duration": 0,
        "start_time": "2022-07-14T12:51:32.344Z"
      },
      {
        "duration": 0,
        "start_time": "2022-07-14T12:51:32.345Z"
      },
      {
        "duration": 0,
        "start_time": "2022-07-14T12:51:32.347Z"
      },
      {
        "duration": 0,
        "start_time": "2022-07-14T12:51:32.349Z"
      },
      {
        "duration": 0,
        "start_time": "2022-07-14T12:51:32.350Z"
      },
      {
        "duration": 0,
        "start_time": "2022-07-14T12:51:32.352Z"
      },
      {
        "duration": 0,
        "start_time": "2022-07-14T12:51:32.354Z"
      },
      {
        "duration": 0,
        "start_time": "2022-07-14T12:51:32.355Z"
      },
      {
        "duration": 1409,
        "start_time": "2022-07-14T12:52:22.084Z"
      },
      {
        "duration": 3,
        "start_time": "2022-07-14T12:52:23.496Z"
      },
      {
        "duration": 6,
        "start_time": "2022-07-14T12:52:23.500Z"
      },
      {
        "duration": 12,
        "start_time": "2022-07-14T12:52:23.508Z"
      },
      {
        "duration": 939,
        "start_time": "2022-07-14T12:52:23.522Z"
      },
      {
        "duration": 9,
        "start_time": "2022-07-14T12:52:24.463Z"
      },
      {
        "duration": 15,
        "start_time": "2022-07-14T12:52:24.473Z"
      },
      {
        "duration": 116,
        "start_time": "2022-07-14T12:52:24.490Z"
      },
      {
        "duration": 103,
        "start_time": "2022-07-14T12:52:24.607Z"
      },
      {
        "duration": 14,
        "start_time": "2022-07-14T12:52:24.711Z"
      },
      {
        "duration": 4,
        "start_time": "2022-07-14T12:52:24.727Z"
      },
      {
        "duration": 152,
        "start_time": "2022-07-14T12:52:24.732Z"
      },
      {
        "duration": 192,
        "start_time": "2022-07-14T12:52:24.887Z"
      },
      {
        "duration": 160,
        "start_time": "2022-07-14T12:52:25.082Z"
      },
      {
        "duration": 981,
        "start_time": "2022-07-14T12:52:25.244Z"
      },
      {
        "duration": 83,
        "start_time": "2022-07-14T12:52:26.226Z"
      },
      {
        "duration": 4,
        "start_time": "2022-07-14T12:52:26.310Z"
      },
      {
        "duration": 7,
        "start_time": "2022-07-14T12:52:26.315Z"
      },
      {
        "duration": 5,
        "start_time": "2022-07-14T12:52:26.324Z"
      },
      {
        "duration": 8,
        "start_time": "2022-07-14T12:52:26.330Z"
      },
      {
        "duration": 6,
        "start_time": "2022-07-14T12:52:26.340Z"
      },
      {
        "duration": 155,
        "start_time": "2022-07-14T12:52:26.348Z"
      },
      {
        "duration": 98,
        "start_time": "2022-07-14T12:52:26.504Z"
      },
      {
        "duration": 5,
        "start_time": "2022-07-14T12:52:26.606Z"
      },
      {
        "duration": 27940,
        "start_time": "2022-07-14T12:52:26.613Z"
      },
      {
        "duration": 19,
        "start_time": "2022-07-14T12:52:54.555Z"
      },
      {
        "duration": 3,
        "start_time": "2022-07-14T12:52:54.576Z"
      },
      {
        "duration": 548590,
        "start_time": "2022-07-14T12:52:54.581Z"
      },
      {
        "duration": 489,
        "start_time": "2022-07-14T13:02:03.173Z"
      },
      {
        "duration": 4,
        "start_time": "2022-07-14T13:02:03.664Z"
      },
      {
        "duration": 6,
        "start_time": "2022-07-14T13:02:03.669Z"
      },
      {
        "duration": 5012,
        "start_time": "2022-07-14T13:02:03.676Z"
      },
      {
        "duration": 29,
        "start_time": "2022-07-14T13:02:08.690Z"
      },
      {
        "duration": 4,
        "start_time": "2022-07-14T13:02:08.721Z"
      },
      {
        "duration": 7,
        "start_time": "2022-07-14T13:02:08.726Z"
      },
      {
        "duration": 0,
        "start_time": "2022-07-14T13:03:03.599Z"
      },
      {
        "duration": 0,
        "start_time": "2022-07-14T13:03:03.600Z"
      },
      {
        "duration": 0,
        "start_time": "2022-07-14T13:03:03.601Z"
      },
      {
        "duration": 0,
        "start_time": "2022-07-14T13:03:03.602Z"
      },
      {
        "duration": 0,
        "start_time": "2022-07-14T13:03:03.603Z"
      },
      {
        "duration": 0,
        "start_time": "2022-07-14T13:07:50.607Z"
      },
      {
        "duration": 0,
        "start_time": "2022-07-14T13:07:50.608Z"
      },
      {
        "duration": 162,
        "start_time": "2022-07-14T13:07:51.919Z"
      },
      {
        "duration": 200,
        "start_time": "2022-07-14T13:09:18.832Z"
      },
      {
        "duration": 7,
        "start_time": "2022-07-14T13:10:47.799Z"
      },
      {
        "duration": 595,
        "start_time": "2022-07-14T13:10:51.023Z"
      },
      {
        "duration": 502,
        "start_time": "2022-07-14T13:11:07.259Z"
      },
      {
        "duration": 268,
        "start_time": "2022-07-14T13:11:49.311Z"
      },
      {
        "duration": 330,
        "start_time": "2022-07-14T13:11:59.220Z"
      },
      {
        "duration": 362,
        "start_time": "2022-07-14T13:12:08.679Z"
      },
      {
        "duration": 1527,
        "start_time": "2022-07-14T13:12:59.530Z"
      },
      {
        "duration": 8,
        "start_time": "2022-07-14T13:14:02.430Z"
      },
      {
        "duration": 14,
        "start_time": "2022-07-14T13:14:07.157Z"
      },
      {
        "duration": 23,
        "start_time": "2022-07-14T13:14:19.571Z"
      },
      {
        "duration": 66,
        "start_time": "2022-07-14T13:14:22.891Z"
      },
      {
        "duration": 25,
        "start_time": "2022-07-14T13:14:59.955Z"
      },
      {
        "duration": 56,
        "start_time": "2022-07-14T13:15:21.490Z"
      },
      {
        "duration": 5,
        "start_time": "2022-07-14T13:15:30.450Z"
      },
      {
        "duration": 3,
        "start_time": "2022-07-14T13:15:30.970Z"
      },
      {
        "duration": 3,
        "start_time": "2022-07-14T13:15:30.993Z"
      },
      {
        "duration": 3,
        "start_time": "2022-07-14T13:15:31.310Z"
      },
      {
        "duration": 845,
        "start_time": "2022-07-14T13:15:32.291Z"
      },
      {
        "duration": 5,
        "start_time": "2022-07-14T13:15:33.138Z"
      },
      {
        "duration": 27,
        "start_time": "2022-07-14T13:15:33.145Z"
      },
      {
        "duration": 124,
        "start_time": "2022-07-14T13:15:33.176Z"
      },
      {
        "duration": 110,
        "start_time": "2022-07-14T13:15:33.450Z"
      },
      {
        "duration": 13,
        "start_time": "2022-07-14T13:15:34.198Z"
      },
      {
        "duration": 5,
        "start_time": "2022-07-14T13:15:35.232Z"
      },
      {
        "duration": 95,
        "start_time": "2022-07-14T13:15:35.859Z"
      },
      {
        "duration": 1576,
        "start_time": "2022-07-14T13:15:36.570Z"
      },
      {
        "duration": 120,
        "start_time": "2022-07-14T13:15:38.148Z"
      },
      {
        "duration": 51,
        "start_time": "2022-07-14T13:15:39.690Z"
      },
      {
        "duration": 19,
        "start_time": "2022-07-14T13:15:51.718Z"
      },
      {
        "duration": 17,
        "start_time": "2022-07-14T13:16:03.619Z"
      },
      {
        "duration": 4,
        "start_time": "2022-07-14T13:16:09.338Z"
      },
      {
        "duration": 1777,
        "start_time": "2022-07-14T13:16:17.890Z"
      },
      {
        "duration": 0,
        "start_time": "2022-07-14T13:16:19.669Z"
      },
      {
        "duration": 4,
        "start_time": "2022-07-14T13:16:29.401Z"
      },
      {
        "duration": 34,
        "start_time": "2022-07-14T13:16:29.407Z"
      },
      {
        "duration": 10,
        "start_time": "2022-07-14T13:16:29.444Z"
      },
      {
        "duration": 12,
        "start_time": "2022-07-14T13:16:29.457Z"
      },
      {
        "duration": 835,
        "start_time": "2022-07-14T13:16:29.472Z"
      },
      {
        "duration": 4,
        "start_time": "2022-07-14T13:16:30.309Z"
      },
      {
        "duration": 6,
        "start_time": "2022-07-14T13:16:30.315Z"
      },
      {
        "duration": 171,
        "start_time": "2022-07-14T13:16:30.323Z"
      },
      {
        "duration": 122,
        "start_time": "2022-07-14T13:16:30.496Z"
      },
      {
        "duration": 28,
        "start_time": "2022-07-14T13:16:30.620Z"
      },
      {
        "duration": 14,
        "start_time": "2022-07-14T13:16:30.650Z"
      },
      {
        "duration": 104,
        "start_time": "2022-07-14T13:16:30.666Z"
      },
      {
        "duration": 1818,
        "start_time": "2022-07-14T13:16:30.773Z"
      },
      {
        "duration": 166,
        "start_time": "2022-07-14T13:16:32.594Z"
      },
      {
        "duration": 37,
        "start_time": "2022-07-14T13:17:02.058Z"
      },
      {
        "duration": 105,
        "start_time": "2022-07-14T13:17:03.059Z"
      },
      {
        "duration": 1484,
        "start_time": "2022-07-14T13:18:03.138Z"
      },
      {
        "duration": 464,
        "start_time": "2022-07-14T13:18:07.822Z"
      },
      {
        "duration": 14,
        "start_time": "2022-07-14T13:19:11.698Z"
      },
      {
        "duration": 15,
        "start_time": "2022-07-14T13:19:38.778Z"
      },
      {
        "duration": 12,
        "start_time": "2022-07-14T13:19:49.038Z"
      },
      {
        "duration": 13,
        "start_time": "2022-07-14T13:19:58.570Z"
      },
      {
        "duration": 66,
        "start_time": "2022-07-14T13:20:15.970Z"
      },
      {
        "duration": 82,
        "start_time": "2022-07-14T13:20:32.518Z"
      },
      {
        "duration": 290,
        "start_time": "2022-07-14T13:21:07.410Z"
      },
      {
        "duration": 82,
        "start_time": "2022-07-14T13:22:24.938Z"
      },
      {
        "duration": 15,
        "start_time": "2022-07-14T13:22:32.897Z"
      },
      {
        "duration": 81,
        "start_time": "2022-07-14T13:22:36.279Z"
      },
      {
        "duration": 5,
        "start_time": "2022-07-14T13:23:03.197Z"
      },
      {
        "duration": 8,
        "start_time": "2022-07-14T13:23:03.204Z"
      },
      {
        "duration": 7,
        "start_time": "2022-07-14T13:23:03.213Z"
      },
      {
        "duration": 6,
        "start_time": "2022-07-14T13:23:03.222Z"
      },
      {
        "duration": 736,
        "start_time": "2022-07-14T13:23:03.230Z"
      },
      {
        "duration": 4,
        "start_time": "2022-07-14T13:23:03.968Z"
      },
      {
        "duration": 7,
        "start_time": "2022-07-14T13:23:03.973Z"
      },
      {
        "duration": 126,
        "start_time": "2022-07-14T13:23:03.981Z"
      },
      {
        "duration": 131,
        "start_time": "2022-07-14T13:23:04.110Z"
      },
      {
        "duration": 14,
        "start_time": "2022-07-14T13:23:04.244Z"
      },
      {
        "duration": 5,
        "start_time": "2022-07-14T13:23:04.260Z"
      },
      {
        "duration": 107,
        "start_time": "2022-07-14T13:23:04.266Z"
      },
      {
        "duration": 1536,
        "start_time": "2022-07-14T13:23:04.375Z"
      },
      {
        "duration": 49,
        "start_time": "2022-07-14T13:23:05.914Z"
      },
      {
        "duration": 110,
        "start_time": "2022-07-14T13:23:05.965Z"
      },
      {
        "duration": 68,
        "start_time": "2022-07-14T13:23:09.650Z"
      },
      {
        "duration": 74,
        "start_time": "2022-07-14T13:23:09.857Z"
      },
      {
        "duration": 4,
        "start_time": "2022-07-14T13:23:20.650Z"
      },
      {
        "duration": 11,
        "start_time": "2022-07-14T13:23:20.656Z"
      },
      {
        "duration": 5,
        "start_time": "2022-07-14T13:23:20.669Z"
      },
      {
        "duration": 9,
        "start_time": "2022-07-14T13:23:20.676Z"
      },
      {
        "duration": 666,
        "start_time": "2022-07-14T13:23:20.688Z"
      },
      {
        "duration": 4,
        "start_time": "2022-07-14T13:23:21.357Z"
      },
      {
        "duration": 6,
        "start_time": "2022-07-14T13:23:21.363Z"
      },
      {
        "duration": 112,
        "start_time": "2022-07-14T13:23:21.370Z"
      },
      {
        "duration": 136,
        "start_time": "2022-07-14T13:23:21.485Z"
      },
      {
        "duration": 14,
        "start_time": "2022-07-14T13:23:21.623Z"
      },
      {
        "duration": 4,
        "start_time": "2022-07-14T13:23:21.639Z"
      },
      {
        "duration": 125,
        "start_time": "2022-07-14T13:23:21.645Z"
      },
      {
        "duration": 1249,
        "start_time": "2022-07-14T13:23:21.772Z"
      },
      {
        "duration": 32,
        "start_time": "2022-07-14T13:23:23.023Z"
      },
      {
        "duration": 110,
        "start_time": "2022-07-14T13:23:23.056Z"
      },
      {
        "duration": 75,
        "start_time": "2022-07-14T13:23:25.801Z"
      },
      {
        "duration": 72,
        "start_time": "2022-07-14T13:23:26.184Z"
      },
      {
        "duration": 85,
        "start_time": "2022-07-14T13:23:27.458Z"
      },
      {
        "duration": 87,
        "start_time": "2022-07-14T13:23:42.850Z"
      },
      {
        "duration": 39,
        "start_time": "2022-07-14T13:26:24.756Z"
      },
      {
        "duration": 149,
        "start_time": "2022-07-14T13:26:36.424Z"
      },
      {
        "duration": 97,
        "start_time": "2022-07-14T13:26:37.631Z"
      },
      {
        "duration": 820,
        "start_time": "2022-07-14T13:26:40.331Z"
      },
      {
        "duration": 5,
        "start_time": "2022-07-14T13:27:26.678Z"
      },
      {
        "duration": 9,
        "start_time": "2022-07-14T13:27:26.686Z"
      },
      {
        "duration": 18,
        "start_time": "2022-07-14T13:27:26.697Z"
      },
      {
        "duration": 11,
        "start_time": "2022-07-14T13:27:26.717Z"
      },
      {
        "duration": 690,
        "start_time": "2022-07-14T13:27:26.731Z"
      },
      {
        "duration": 7,
        "start_time": "2022-07-14T13:27:27.423Z"
      },
      {
        "duration": 16,
        "start_time": "2022-07-14T13:27:27.432Z"
      },
      {
        "duration": 477,
        "start_time": "2022-07-14T13:27:27.451Z"
      },
      {
        "duration": 108,
        "start_time": "2022-07-14T13:27:27.930Z"
      },
      {
        "duration": 13,
        "start_time": "2022-07-14T13:27:28.040Z"
      },
      {
        "duration": 8,
        "start_time": "2022-07-14T13:27:28.055Z"
      },
      {
        "duration": 105,
        "start_time": "2022-07-14T13:27:28.065Z"
      },
      {
        "duration": 1270,
        "start_time": "2022-07-14T13:27:28.173Z"
      },
      {
        "duration": 42,
        "start_time": "2022-07-14T13:27:29.446Z"
      },
      {
        "duration": 99,
        "start_time": "2022-07-14T13:27:29.490Z"
      },
      {
        "duration": 77,
        "start_time": "2022-07-14T13:27:29.591Z"
      },
      {
        "duration": 92,
        "start_time": "2022-07-14T13:27:29.670Z"
      },
      {
        "duration": 67,
        "start_time": "2022-07-14T13:27:29.764Z"
      },
      {
        "duration": 118,
        "start_time": "2022-07-14T13:27:29.833Z"
      },
      {
        "duration": 69,
        "start_time": "2022-07-14T13:27:29.953Z"
      },
      {
        "duration": 808,
        "start_time": "2022-07-14T13:27:43.570Z"
      },
      {
        "duration": 53,
        "start_time": "2022-07-14T13:27:52.426Z"
      },
      {
        "duration": 49,
        "start_time": "2022-07-14T13:28:19.190Z"
      },
      {
        "duration": 9,
        "start_time": "2022-07-14T13:32:31.250Z"
      },
      {
        "duration": 41,
        "start_time": "2022-07-14T13:32:36.950Z"
      },
      {
        "duration": 1414,
        "start_time": "2022-07-14T13:33:19.694Z"
      },
      {
        "duration": 3,
        "start_time": "2022-07-14T13:33:21.109Z"
      },
      {
        "duration": 7,
        "start_time": "2022-07-14T13:33:21.114Z"
      },
      {
        "duration": 6,
        "start_time": "2022-07-14T13:33:21.122Z"
      },
      {
        "duration": 778,
        "start_time": "2022-07-14T13:33:21.131Z"
      },
      {
        "duration": 8,
        "start_time": "2022-07-14T13:33:21.911Z"
      },
      {
        "duration": 4,
        "start_time": "2022-07-14T13:33:21.921Z"
      },
      {
        "duration": 122,
        "start_time": "2022-07-14T13:33:21.927Z"
      },
      {
        "duration": 99,
        "start_time": "2022-07-14T13:33:22.050Z"
      },
      {
        "duration": 14,
        "start_time": "2022-07-14T13:33:22.150Z"
      },
      {
        "duration": 3,
        "start_time": "2022-07-14T13:33:22.165Z"
      },
      {
        "duration": 104,
        "start_time": "2022-07-14T13:33:22.169Z"
      },
      {
        "duration": 1403,
        "start_time": "2022-07-14T13:33:22.275Z"
      },
      {
        "duration": 50,
        "start_time": "2022-07-14T13:33:23.681Z"
      },
      {
        "duration": 106,
        "start_time": "2022-07-14T13:33:23.733Z"
      },
      {
        "duration": 84,
        "start_time": "2022-07-14T13:33:23.840Z"
      },
      {
        "duration": 70,
        "start_time": "2022-07-14T13:33:23.925Z"
      },
      {
        "duration": 55,
        "start_time": "2022-07-14T13:33:24.001Z"
      },
      {
        "duration": 119,
        "start_time": "2022-07-14T13:33:24.058Z"
      },
      {
        "duration": 90,
        "start_time": "2022-07-14T13:33:24.179Z"
      },
      {
        "duration": 817,
        "start_time": "2022-07-14T13:33:24.271Z"
      },
      {
        "duration": 34,
        "start_time": "2022-07-14T13:33:25.089Z"
      },
      {
        "duration": 54,
        "start_time": "2022-07-14T13:33:25.125Z"
      },
      {
        "duration": 75,
        "start_time": "2022-07-14T13:33:25.181Z"
      },
      {
        "duration": 4,
        "start_time": "2022-07-14T13:33:25.258Z"
      },
      {
        "duration": 14,
        "start_time": "2022-07-14T13:33:25.263Z"
      },
      {
        "duration": 39,
        "start_time": "2022-07-14T13:33:25.278Z"
      },
      {
        "duration": 34,
        "start_time": "2022-07-14T13:33:25.319Z"
      },
      {
        "duration": 27,
        "start_time": "2022-07-14T13:33:25.355Z"
      },
      {
        "duration": 118,
        "start_time": "2022-07-14T13:33:25.384Z"
      },
      {
        "duration": 15,
        "start_time": "2022-07-14T13:33:25.504Z"
      },
      {
        "duration": 99,
        "start_time": "2022-07-14T13:33:25.603Z"
      },
      {
        "duration": 20556,
        "start_time": "2022-07-14T13:33:25.704Z"
      },
      {
        "duration": 19,
        "start_time": "2022-07-14T13:33:46.261Z"
      },
      {
        "duration": 4,
        "start_time": "2022-07-14T13:33:46.281Z"
      },
      {
        "duration": 281706,
        "start_time": "2022-07-14T13:33:46.287Z"
      },
      {
        "duration": 0,
        "start_time": "2022-07-14T13:38:27.995Z"
      },
      {
        "duration": 0,
        "start_time": "2022-07-14T13:38:28.002Z"
      },
      {
        "duration": 0,
        "start_time": "2022-07-14T13:38:28.003Z"
      },
      {
        "duration": 0,
        "start_time": "2022-07-14T13:38:28.004Z"
      },
      {
        "duration": 0,
        "start_time": "2022-07-14T13:38:28.005Z"
      },
      {
        "duration": 0,
        "start_time": "2022-07-14T13:38:28.006Z"
      },
      {
        "duration": 0,
        "start_time": "2022-07-14T13:38:28.007Z"
      },
      {
        "duration": 0,
        "start_time": "2022-07-14T13:38:28.008Z"
      },
      {
        "duration": 0,
        "start_time": "2022-07-14T13:38:28.009Z"
      },
      {
        "duration": 0,
        "start_time": "2022-07-14T13:38:28.010Z"
      },
      {
        "duration": 0,
        "start_time": "2022-07-14T13:38:28.011Z"
      },
      {
        "duration": 1,
        "start_time": "2022-07-14T13:38:28.011Z"
      },
      {
        "duration": 1321,
        "start_time": "2022-07-14T13:40:05.021Z"
      },
      {
        "duration": 2,
        "start_time": "2022-07-14T13:40:06.345Z"
      },
      {
        "duration": 20,
        "start_time": "2022-07-14T13:40:06.348Z"
      },
      {
        "duration": 19,
        "start_time": "2022-07-14T13:40:06.370Z"
      },
      {
        "duration": 803,
        "start_time": "2022-07-14T13:40:06.391Z"
      },
      {
        "duration": 21,
        "start_time": "2022-07-14T13:40:07.196Z"
      },
      {
        "duration": 5,
        "start_time": "2022-07-14T13:40:07.219Z"
      },
      {
        "duration": 134,
        "start_time": "2022-07-14T13:40:07.226Z"
      },
      {
        "duration": 131,
        "start_time": "2022-07-14T13:40:07.362Z"
      },
      {
        "duration": 44,
        "start_time": "2022-07-14T13:40:07.495Z"
      },
      {
        "duration": 3,
        "start_time": "2022-07-14T13:40:07.540Z"
      },
      {
        "duration": 122,
        "start_time": "2022-07-14T13:40:07.545Z"
      },
      {
        "duration": 1634,
        "start_time": "2022-07-14T13:40:07.669Z"
      },
      {
        "duration": 55,
        "start_time": "2022-07-14T13:40:09.306Z"
      },
      {
        "duration": 111,
        "start_time": "2022-07-14T13:40:09.362Z"
      },
      {
        "duration": 127,
        "start_time": "2022-07-14T13:40:09.475Z"
      },
      {
        "duration": 129,
        "start_time": "2022-07-14T13:40:09.604Z"
      },
      {
        "duration": 169,
        "start_time": "2022-07-14T13:40:09.735Z"
      },
      {
        "duration": 234,
        "start_time": "2022-07-14T13:40:09.906Z"
      },
      {
        "duration": 188,
        "start_time": "2022-07-14T13:40:10.141Z"
      },
      {
        "duration": 1555,
        "start_time": "2022-07-14T13:40:10.331Z"
      },
      {
        "duration": 48,
        "start_time": "2022-07-14T13:40:11.887Z"
      },
      {
        "duration": 44,
        "start_time": "2022-07-14T13:40:11.936Z"
      },
      {
        "duration": 55,
        "start_time": "2022-07-14T13:40:11.981Z"
      },
      {
        "duration": 115,
        "start_time": "2022-07-14T13:40:12.037Z"
      },
      {
        "duration": 0,
        "start_time": "2022-07-14T13:40:12.154Z"
      },
      {
        "duration": 0,
        "start_time": "2022-07-14T13:40:12.155Z"
      },
      {
        "duration": 0,
        "start_time": "2022-07-14T13:40:12.157Z"
      },
      {
        "duration": 0,
        "start_time": "2022-07-14T13:40:12.158Z"
      },
      {
        "duration": 0,
        "start_time": "2022-07-14T13:40:12.159Z"
      },
      {
        "duration": 0,
        "start_time": "2022-07-14T13:40:12.161Z"
      },
      {
        "duration": 1,
        "start_time": "2022-07-14T13:40:12.162Z"
      },
      {
        "duration": 0,
        "start_time": "2022-07-14T13:40:12.164Z"
      },
      {
        "duration": 0,
        "start_time": "2022-07-14T13:40:12.165Z"
      },
      {
        "duration": 0,
        "start_time": "2022-07-14T13:40:12.166Z"
      },
      {
        "duration": 0,
        "start_time": "2022-07-14T13:40:12.168Z"
      },
      {
        "duration": 0,
        "start_time": "2022-07-14T13:40:12.170Z"
      },
      {
        "duration": 0,
        "start_time": "2022-07-14T13:40:12.171Z"
      },
      {
        "duration": 0,
        "start_time": "2022-07-14T13:40:12.203Z"
      },
      {
        "duration": 0,
        "start_time": "2022-07-14T13:40:12.204Z"
      },
      {
        "duration": 0,
        "start_time": "2022-07-14T13:40:12.205Z"
      },
      {
        "duration": 0,
        "start_time": "2022-07-14T13:40:12.207Z"
      },
      {
        "duration": 0,
        "start_time": "2022-07-14T13:40:12.208Z"
      },
      {
        "duration": 0,
        "start_time": "2022-07-14T13:40:12.209Z"
      },
      {
        "duration": 1,
        "start_time": "2022-07-14T13:40:12.210Z"
      },
      {
        "duration": 0,
        "start_time": "2022-07-14T13:40:12.212Z"
      },
      {
        "duration": 0,
        "start_time": "2022-07-14T13:40:12.213Z"
      },
      {
        "duration": 0,
        "start_time": "2022-07-14T13:40:12.215Z"
      },
      {
        "duration": 0,
        "start_time": "2022-07-14T13:40:12.216Z"
      },
      {
        "duration": 0,
        "start_time": "2022-07-14T13:40:12.217Z"
      },
      {
        "duration": 1,
        "start_time": "2022-07-14T13:40:12.218Z"
      },
      {
        "duration": 0,
        "start_time": "2022-07-14T13:40:12.220Z"
      },
      {
        "duration": 0,
        "start_time": "2022-07-14T13:40:12.221Z"
      },
      {
        "duration": 12,
        "start_time": "2022-07-14T13:40:30.897Z"
      },
      {
        "duration": 4,
        "start_time": "2022-07-14T13:40:42.289Z"
      },
      {
        "duration": 4,
        "start_time": "2022-07-14T13:40:51.016Z"
      },
      {
        "duration": 9,
        "start_time": "2022-07-14T13:41:16.258Z"
      },
      {
        "duration": 76,
        "start_time": "2022-07-14T13:41:23.997Z"
      },
      {
        "duration": 12,
        "start_time": "2022-07-14T13:41:33.138Z"
      },
      {
        "duration": 13,
        "start_time": "2022-07-14T13:43:17.639Z"
      },
      {
        "duration": 4,
        "start_time": "2022-07-14T13:43:48.209Z"
      },
      {
        "duration": 4,
        "start_time": "2022-07-14T13:44:01.265Z"
      },
      {
        "duration": 3,
        "start_time": "2022-07-14T13:45:05.377Z"
      },
      {
        "duration": 1278,
        "start_time": "2022-07-14T13:45:13.919Z"
      },
      {
        "duration": 5,
        "start_time": "2022-07-14T13:45:15.199Z"
      },
      {
        "duration": 17,
        "start_time": "2022-07-14T13:45:15.205Z"
      },
      {
        "duration": 7,
        "start_time": "2022-07-14T13:45:15.224Z"
      },
      {
        "duration": 1081,
        "start_time": "2022-07-14T13:45:15.233Z"
      },
      {
        "duration": 8,
        "start_time": "2022-07-14T13:45:16.315Z"
      },
      {
        "duration": 6,
        "start_time": "2022-07-14T13:45:16.324Z"
      },
      {
        "duration": 202,
        "start_time": "2022-07-14T13:45:16.332Z"
      },
      {
        "duration": 193,
        "start_time": "2022-07-14T13:45:16.536Z"
      },
      {
        "duration": 14,
        "start_time": "2022-07-14T13:45:16.730Z"
      },
      {
        "duration": 58,
        "start_time": "2022-07-14T13:45:16.745Z"
      },
      {
        "duration": 143,
        "start_time": "2022-07-14T13:45:16.805Z"
      },
      {
        "duration": 1692,
        "start_time": "2022-07-14T13:45:16.950Z"
      },
      {
        "duration": 48,
        "start_time": "2022-07-14T13:45:18.645Z"
      },
      {
        "duration": 108,
        "start_time": "2022-07-14T13:45:18.694Z"
      },
      {
        "duration": 77,
        "start_time": "2022-07-14T13:45:18.804Z"
      },
      {
        "duration": 83,
        "start_time": "2022-07-14T13:45:18.883Z"
      },
      {
        "duration": 71,
        "start_time": "2022-07-14T13:45:18.968Z"
      },
      {
        "duration": 115,
        "start_time": "2022-07-14T13:45:19.041Z"
      },
      {
        "duration": 79,
        "start_time": "2022-07-14T13:45:19.157Z"
      },
      {
        "duration": 780,
        "start_time": "2022-07-14T13:45:19.238Z"
      },
      {
        "duration": 28,
        "start_time": "2022-07-14T13:45:20.020Z"
      },
      {
        "duration": 52,
        "start_time": "2022-07-14T13:45:20.050Z"
      },
      {
        "duration": 39,
        "start_time": "2022-07-14T13:45:20.104Z"
      },
      {
        "duration": 2,
        "start_time": "2022-07-14T13:45:20.144Z"
      },
      {
        "duration": 119,
        "start_time": "2022-07-14T13:45:20.148Z"
      },
      {
        "duration": 0,
        "start_time": "2022-07-14T13:45:20.268Z"
      },
      {
        "duration": 0,
        "start_time": "2022-07-14T13:45:20.270Z"
      },
      {
        "duration": 0,
        "start_time": "2022-07-14T13:45:20.270Z"
      },
      {
        "duration": 0,
        "start_time": "2022-07-14T13:45:20.272Z"
      },
      {
        "duration": 0,
        "start_time": "2022-07-14T13:45:20.272Z"
      },
      {
        "duration": 0,
        "start_time": "2022-07-14T13:45:20.273Z"
      },
      {
        "duration": 0,
        "start_time": "2022-07-14T13:45:20.274Z"
      },
      {
        "duration": 0,
        "start_time": "2022-07-14T13:45:20.275Z"
      },
      {
        "duration": 0,
        "start_time": "2022-07-14T13:45:20.276Z"
      },
      {
        "duration": 0,
        "start_time": "2022-07-14T13:45:20.277Z"
      },
      {
        "duration": 0,
        "start_time": "2022-07-14T13:45:20.278Z"
      },
      {
        "duration": 0,
        "start_time": "2022-07-14T13:45:20.278Z"
      },
      {
        "duration": 0,
        "start_time": "2022-07-14T13:45:20.279Z"
      },
      {
        "duration": 0,
        "start_time": "2022-07-14T13:45:20.302Z"
      },
      {
        "duration": 0,
        "start_time": "2022-07-14T13:45:20.303Z"
      },
      {
        "duration": 0,
        "start_time": "2022-07-14T13:45:20.304Z"
      },
      {
        "duration": 0,
        "start_time": "2022-07-14T13:45:20.305Z"
      },
      {
        "duration": 0,
        "start_time": "2022-07-14T13:45:20.306Z"
      },
      {
        "duration": 0,
        "start_time": "2022-07-14T13:45:20.307Z"
      },
      {
        "duration": 0,
        "start_time": "2022-07-14T13:45:20.308Z"
      },
      {
        "duration": 0,
        "start_time": "2022-07-14T13:45:20.309Z"
      },
      {
        "duration": 0,
        "start_time": "2022-07-14T13:45:20.310Z"
      },
      {
        "duration": 0,
        "start_time": "2022-07-14T13:45:20.311Z"
      },
      {
        "duration": 0,
        "start_time": "2022-07-14T13:45:20.312Z"
      },
      {
        "duration": 0,
        "start_time": "2022-07-14T13:45:20.313Z"
      },
      {
        "duration": 0,
        "start_time": "2022-07-14T13:45:20.314Z"
      },
      {
        "duration": 0,
        "start_time": "2022-07-14T13:45:20.314Z"
      },
      {
        "duration": 4,
        "start_time": "2022-07-14T13:45:43.257Z"
      },
      {
        "duration": 1291,
        "start_time": "2022-07-14T13:45:49.936Z"
      },
      {
        "duration": 3,
        "start_time": "2022-07-14T13:45:51.229Z"
      },
      {
        "duration": 5,
        "start_time": "2022-07-14T13:45:51.234Z"
      },
      {
        "duration": 4,
        "start_time": "2022-07-14T13:45:51.241Z"
      },
      {
        "duration": 743,
        "start_time": "2022-07-14T13:45:51.248Z"
      },
      {
        "duration": 11,
        "start_time": "2022-07-14T13:45:51.992Z"
      },
      {
        "duration": 7,
        "start_time": "2022-07-14T13:45:52.004Z"
      },
      {
        "duration": 112,
        "start_time": "2022-07-14T13:45:52.012Z"
      },
      {
        "duration": 102,
        "start_time": "2022-07-14T13:45:52.125Z"
      },
      {
        "duration": 14,
        "start_time": "2022-07-14T13:45:52.228Z"
      },
      {
        "duration": 59,
        "start_time": "2022-07-14T13:45:52.244Z"
      },
      {
        "duration": 144,
        "start_time": "2022-07-14T13:45:52.306Z"
      },
      {
        "duration": 2111,
        "start_time": "2022-07-14T13:45:52.503Z"
      },
      {
        "duration": 49,
        "start_time": "2022-07-14T13:45:54.616Z"
      },
      {
        "duration": 109,
        "start_time": "2022-07-14T13:45:54.667Z"
      },
      {
        "duration": 79,
        "start_time": "2022-07-14T13:45:54.777Z"
      },
      {
        "duration": 76,
        "start_time": "2022-07-14T13:45:54.857Z"
      },
      {
        "duration": 52,
        "start_time": "2022-07-14T13:45:54.935Z"
      },
      {
        "duration": 106,
        "start_time": "2022-07-14T13:45:55.002Z"
      },
      {
        "duration": 93,
        "start_time": "2022-07-14T13:45:55.110Z"
      },
      {
        "duration": 781,
        "start_time": "2022-07-14T13:45:55.205Z"
      },
      {
        "duration": 31,
        "start_time": "2022-07-14T13:45:55.987Z"
      },
      {
        "duration": 44,
        "start_time": "2022-07-14T13:45:56.020Z"
      },
      {
        "duration": 66,
        "start_time": "2022-07-14T13:45:56.065Z"
      },
      {
        "duration": 3,
        "start_time": "2022-07-14T13:45:56.132Z"
      },
      {
        "duration": 207,
        "start_time": "2022-07-14T13:45:56.136Z"
      },
      {
        "duration": 85,
        "start_time": "2022-07-14T13:45:56.344Z"
      },
      {
        "duration": 21,
        "start_time": "2022-07-14T13:45:56.431Z"
      },
      {
        "duration": 23,
        "start_time": "2022-07-14T13:45:56.453Z"
      },
      {
        "duration": 10,
        "start_time": "2022-07-14T13:45:56.478Z"
      },
      {
        "duration": 15,
        "start_time": "2022-07-14T13:45:56.489Z"
      },
      {
        "duration": 9,
        "start_time": "2022-07-14T13:45:56.506Z"
      },
      {
        "duration": 16,
        "start_time": "2022-07-14T13:45:56.516Z"
      },
      {
        "duration": 13,
        "start_time": "2022-07-14T13:45:56.534Z"
      },
      {
        "duration": 64,
        "start_time": "2022-07-14T13:45:56.548Z"
      },
      {
        "duration": 10,
        "start_time": "2022-07-14T13:45:56.614Z"
      },
      {
        "duration": 84,
        "start_time": "2022-07-14T13:45:56.626Z"
      },
      {
        "duration": 18832,
        "start_time": "2022-07-14T13:45:56.712Z"
      },
      {
        "duration": 14,
        "start_time": "2022-07-14T13:46:15.545Z"
      },
      {
        "duration": 4,
        "start_time": "2022-07-14T13:46:15.560Z"
      },
      {
        "duration": 138914,
        "start_time": "2022-07-14T13:46:15.567Z"
      },
      {
        "duration": 71,
        "start_time": "2022-07-14T13:48:34.483Z"
      },
      {
        "duration": 4,
        "start_time": "2022-07-14T13:48:34.555Z"
      },
      {
        "duration": 5,
        "start_time": "2022-07-14T13:48:34.560Z"
      },
      {
        "duration": 3381,
        "start_time": "2022-07-14T13:48:34.567Z"
      },
      {
        "duration": 0,
        "start_time": "2022-07-14T13:48:37.950Z"
      },
      {
        "duration": 0,
        "start_time": "2022-07-14T13:48:37.951Z"
      },
      {
        "duration": 0,
        "start_time": "2022-07-14T13:48:37.952Z"
      },
      {
        "duration": 0,
        "start_time": "2022-07-14T13:48:37.953Z"
      },
      {
        "duration": 0,
        "start_time": "2022-07-14T13:48:37.954Z"
      },
      {
        "duration": 0,
        "start_time": "2022-07-14T13:48:37.955Z"
      },
      {
        "duration": 0,
        "start_time": "2022-07-14T13:48:37.956Z"
      },
      {
        "duration": 0,
        "start_time": "2022-07-14T13:48:37.957Z"
      },
      {
        "duration": 1705,
        "start_time": "2022-07-14T13:49:43.973Z"
      },
      {
        "duration": 3798,
        "start_time": "2022-07-14T13:50:34.406Z"
      },
      {
        "duration": 15,
        "start_time": "2022-07-14T13:50:48.126Z"
      },
      {
        "duration": 4,
        "start_time": "2022-07-14T13:50:51.254Z"
      },
      {
        "duration": 3,
        "start_time": "2022-07-14T13:50:53.765Z"
      },
      {
        "duration": 109895,
        "start_time": "2022-07-14T13:50:54.028Z"
      },
      {
        "duration": 0,
        "start_time": "2022-07-14T13:52:43.924Z"
      },
      {
        "duration": 0,
        "start_time": "2022-07-14T13:52:43.925Z"
      },
      {
        "duration": 0,
        "start_time": "2022-07-14T13:52:43.926Z"
      },
      {
        "duration": 0,
        "start_time": "2022-07-14T13:52:43.927Z"
      },
      {
        "duration": 0,
        "start_time": "2022-07-14T13:52:43.928Z"
      },
      {
        "duration": 5,
        "start_time": "2022-07-14T13:52:51.352Z"
      },
      {
        "duration": 11,
        "start_time": "2022-07-14T13:52:51.853Z"
      },
      {
        "duration": 155,
        "start_time": "2022-07-14T13:53:56.246Z"
      },
      {
        "duration": 1359,
        "start_time": "2022-07-14T13:54:32.815Z"
      },
      {
        "duration": 3,
        "start_time": "2022-07-14T13:54:34.176Z"
      },
      {
        "duration": 6,
        "start_time": "2022-07-14T13:54:34.180Z"
      },
      {
        "duration": 7,
        "start_time": "2022-07-14T13:54:34.187Z"
      },
      {
        "duration": 746,
        "start_time": "2022-07-14T13:54:34.196Z"
      },
      {
        "duration": 10,
        "start_time": "2022-07-14T13:54:34.945Z"
      },
      {
        "duration": 5,
        "start_time": "2022-07-14T13:54:34.957Z"
      },
      {
        "duration": 120,
        "start_time": "2022-07-14T13:54:34.963Z"
      },
      {
        "duration": 129,
        "start_time": "2022-07-14T13:54:35.085Z"
      },
      {
        "duration": 21,
        "start_time": "2022-07-14T13:54:35.215Z"
      },
      {
        "duration": 3,
        "start_time": "2022-07-14T13:54:35.237Z"
      },
      {
        "duration": 107,
        "start_time": "2022-07-14T13:54:35.241Z"
      },
      {
        "duration": 1402,
        "start_time": "2022-07-14T13:54:35.349Z"
      },
      {
        "duration": 56,
        "start_time": "2022-07-14T13:54:36.754Z"
      },
      {
        "duration": 105,
        "start_time": "2022-07-14T13:54:36.811Z"
      },
      {
        "duration": 84,
        "start_time": "2022-07-14T13:54:36.918Z"
      },
      {
        "duration": 68,
        "start_time": "2022-07-14T13:54:37.004Z"
      },
      {
        "duration": 78,
        "start_time": "2022-07-14T13:54:37.074Z"
      },
      {
        "duration": 197,
        "start_time": "2022-07-14T13:54:37.154Z"
      },
      {
        "duration": 134,
        "start_time": "2022-07-14T13:54:37.406Z"
      },
      {
        "duration": 1502,
        "start_time": "2022-07-14T13:54:37.542Z"
      },
      {
        "duration": 28,
        "start_time": "2022-07-14T13:54:39.045Z"
      },
      {
        "duration": 55,
        "start_time": "2022-07-14T13:54:39.075Z"
      },
      {
        "duration": 47,
        "start_time": "2022-07-14T13:54:39.131Z"
      },
      {
        "duration": 3,
        "start_time": "2022-07-14T13:54:39.179Z"
      },
      {
        "duration": 205,
        "start_time": "2022-07-14T13:54:39.184Z"
      },
      {
        "duration": 87,
        "start_time": "2022-07-14T13:54:39.390Z"
      },
      {
        "duration": 3,
        "start_time": "2022-07-14T13:54:39.479Z"
      },
      {
        "duration": 9,
        "start_time": "2022-07-14T13:54:39.484Z"
      },
      {
        "duration": 18,
        "start_time": "2022-07-14T13:54:39.495Z"
      },
      {
        "duration": 11,
        "start_time": "2022-07-14T13:54:39.514Z"
      },
      {
        "duration": 8,
        "start_time": "2022-07-14T13:54:39.526Z"
      },
      {
        "duration": 66,
        "start_time": "2022-07-14T13:54:39.536Z"
      },
      {
        "duration": 106,
        "start_time": "2022-07-14T13:54:39.603Z"
      },
      {
        "duration": 5,
        "start_time": "2022-07-14T13:54:39.711Z"
      },
      {
        "duration": 18700,
        "start_time": "2022-07-14T13:54:39.717Z"
      },
      {
        "duration": 13,
        "start_time": "2022-07-14T13:54:58.419Z"
      },
      {
        "duration": 4,
        "start_time": "2022-07-14T13:54:58.433Z"
      },
      {
        "duration": 140251,
        "start_time": "2022-07-14T13:54:58.438Z"
      },
      {
        "duration": 66,
        "start_time": "2022-07-14T13:57:18.691Z"
      },
      {
        "duration": 4,
        "start_time": "2022-07-14T13:57:18.760Z"
      },
      {
        "duration": 7,
        "start_time": "2022-07-14T13:57:18.765Z"
      },
      {
        "duration": 3624,
        "start_time": "2022-07-14T13:57:18.773Z"
      },
      {
        "duration": 17,
        "start_time": "2022-07-14T13:57:22.399Z"
      },
      {
        "duration": 7,
        "start_time": "2022-07-14T13:57:22.418Z"
      },
      {
        "duration": 17,
        "start_time": "2022-07-14T13:57:22.426Z"
      },
      {
        "duration": 21,
        "start_time": "2022-07-14T13:57:22.444Z"
      },
      {
        "duration": 17,
        "start_time": "2022-07-14T13:57:22.466Z"
      },
      {
        "duration": 10,
        "start_time": "2022-07-14T13:57:22.484Z"
      },
      {
        "duration": 35,
        "start_time": "2022-07-14T13:57:22.495Z"
      },
      {
        "duration": 31,
        "start_time": "2022-07-14T13:57:22.532Z"
      },
      {
        "duration": 91,
        "start_time": "2022-07-14T13:59:37.845Z"
      },
      {
        "duration": 77,
        "start_time": "2022-07-14T14:01:01.405Z"
      },
      {
        "duration": 109,
        "start_time": "2022-07-14T14:05:30.405Z"
      },
      {
        "duration": 3,
        "start_time": "2022-07-14T14:05:42.338Z"
      },
      {
        "duration": 29,
        "start_time": "2022-07-14T14:05:42.344Z"
      },
      {
        "duration": 20,
        "start_time": "2022-07-14T14:05:42.375Z"
      },
      {
        "duration": 27,
        "start_time": "2022-07-14T14:05:42.397Z"
      },
      {
        "duration": 763,
        "start_time": "2022-07-14T14:05:42.426Z"
      },
      {
        "duration": 5,
        "start_time": "2022-07-14T14:05:43.191Z"
      },
      {
        "duration": 6,
        "start_time": "2022-07-14T14:05:43.198Z"
      },
      {
        "duration": 118,
        "start_time": "2022-07-14T14:05:43.205Z"
      },
      {
        "duration": 95,
        "start_time": "2022-07-14T14:05:43.325Z"
      },
      {
        "duration": 24,
        "start_time": "2022-07-14T14:05:43.422Z"
      },
      {
        "duration": 16,
        "start_time": "2022-07-14T14:05:43.448Z"
      },
      {
        "duration": 719,
        "start_time": "2022-07-14T14:05:47.885Z"
      },
      {
        "duration": 79,
        "start_time": "2022-07-14T14:06:24.973Z"
      },
      {
        "duration": 769,
        "start_time": "2022-07-14T14:06:25.173Z"
      },
      {
        "duration": 136,
        "start_time": "2022-07-14T14:08:59.253Z"
      },
      {
        "duration": 4,
        "start_time": "2022-07-14T14:09:01.685Z"
      },
      {
        "duration": 13,
        "start_time": "2022-07-14T14:09:22.043Z"
      },
      {
        "duration": 7,
        "start_time": "2022-07-14T14:09:44.450Z"
      },
      {
        "duration": 11,
        "start_time": "2022-07-14T14:10:09.805Z"
      },
      {
        "duration": 7,
        "start_time": "2022-07-14T14:10:14.966Z"
      },
      {
        "duration": 1313,
        "start_time": "2022-07-14T14:11:37.092Z"
      },
      {
        "duration": 3,
        "start_time": "2022-07-14T14:11:38.406Z"
      },
      {
        "duration": 8,
        "start_time": "2022-07-14T14:11:38.410Z"
      },
      {
        "duration": 7,
        "start_time": "2022-07-14T14:11:38.419Z"
      },
      {
        "duration": 784,
        "start_time": "2022-07-14T14:11:38.428Z"
      },
      {
        "duration": 7,
        "start_time": "2022-07-14T14:11:39.214Z"
      },
      {
        "duration": 21,
        "start_time": "2022-07-14T14:11:39.223Z"
      },
      {
        "duration": 108,
        "start_time": "2022-07-14T14:11:39.245Z"
      },
      {
        "duration": 99,
        "start_time": "2022-07-14T14:11:39.355Z"
      },
      {
        "duration": 15,
        "start_time": "2022-07-14T14:11:39.456Z"
      },
      {
        "duration": 7,
        "start_time": "2022-07-14T14:11:39.473Z"
      },
      {
        "duration": 113,
        "start_time": "2022-07-14T14:11:39.482Z"
      },
      {
        "duration": 793,
        "start_time": "2022-07-14T14:11:39.601Z"
      },
      {
        "duration": 1395,
        "start_time": "2022-07-14T14:11:40.397Z"
      },
      {
        "duration": 46,
        "start_time": "2022-07-14T14:11:41.794Z"
      },
      {
        "duration": 101,
        "start_time": "2022-07-14T14:11:41.842Z"
      },
      {
        "duration": 79,
        "start_time": "2022-07-14T14:11:41.945Z"
      },
      {
        "duration": 78,
        "start_time": "2022-07-14T14:11:42.025Z"
      },
      {
        "duration": 54,
        "start_time": "2022-07-14T14:11:42.105Z"
      },
      {
        "duration": 122,
        "start_time": "2022-07-14T14:11:42.161Z"
      },
      {
        "duration": 76,
        "start_time": "2022-07-14T14:11:42.284Z"
      },
      {
        "duration": 835,
        "start_time": "2022-07-14T14:11:42.361Z"
      },
      {
        "duration": 27,
        "start_time": "2022-07-14T14:11:43.197Z"
      },
      {
        "duration": 37,
        "start_time": "2022-07-14T14:11:43.226Z"
      },
      {
        "duration": 57,
        "start_time": "2022-07-14T14:11:43.265Z"
      },
      {
        "duration": 3,
        "start_time": "2022-07-14T14:11:43.324Z"
      },
      {
        "duration": 218,
        "start_time": "2022-07-14T14:11:43.329Z"
      },
      {
        "duration": 80,
        "start_time": "2022-07-14T14:11:43.548Z"
      },
      {
        "duration": 8,
        "start_time": "2022-07-14T14:11:43.630Z"
      },
      {
        "duration": 8,
        "start_time": "2022-07-14T14:11:43.639Z"
      },
      {
        "duration": 4,
        "start_time": "2022-07-14T14:11:43.649Z"
      },
      {
        "duration": 5,
        "start_time": "2022-07-14T14:11:43.654Z"
      },
      {
        "duration": 13,
        "start_time": "2022-07-14T14:11:43.661Z"
      },
      {
        "duration": 28,
        "start_time": "2022-07-14T14:11:43.675Z"
      },
      {
        "duration": 98,
        "start_time": "2022-07-14T14:11:43.704Z"
      },
      {
        "duration": 105,
        "start_time": "2022-07-14T14:11:43.804Z"
      },
      {
        "duration": 99,
        "start_time": "2022-07-14T14:11:43.911Z"
      },
      {
        "duration": 18561,
        "start_time": "2022-07-14T14:11:44.011Z"
      },
      {
        "duration": 28,
        "start_time": "2022-07-14T14:12:02.574Z"
      },
      {
        "duration": 5,
        "start_time": "2022-07-14T14:12:02.605Z"
      },
      {
        "duration": 143537,
        "start_time": "2022-07-14T14:12:02.614Z"
      },
      {
        "duration": 67,
        "start_time": "2022-07-14T14:14:26.153Z"
      },
      {
        "duration": 4,
        "start_time": "2022-07-14T14:14:26.222Z"
      },
      {
        "duration": 17,
        "start_time": "2022-07-14T14:14:26.228Z"
      },
      {
        "duration": 3594,
        "start_time": "2022-07-14T14:14:26.247Z"
      },
      {
        "duration": 16,
        "start_time": "2022-07-14T14:14:29.842Z"
      },
      {
        "duration": 4,
        "start_time": "2022-07-14T14:14:29.860Z"
      },
      {
        "duration": 4,
        "start_time": "2022-07-14T14:14:29.865Z"
      },
      {
        "duration": 5,
        "start_time": "2022-07-14T14:14:29.870Z"
      },
      {
        "duration": 5,
        "start_time": "2022-07-14T14:14:29.877Z"
      },
      {
        "duration": 5,
        "start_time": "2022-07-14T14:14:29.883Z"
      },
      {
        "duration": 6,
        "start_time": "2022-07-14T14:14:29.889Z"
      },
      {
        "duration": 11,
        "start_time": "2022-07-14T14:14:29.896Z"
      },
      {
        "duration": 3,
        "start_time": "2022-07-14T14:14:52.211Z"
      },
      {
        "duration": 1275,
        "start_time": "2022-07-14T14:17:24.452Z"
      },
      {
        "duration": 2,
        "start_time": "2022-07-14T14:17:25.729Z"
      },
      {
        "duration": 7,
        "start_time": "2022-07-14T14:17:25.732Z"
      },
      {
        "duration": 6,
        "start_time": "2022-07-14T14:17:25.740Z"
      },
      {
        "duration": 789,
        "start_time": "2022-07-14T14:17:25.748Z"
      },
      {
        "duration": 8,
        "start_time": "2022-07-14T14:17:26.538Z"
      },
      {
        "duration": 18,
        "start_time": "2022-07-14T14:17:26.547Z"
      },
      {
        "duration": 132,
        "start_time": "2022-07-14T14:17:26.567Z"
      },
      {
        "duration": 103,
        "start_time": "2022-07-14T14:17:26.700Z"
      },
      {
        "duration": 14,
        "start_time": "2022-07-14T14:17:26.804Z"
      },
      {
        "duration": 2,
        "start_time": "2022-07-14T14:17:26.820Z"
      },
      {
        "duration": 106,
        "start_time": "2022-07-14T14:17:26.824Z"
      },
      {
        "duration": 862,
        "start_time": "2022-07-14T14:17:26.932Z"
      },
      {
        "duration": 1398,
        "start_time": "2022-07-14T14:17:27.796Z"
      },
      {
        "duration": 47,
        "start_time": "2022-07-14T14:17:29.196Z"
      },
      {
        "duration": 101,
        "start_time": "2022-07-14T14:17:29.244Z"
      },
      {
        "duration": 82,
        "start_time": "2022-07-14T14:17:29.346Z"
      },
      {
        "duration": 80,
        "start_time": "2022-07-14T14:17:29.429Z"
      },
      {
        "duration": 55,
        "start_time": "2022-07-14T14:17:29.511Z"
      },
      {
        "duration": 121,
        "start_time": "2022-07-14T14:17:29.567Z"
      },
      {
        "duration": 81,
        "start_time": "2022-07-14T14:17:29.690Z"
      },
      {
        "duration": 794,
        "start_time": "2022-07-14T14:17:29.773Z"
      },
      {
        "duration": 33,
        "start_time": "2022-07-14T14:17:30.569Z"
      },
      {
        "duration": 41,
        "start_time": "2022-07-14T14:17:30.604Z"
      },
      {
        "duration": 55,
        "start_time": "2022-07-14T14:17:30.647Z"
      },
      {
        "duration": 3,
        "start_time": "2022-07-14T14:17:30.704Z"
      },
      {
        "duration": 211,
        "start_time": "2022-07-14T14:17:30.709Z"
      },
      {
        "duration": 85,
        "start_time": "2022-07-14T14:17:30.921Z"
      },
      {
        "duration": 7,
        "start_time": "2022-07-14T14:17:31.008Z"
      },
      {
        "duration": 11,
        "start_time": "2022-07-14T14:17:31.017Z"
      },
      {
        "duration": 15,
        "start_time": "2022-07-14T14:17:31.029Z"
      },
      {
        "duration": 10,
        "start_time": "2022-07-14T14:17:31.045Z"
      },
      {
        "duration": 8,
        "start_time": "2022-07-14T14:17:31.056Z"
      },
      {
        "duration": 10,
        "start_time": "2022-07-14T14:17:31.066Z"
      },
      {
        "duration": 69,
        "start_time": "2022-07-14T14:17:31.078Z"
      },
      {
        "duration": 77,
        "start_time": "2022-07-14T14:17:31.149Z"
      },
      {
        "duration": 103,
        "start_time": "2022-07-14T14:17:31.304Z"
      },
      {
        "duration": 19010,
        "start_time": "2022-07-14T14:17:31.409Z"
      },
      {
        "duration": 14,
        "start_time": "2022-07-14T14:17:50.421Z"
      },
      {
        "duration": 4,
        "start_time": "2022-07-14T14:17:50.436Z"
      },
      {
        "duration": 142492,
        "start_time": "2022-07-14T14:17:50.443Z"
      },
      {
        "duration": 66,
        "start_time": "2022-07-14T14:20:12.937Z"
      },
      {
        "duration": 4,
        "start_time": "2022-07-14T14:20:13.004Z"
      },
      {
        "duration": 5,
        "start_time": "2022-07-14T14:20:13.010Z"
      },
      {
        "duration": 6785,
        "start_time": "2022-07-14T14:20:13.017Z"
      },
      {
        "duration": 24,
        "start_time": "2022-07-14T14:20:19.804Z"
      },
      {
        "duration": 3,
        "start_time": "2022-07-14T14:20:19.829Z"
      },
      {
        "duration": 8,
        "start_time": "2022-07-14T14:20:19.834Z"
      },
      {
        "duration": 6,
        "start_time": "2022-07-14T14:20:19.844Z"
      },
      {
        "duration": 6,
        "start_time": "2022-07-14T14:20:19.851Z"
      },
      {
        "duration": 4,
        "start_time": "2022-07-14T14:20:19.859Z"
      },
      {
        "duration": 7,
        "start_time": "2022-07-14T14:20:19.865Z"
      },
      {
        "duration": 29,
        "start_time": "2022-07-14T14:20:19.874Z"
      },
      {
        "duration": 1217,
        "start_time": "2022-07-15T10:16:27.685Z"
      },
      {
        "duration": 2,
        "start_time": "2022-07-15T10:16:28.904Z"
      },
      {
        "duration": 6,
        "start_time": "2022-07-15T10:16:28.908Z"
      },
      {
        "duration": 5,
        "start_time": "2022-07-15T10:16:28.916Z"
      },
      {
        "duration": 2909,
        "start_time": "2022-07-15T10:16:28.923Z"
      },
      {
        "duration": 8,
        "start_time": "2022-07-15T10:16:31.834Z"
      },
      {
        "duration": 16,
        "start_time": "2022-07-15T10:16:31.843Z"
      },
      {
        "duration": 101,
        "start_time": "2022-07-15T10:16:31.860Z"
      },
      {
        "duration": 97,
        "start_time": "2022-07-15T10:16:31.963Z"
      },
      {
        "duration": 13,
        "start_time": "2022-07-15T10:16:32.062Z"
      },
      {
        "duration": 2,
        "start_time": "2022-07-15T10:16:32.077Z"
      },
      {
        "duration": 83,
        "start_time": "2022-07-15T10:16:32.102Z"
      },
      {
        "duration": 762,
        "start_time": "2022-07-15T10:16:32.186Z"
      },
      {
        "duration": 1720,
        "start_time": "2022-07-15T10:16:32.951Z"
      },
      {
        "duration": 62,
        "start_time": "2022-07-15T10:16:34.672Z"
      },
      {
        "duration": 92,
        "start_time": "2022-07-15T10:16:34.736Z"
      },
      {
        "duration": 77,
        "start_time": "2022-07-15T10:16:34.830Z"
      },
      {
        "duration": 83,
        "start_time": "2022-07-15T10:16:34.909Z"
      },
      {
        "duration": 68,
        "start_time": "2022-07-15T10:16:34.993Z"
      },
      {
        "duration": 124,
        "start_time": "2022-07-15T10:16:35.062Z"
      },
      {
        "duration": 97,
        "start_time": "2022-07-15T10:16:35.188Z"
      },
      {
        "duration": 821,
        "start_time": "2022-07-15T10:16:35.287Z"
      },
      {
        "duration": 123,
        "start_time": "2022-07-15T10:16:36.110Z"
      },
      {
        "duration": 53,
        "start_time": "2022-07-15T10:16:36.235Z"
      },
      {
        "duration": 44,
        "start_time": "2022-07-15T10:16:36.290Z"
      },
      {
        "duration": 3,
        "start_time": "2022-07-15T10:16:36.335Z"
      },
      {
        "duration": 226,
        "start_time": "2022-07-15T10:16:36.340Z"
      },
      {
        "duration": 145,
        "start_time": "2022-07-15T10:16:36.567Z"
      },
      {
        "duration": 0,
        "start_time": "2022-07-15T10:16:36.714Z"
      },
      {
        "duration": 0,
        "start_time": "2022-07-15T10:16:36.715Z"
      },
      {
        "duration": 0,
        "start_time": "2022-07-15T10:16:36.716Z"
      },
      {
        "duration": 0,
        "start_time": "2022-07-15T10:16:36.717Z"
      },
      {
        "duration": 0,
        "start_time": "2022-07-15T10:16:36.718Z"
      },
      {
        "duration": 0,
        "start_time": "2022-07-15T10:16:36.718Z"
      },
      {
        "duration": 0,
        "start_time": "2022-07-15T10:16:36.719Z"
      },
      {
        "duration": 0,
        "start_time": "2022-07-15T10:16:36.720Z"
      },
      {
        "duration": 0,
        "start_time": "2022-07-15T10:16:36.721Z"
      },
      {
        "duration": 0,
        "start_time": "2022-07-15T10:16:36.721Z"
      },
      {
        "duration": 0,
        "start_time": "2022-07-15T10:16:36.722Z"
      },
      {
        "duration": 0,
        "start_time": "2022-07-15T10:16:36.723Z"
      },
      {
        "duration": 0,
        "start_time": "2022-07-15T10:16:36.724Z"
      },
      {
        "duration": 0,
        "start_time": "2022-07-15T10:16:36.725Z"
      },
      {
        "duration": 0,
        "start_time": "2022-07-15T10:16:36.725Z"
      },
      {
        "duration": 0,
        "start_time": "2022-07-15T10:16:36.726Z"
      },
      {
        "duration": 0,
        "start_time": "2022-07-15T10:16:36.727Z"
      },
      {
        "duration": 0,
        "start_time": "2022-07-15T10:16:36.728Z"
      },
      {
        "duration": 0,
        "start_time": "2022-07-15T10:16:36.729Z"
      },
      {
        "duration": 0,
        "start_time": "2022-07-15T10:16:36.730Z"
      },
      {
        "duration": 0,
        "start_time": "2022-07-15T10:16:36.731Z"
      },
      {
        "duration": 0,
        "start_time": "2022-07-15T10:16:36.732Z"
      },
      {
        "duration": 0,
        "start_time": "2022-07-15T10:16:36.733Z"
      },
      {
        "duration": 0,
        "start_time": "2022-07-15T10:16:36.734Z"
      },
      {
        "duration": 0,
        "start_time": "2022-07-15T10:16:36.735Z"
      },
      {
        "duration": 31,
        "start_time": "2022-07-15T10:17:15.937Z"
      },
      {
        "duration": 7,
        "start_time": "2022-07-15T10:17:22.981Z"
      },
      {
        "duration": 7,
        "start_time": "2022-07-15T10:17:22.990Z"
      },
      {
        "duration": 4,
        "start_time": "2022-07-15T10:17:22.998Z"
      },
      {
        "duration": 6,
        "start_time": "2022-07-15T10:17:23.004Z"
      },
      {
        "duration": 6,
        "start_time": "2022-07-15T10:17:23.011Z"
      },
      {
        "duration": 4,
        "start_time": "2022-07-15T10:17:23.019Z"
      },
      {
        "duration": 79,
        "start_time": "2022-07-15T10:17:23.026Z"
      },
      {
        "duration": 5,
        "start_time": "2022-07-15T10:17:23.106Z"
      },
      {
        "duration": 103,
        "start_time": "2022-07-15T10:17:23.112Z"
      },
      {
        "duration": 9391,
        "start_time": "2022-07-15T10:17:23.217Z"
      },
      {
        "duration": 10,
        "start_time": "2022-07-15T10:17:32.610Z"
      },
      {
        "duration": 4,
        "start_time": "2022-07-15T10:17:32.621Z"
      },
      {
        "duration": 73489,
        "start_time": "2022-07-15T10:17:32.628Z"
      },
      {
        "duration": 57,
        "start_time": "2022-07-15T10:18:46.120Z"
      },
      {
        "duration": 4,
        "start_time": "2022-07-15T10:18:46.178Z"
      },
      {
        "duration": 4,
        "start_time": "2022-07-15T10:18:46.183Z"
      },
      {
        "duration": 5658,
        "start_time": "2022-07-15T10:18:46.202Z"
      },
      {
        "duration": 20,
        "start_time": "2022-07-15T10:18:51.862Z"
      },
      {
        "duration": 4,
        "start_time": "2022-07-15T10:18:51.883Z"
      },
      {
        "duration": 6,
        "start_time": "2022-07-15T10:18:51.888Z"
      },
      {
        "duration": 327209,
        "start_time": "2022-07-15T10:18:51.895Z"
      },
      {
        "duration": 419,
        "start_time": "2022-07-15T10:24:19.106Z"
      },
      {
        "duration": 4,
        "start_time": "2022-07-15T10:24:19.527Z"
      },
      {
        "duration": 75,
        "start_time": "2022-07-15T10:24:19.533Z"
      },
      {
        "duration": 21,
        "start_time": "2022-07-15T10:24:19.614Z"
      },
      {
        "duration": 1217,
        "start_time": "2022-07-15T10:46:28.788Z"
      },
      {
        "duration": 3,
        "start_time": "2022-07-15T10:46:30.007Z"
      },
      {
        "duration": 8,
        "start_time": "2022-07-15T10:46:30.011Z"
      },
      {
        "duration": 5,
        "start_time": "2022-07-15T10:46:30.020Z"
      },
      {
        "duration": 766,
        "start_time": "2022-07-15T10:46:30.027Z"
      },
      {
        "duration": 10,
        "start_time": "2022-07-15T10:46:30.795Z"
      },
      {
        "duration": 12,
        "start_time": "2022-07-15T10:46:30.807Z"
      },
      {
        "duration": 109,
        "start_time": "2022-07-15T10:46:30.820Z"
      },
      {
        "duration": 97,
        "start_time": "2022-07-15T10:46:30.930Z"
      },
      {
        "duration": 14,
        "start_time": "2022-07-15T10:46:31.028Z"
      },
      {
        "duration": 2,
        "start_time": "2022-07-15T10:46:31.044Z"
      },
      {
        "duration": 112,
        "start_time": "2022-07-15T10:46:31.047Z"
      },
      {
        "duration": 761,
        "start_time": "2022-07-15T10:46:31.160Z"
      },
      {
        "duration": 1395,
        "start_time": "2022-07-15T10:46:31.924Z"
      },
      {
        "duration": 42,
        "start_time": "2022-07-15T10:46:33.321Z"
      },
      {
        "duration": 106,
        "start_time": "2022-07-15T10:46:33.365Z"
      },
      {
        "duration": 77,
        "start_time": "2022-07-15T10:46:33.473Z"
      },
      {
        "duration": 83,
        "start_time": "2022-07-15T10:46:33.552Z"
      },
      {
        "duration": 58,
        "start_time": "2022-07-15T10:46:33.637Z"
      },
      {
        "duration": 122,
        "start_time": "2022-07-15T10:46:33.702Z"
      },
      {
        "duration": 81,
        "start_time": "2022-07-15T10:46:33.825Z"
      },
      {
        "duration": 797,
        "start_time": "2022-07-15T10:46:33.908Z"
      },
      {
        "duration": 125,
        "start_time": "2022-07-15T10:46:34.706Z"
      },
      {
        "duration": 49,
        "start_time": "2022-07-15T10:46:34.833Z"
      },
      {
        "duration": 46,
        "start_time": "2022-07-15T10:46:34.884Z"
      },
      {
        "duration": 2,
        "start_time": "2022-07-15T10:46:34.931Z"
      },
      {
        "duration": 224,
        "start_time": "2022-07-15T10:46:34.935Z"
      },
      {
        "duration": 34,
        "start_time": "2022-07-15T10:46:35.160Z"
      },
      {
        "duration": 10,
        "start_time": "2022-07-15T10:46:35.196Z"
      },
      {
        "duration": 14,
        "start_time": "2022-07-15T10:46:35.207Z"
      },
      {
        "duration": 7,
        "start_time": "2022-07-15T10:46:35.223Z"
      },
      {
        "duration": 7,
        "start_time": "2022-07-15T10:46:35.232Z"
      },
      {
        "duration": 14,
        "start_time": "2022-07-15T10:46:35.241Z"
      },
      {
        "duration": 7,
        "start_time": "2022-07-15T10:46:35.256Z"
      },
      {
        "duration": 45,
        "start_time": "2022-07-15T10:46:35.264Z"
      },
      {
        "duration": 91,
        "start_time": "2022-07-15T10:46:35.311Z"
      },
      {
        "duration": 102,
        "start_time": "2022-07-15T10:46:35.404Z"
      },
      {
        "duration": 8373,
        "start_time": "2022-07-15T10:46:35.508Z"
      },
      {
        "duration": 10,
        "start_time": "2022-07-15T10:46:43.882Z"
      },
      {
        "duration": 4,
        "start_time": "2022-07-15T10:46:43.902Z"
      },
      {
        "duration": 71316,
        "start_time": "2022-07-15T10:46:43.911Z"
      },
      {
        "duration": 61,
        "start_time": "2022-07-15T10:47:55.228Z"
      },
      {
        "duration": 13,
        "start_time": "2022-07-15T10:47:55.290Z"
      },
      {
        "duration": 4,
        "start_time": "2022-07-15T10:47:55.305Z"
      },
      {
        "duration": 41269,
        "start_time": "2022-07-15T10:47:55.310Z"
      },
      {
        "duration": 137,
        "start_time": "2022-07-15T10:48:36.581Z"
      },
      {
        "duration": 3,
        "start_time": "2022-07-15T10:48:36.720Z"
      },
      {
        "duration": 23,
        "start_time": "2022-07-15T10:48:36.725Z"
      },
      {
        "duration": 6656,
        "start_time": "2022-07-15T10:48:36.750Z"
      },
      {
        "duration": 713,
        "start_time": "2022-07-15T10:48:43.407Z"
      },
      {
        "duration": 4,
        "start_time": "2022-07-15T10:48:44.122Z"
      },
      {
        "duration": 9,
        "start_time": "2022-07-15T10:48:44.128Z"
      },
      {
        "duration": 10,
        "start_time": "2022-07-15T10:48:44.139Z"
      },
      {
        "duration": 1291,
        "start_time": "2022-07-15T11:01:47.080Z"
      },
      {
        "duration": 3,
        "start_time": "2022-07-15T11:01:48.373Z"
      },
      {
        "duration": 7,
        "start_time": "2022-07-15T11:01:48.378Z"
      },
      {
        "duration": 5,
        "start_time": "2022-07-15T11:01:48.387Z"
      },
      {
        "duration": 772,
        "start_time": "2022-07-15T11:01:48.394Z"
      },
      {
        "duration": 8,
        "start_time": "2022-07-15T11:01:49.168Z"
      },
      {
        "duration": 5,
        "start_time": "2022-07-15T11:01:49.177Z"
      },
      {
        "duration": 121,
        "start_time": "2022-07-15T11:01:49.183Z"
      },
      {
        "duration": 105,
        "start_time": "2022-07-15T11:01:49.305Z"
      },
      {
        "duration": 26,
        "start_time": "2022-07-15T11:01:49.411Z"
      },
      {
        "duration": 7,
        "start_time": "2022-07-15T11:01:49.438Z"
      },
      {
        "duration": 96,
        "start_time": "2022-07-15T11:01:49.447Z"
      },
      {
        "duration": 809,
        "start_time": "2022-07-15T11:01:49.544Z"
      },
      {
        "duration": 1409,
        "start_time": "2022-07-15T11:01:50.356Z"
      },
      {
        "duration": 50,
        "start_time": "2022-07-15T11:01:51.766Z"
      },
      {
        "duration": 95,
        "start_time": "2022-07-15T11:01:51.817Z"
      },
      {
        "duration": 74,
        "start_time": "2022-07-15T11:01:51.914Z"
      },
      {
        "duration": 81,
        "start_time": "2022-07-15T11:01:51.989Z"
      },
      {
        "duration": 64,
        "start_time": "2022-07-15T11:01:52.072Z"
      },
      {
        "duration": 109,
        "start_time": "2022-07-15T11:01:52.138Z"
      },
      {
        "duration": 79,
        "start_time": "2022-07-15T11:01:52.248Z"
      },
      {
        "duration": 794,
        "start_time": "2022-07-15T11:01:52.328Z"
      },
      {
        "duration": 117,
        "start_time": "2022-07-15T11:01:53.123Z"
      },
      {
        "duration": 47,
        "start_time": "2022-07-15T11:01:53.241Z"
      },
      {
        "duration": 44,
        "start_time": "2022-07-15T11:01:53.289Z"
      },
      {
        "duration": 2,
        "start_time": "2022-07-15T11:01:53.335Z"
      },
      {
        "duration": 135,
        "start_time": "2022-07-15T11:01:53.339Z"
      },
      {
        "duration": 29,
        "start_time": "2022-07-15T11:01:53.475Z"
      },
      {
        "duration": 6,
        "start_time": "2022-07-15T11:01:53.505Z"
      },
      {
        "duration": 6,
        "start_time": "2022-07-15T11:01:53.513Z"
      },
      {
        "duration": 3,
        "start_time": "2022-07-15T11:01:53.520Z"
      },
      {
        "duration": 5,
        "start_time": "2022-07-15T11:01:53.525Z"
      },
      {
        "duration": 4,
        "start_time": "2022-07-15T11:01:53.532Z"
      },
      {
        "duration": 4,
        "start_time": "2022-07-15T11:01:53.538Z"
      },
      {
        "duration": 60,
        "start_time": "2022-07-15T11:01:53.543Z"
      },
      {
        "duration": 9,
        "start_time": "2022-07-15T11:01:53.605Z"
      },
      {
        "duration": 88,
        "start_time": "2022-07-15T11:01:53.616Z"
      },
      {
        "duration": 5330,
        "start_time": "2022-07-15T11:01:53.706Z"
      },
      {
        "duration": 12,
        "start_time": "2022-07-15T11:01:59.037Z"
      },
      {
        "duration": 5,
        "start_time": "2022-07-15T11:01:59.050Z"
      },
      {
        "duration": 53995,
        "start_time": "2022-07-15T11:01:59.058Z"
      },
      {
        "duration": 59,
        "start_time": "2022-07-15T11:02:53.054Z"
      },
      {
        "duration": 3,
        "start_time": "2022-07-15T11:02:53.115Z"
      },
      {
        "duration": 6,
        "start_time": "2022-07-15T11:02:53.120Z"
      },
      {
        "duration": 42943,
        "start_time": "2022-07-15T11:02:53.127Z"
      },
      {
        "duration": 142,
        "start_time": "2022-07-15T11:03:36.071Z"
      },
      {
        "duration": 4,
        "start_time": "2022-07-15T11:03:36.214Z"
      },
      {
        "duration": 5,
        "start_time": "2022-07-15T11:03:36.220Z"
      },
      {
        "duration": 35676,
        "start_time": "2022-07-15T11:03:36.226Z"
      },
      {
        "duration": 709,
        "start_time": "2022-07-15T11:04:11.904Z"
      },
      {
        "duration": 4,
        "start_time": "2022-07-15T11:04:12.615Z"
      },
      {
        "duration": 34,
        "start_time": "2022-07-15T11:04:12.620Z"
      },
      {
        "duration": 24,
        "start_time": "2022-07-15T11:04:12.656Z"
      },
      {
        "duration": 1245,
        "start_time": "2022-07-15T11:05:19.748Z"
      },
      {
        "duration": 2,
        "start_time": "2022-07-15T11:05:21.002Z"
      },
      {
        "duration": 7,
        "start_time": "2022-07-15T11:05:21.005Z"
      },
      {
        "duration": 5,
        "start_time": "2022-07-15T11:05:21.014Z"
      },
      {
        "duration": 794,
        "start_time": "2022-07-15T11:05:21.021Z"
      },
      {
        "duration": 10,
        "start_time": "2022-07-15T11:05:21.817Z"
      },
      {
        "duration": 17,
        "start_time": "2022-07-15T11:05:21.828Z"
      },
      {
        "duration": 123,
        "start_time": "2022-07-15T11:05:21.847Z"
      },
      {
        "duration": 100,
        "start_time": "2022-07-15T11:05:21.972Z"
      },
      {
        "duration": 13,
        "start_time": "2022-07-15T11:05:22.073Z"
      },
      {
        "duration": 15,
        "start_time": "2022-07-15T11:05:22.088Z"
      },
      {
        "duration": 92,
        "start_time": "2022-07-15T11:05:22.105Z"
      },
      {
        "duration": 797,
        "start_time": "2022-07-15T11:05:22.202Z"
      },
      {
        "duration": 1481,
        "start_time": "2022-07-15T11:05:23.004Z"
      },
      {
        "duration": 48,
        "start_time": "2022-07-15T11:05:24.487Z"
      },
      {
        "duration": 103,
        "start_time": "2022-07-15T11:05:24.537Z"
      },
      {
        "duration": 81,
        "start_time": "2022-07-15T11:05:24.641Z"
      },
      {
        "duration": 80,
        "start_time": "2022-07-15T11:05:24.724Z"
      },
      {
        "duration": 58,
        "start_time": "2022-07-15T11:05:24.805Z"
      },
      {
        "duration": 127,
        "start_time": "2022-07-15T11:05:24.865Z"
      },
      {
        "duration": 82,
        "start_time": "2022-07-15T11:05:24.994Z"
      },
      {
        "duration": 905,
        "start_time": "2022-07-15T11:05:25.078Z"
      },
      {
        "duration": 126,
        "start_time": "2022-07-15T11:05:25.984Z"
      },
      {
        "duration": 48,
        "start_time": "2022-07-15T11:05:26.112Z"
      },
      {
        "duration": 45,
        "start_time": "2022-07-15T11:05:26.162Z"
      },
      {
        "duration": 3,
        "start_time": "2022-07-15T11:05:26.209Z"
      },
      {
        "duration": 140,
        "start_time": "2022-07-15T11:05:26.213Z"
      },
      {
        "duration": 23,
        "start_time": "2022-07-15T11:05:26.355Z"
      },
      {
        "duration": 6,
        "start_time": "2022-07-15T11:05:26.379Z"
      },
      {
        "duration": 21,
        "start_time": "2022-07-15T11:05:26.387Z"
      },
      {
        "duration": 3,
        "start_time": "2022-07-15T11:05:26.410Z"
      },
      {
        "duration": 6,
        "start_time": "2022-07-15T11:05:26.415Z"
      },
      {
        "duration": 12,
        "start_time": "2022-07-15T11:05:26.422Z"
      },
      {
        "duration": 5,
        "start_time": "2022-07-15T11:05:26.436Z"
      },
      {
        "duration": 24,
        "start_time": "2022-07-15T11:05:26.442Z"
      },
      {
        "duration": 40,
        "start_time": "2022-07-15T11:05:26.467Z"
      },
      {
        "duration": 99,
        "start_time": "2022-07-15T11:05:26.510Z"
      },
      {
        "duration": 5481,
        "start_time": "2022-07-15T11:05:26.611Z"
      },
      {
        "duration": 19,
        "start_time": "2022-07-15T11:05:32.094Z"
      },
      {
        "duration": 7,
        "start_time": "2022-07-15T11:05:32.115Z"
      },
      {
        "duration": 55646,
        "start_time": "2022-07-15T11:05:32.126Z"
      },
      {
        "duration": 64,
        "start_time": "2022-07-15T11:06:27.773Z"
      },
      {
        "duration": 4,
        "start_time": "2022-07-15T11:06:27.839Z"
      },
      {
        "duration": 14,
        "start_time": "2022-07-15T11:06:27.844Z"
      },
      {
        "duration": 44056,
        "start_time": "2022-07-15T11:06:27.860Z"
      },
      {
        "duration": 143,
        "start_time": "2022-07-15T11:07:11.918Z"
      },
      {
        "duration": 4,
        "start_time": "2022-07-15T11:07:12.063Z"
      },
      {
        "duration": 4,
        "start_time": "2022-07-15T11:07:12.069Z"
      },
      {
        "duration": 28033,
        "start_time": "2022-07-15T11:07:12.074Z"
      },
      {
        "duration": 717,
        "start_time": "2022-07-15T11:07:40.108Z"
      },
      {
        "duration": 4,
        "start_time": "2022-07-15T11:07:40.827Z"
      },
      {
        "duration": 8,
        "start_time": "2022-07-15T11:07:40.833Z"
      },
      {
        "duration": 64,
        "start_time": "2022-07-15T11:07:40.842Z"
      },
      {
        "duration": 1483,
        "start_time": "2022-07-15T14:23:55.613Z"
      },
      {
        "duration": 3,
        "start_time": "2022-07-15T14:23:57.098Z"
      },
      {
        "duration": 5,
        "start_time": "2022-07-15T14:23:57.103Z"
      },
      {
        "duration": 10,
        "start_time": "2022-07-15T14:23:57.110Z"
      },
      {
        "duration": 1181,
        "start_time": "2022-07-15T14:23:57.124Z"
      },
      {
        "duration": 8,
        "start_time": "2022-07-15T14:23:58.307Z"
      },
      {
        "duration": 35,
        "start_time": "2022-07-15T14:23:58.317Z"
      },
      {
        "duration": 156,
        "start_time": "2022-07-15T14:23:58.354Z"
      },
      {
        "duration": 144,
        "start_time": "2022-07-15T14:23:58.512Z"
      },
      {
        "duration": 15,
        "start_time": "2022-07-15T14:23:58.658Z"
      },
      {
        "duration": 21,
        "start_time": "2022-07-15T14:23:58.675Z"
      },
      {
        "duration": 149,
        "start_time": "2022-07-15T14:23:58.698Z"
      },
      {
        "duration": 969,
        "start_time": "2022-07-15T14:23:58.850Z"
      },
      {
        "duration": 2049,
        "start_time": "2022-07-15T14:23:59.823Z"
      },
      {
        "duration": 79,
        "start_time": "2022-07-15T14:24:01.875Z"
      },
      {
        "duration": 104,
        "start_time": "2022-07-15T14:24:01.956Z"
      },
      {
        "duration": 96,
        "start_time": "2022-07-15T14:24:02.062Z"
      },
      {
        "duration": 123,
        "start_time": "2022-07-15T14:24:02.161Z"
      },
      {
        "duration": 79,
        "start_time": "2022-07-15T14:24:02.287Z"
      },
      {
        "duration": 165,
        "start_time": "2022-07-15T14:24:02.369Z"
      },
      {
        "duration": 100,
        "start_time": "2022-07-15T14:24:02.537Z"
      },
      {
        "duration": 890,
        "start_time": "2022-07-15T14:24:02.639Z"
      },
      {
        "duration": 132,
        "start_time": "2022-07-15T14:24:03.531Z"
      },
      {
        "duration": 60,
        "start_time": "2022-07-15T14:24:03.665Z"
      },
      {
        "duration": 37,
        "start_time": "2022-07-15T14:24:03.727Z"
      },
      {
        "duration": 6,
        "start_time": "2022-07-15T14:24:03.767Z"
      },
      {
        "duration": 163,
        "start_time": "2022-07-15T14:24:03.774Z"
      },
      {
        "duration": 24,
        "start_time": "2022-07-15T14:24:03.939Z"
      },
      {
        "duration": 12,
        "start_time": "2022-07-15T14:24:03.965Z"
      },
      {
        "duration": 36,
        "start_time": "2022-07-15T14:24:03.979Z"
      },
      {
        "duration": 3,
        "start_time": "2022-07-15T14:24:18.276Z"
      },
      {
        "duration": 443185,
        "start_time": "2022-07-15T14:24:21.325Z"
      },
      {
        "duration": 998,
        "start_time": "2022-07-15T14:31:44.512Z"
      },
      {
        "duration": 77,
        "start_time": "2022-07-15T14:44:19.269Z"
      },
      {
        "duration": 5,
        "start_time": "2022-07-15T14:44:31.386Z"
      }
    ],
    "kernelspec": {
      "display_name": "Python 3 (ipykernel)",
      "language": "python",
      "name": "python3"
    },
    "language_info": {
      "codemirror_mode": {
        "name": "ipython",
        "version": 3
      },
      "file_extension": ".py",
      "mimetype": "text/x-python",
      "name": "python",
      "nbconvert_exporter": "python",
      "pygments_lexer": "ipython3",
      "version": "3.9.5"
    },
    "toc": {
      "base_numbering": 1,
      "nav_menu": {},
      "number_sections": true,
      "sideBar": true,
      "skip_h1_title": true,
      "title_cell": "Table of Contents",
      "title_sidebar": "Contents",
      "toc_cell": false,
      "toc_position": {
        "height": "273px",
        "left": "0px",
        "top": "111.125px",
        "width": "241.594px"
      },
      "toc_section_display": true,
      "toc_window_display": false
    },
    "colab": {
      "provenance": []
    }
  },
  "nbformat": 4,
  "nbformat_minor": 0
}